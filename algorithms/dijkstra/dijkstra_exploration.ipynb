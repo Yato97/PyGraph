{
 "cells": [
  {
   "cell_type": "code",
   "execution_count": 339,
   "id": "c99e85cb",
   "metadata": {
    "jupyter": {
     "source_hidden": true
    },
    "tags": []
   },
   "outputs": [],
   "source": [
    "\"\"\"\n",
    "pygraph.py\n",
    "\n",
    "Un petit module pour créer des graphes (non orienté, orienté ou bi-partie)\n",
    "Avec visualisation via Graphviz et possibilité de modifier quelques propriétés visuelles (couleur, forme, étiquette)\n",
    "\n",
    "Auteur  : Sébastien Hoarau\n",
    "Date    : 2021-08\n",
    "Licence : CC BY-NC-SA 4.0 http://creativecommons.org/licenses/by-nc-sa/4.0/\n",
    "Site    : gitlab.com/sebhoa/pygraph/\n",
    "\n",
    "TODO\n",
    "----\n",
    "    - Plus de tests. Il reste probablement beaucoup de bugs à corriger\n",
    "    - Ajouter d'autres algorithmes sur les graphes\n",
    "    - traiter des graphes valués\n",
    "\"\"\"\n",
    "\n",
    "import graphviz as gv\n",
    "import networkx as nx\n",
    "import random\n",
    "import string\n",
    "import json\n",
    "\n",
    "# ----------\n",
    "# CONSTANTES\n",
    "\n",
    "# -- about shape and label\n",
    "#\n",
    "CIRCLE = 'circle'\n",
    "SQUARE = 'square'\n",
    "NOLABEL = ''\n",
    "\n",
    "# Revoir plus tard le coup des emoji comme label\n",
    "ANIMALS = ''.join([chr(n) for n in range(0x1f400,0x1f440)])\n",
    "PEOPLE1 = ''.join([chr(n) for n in range(0x1f9d1, 0x1f9d5)]) \n",
    "PEOPLE2 = ''.join([chr(n) for n in range(0x1f466, 0x1f46a)])\n",
    "PEOPLE3 = ''.join([chr(n) for n in range(0x1f474, 0x1f477)])\n",
    "PEOPLE4 = chr(0x1f471)\n",
    "\n",
    "# -- about colors\n",
    "\n",
    "# color_id\n",
    "WHITE = -1\n",
    "LIGHTBLUE = 0\n",
    "LEMONCHIFFON = 1\n",
    "PINK1 = 2\n",
    "LIGHTGREEN = 3\n",
    "IVORY2 = 4\n",
    "SIENNA1 = 5\n",
    "BLACK = 6\n",
    "\n",
    "\n",
    "# tuple of colors\n",
    "COLORS = 'lightblue', 'lemonchiffon', 'pink1', 'lightgreen', 'ivory2', 'sienna1', 'black', 'white'\n",
    "\n",
    "# -- about edges and nodes dimensions\n",
    "ARROWSIZE = '0.5'\n",
    "NODE_MARGIN = '0.02'\n",
    "NODE_WIDTH = '0.3'\n",
    "NODE_HEIGHT = '0.3'\n",
    "SMALL_NODE_WIDTH = '0.1'\n",
    "SMALL_NODE_HEIGHT = '0.1'\n",
    "\n",
    "# -----------\n",
    "# LES CLASSES\n",
    "\n",
    "class NodeView:\n",
    "    \"\"\"\n",
    "    La classe NodeView modélise les propriétés d'un noeud pour sa visualisation. \n",
    "    Cet objet est stocké comme information supplémentaire du modèle networkx\n",
    "    \n",
    "    Parameters\n",
    "    ----------\n",
    "        gv : graphviz.Graph | graphviz.Digraph\n",
    "            la vue à laquelle cette vue noeud est rattachée\n",
    "        node_id : int\n",
    "            numéro identifiant le sommet\n",
    "        color_id : int\n",
    "            un numéro de couleur (valeur par défaut -1)\n",
    "    \"\"\"\n",
    "\n",
    "    def __init__(self, gv, node_id, color_id=WHITE):        \n",
    "        self.__gv = gv\n",
    "        self.__id = node_id \n",
    "        self.__color_id = color_id\n",
    "        self.__pos = None\n",
    "        self.__label = str(node_id)\n",
    "        self.__ech = 1\n",
    "        self.__width = NODE_WIDTH\n",
    "    \n",
    "    # Public attributes\n",
    "    \n",
    "    @property\n",
    "    def id(self):\n",
    "        return self.__id\n",
    "        \n",
    "    @property\n",
    "    def color_id(self):\n",
    "        return self.__color_id\n",
    "    \n",
    "    @color_id.setter\n",
    "    def color_id(self, color_id):\n",
    "        self.__color_id = min(max(-len(COLORS), color_id), len(COLORS)-1)\n",
    "    \n",
    "    @property\n",
    "    def pos(self):\n",
    "        return self.__pos\n",
    "    \n",
    "    @pos.setter\n",
    "    def pos(self, pos):\n",
    "        self.__pos = pos\n",
    "        \n",
    "    @property\n",
    "    def width(self):\n",
    "        return self.__width\n",
    "    \n",
    "    @width.setter\n",
    "    def width(self, width):\n",
    "        self.__width = width\n",
    "\n",
    "    @property\n",
    "    def ech(self):\n",
    "        return self.__ech\n",
    "    \n",
    "    @ech.setter\n",
    "    def ech(self, ech):\n",
    "        self.__ech = ech\n",
    "\n",
    "    @property\n",
    "    def label(self):\n",
    "        return self.__label\n",
    "    \n",
    "    @label.setter\n",
    "    def label(self, label):\n",
    "        if not isinstance(label, str):\n",
    "            label = str(self.id)\n",
    "        self.__label = label\n",
    "    \n",
    "    @property\n",
    "    def gv(self):\n",
    "        return self.__gv\n",
    "   \n",
    "    \n",
    "    # View modification methods\n",
    "    \n",
    "    def create(self):\n",
    "        self.__gv.node(str(self.id), self.label, shape=CIRCLE, style='filled', fillcolor=self.color(), width=NODE_WIDTH, height=NODE_HEIGHT)\n",
    "    \n",
    "    \n",
    "    # -- about labels\n",
    "    \n",
    "    def label_on(self, label = None):\n",
    "        if label == None:\n",
    "            self.__gv.node(str(self.id), self.label)\n",
    "        else:\n",
    "            self.__gv.node(str(self.id), label)\n",
    "\n",
    "    def label_off(self):\n",
    "        self.__gv.node(str(self.id), NOLABEL)\n",
    "        \n",
    "    def label_on_side(self, label = None):\n",
    "        if label == None:\n",
    "            self.__gv.node(str(self.id), xlabel=self.label)\n",
    "        else:\n",
    "            self.__gv.node(str(self.id), xlabel=label)\n",
    "\n",
    "    def label_off_side(self):\n",
    "        self.__gv.node(str(self.id), xlabel=NOLABEL)\n",
    "        \n",
    "    \n",
    "    # -- about colors\n",
    "    \n",
    "    def color(self):\n",
    "        return COLORS[self.color_id]\n",
    "    \n",
    "    def color_on(self, color=None):\n",
    "        if isinstance(color, str):\n",
    "            color_str = color\n",
    "        elif isinstance(color, int):\n",
    "            try:\n",
    "                color_str = COLORS[color]\n",
    "            except:\n",
    "                color_str = COLORS[WHITE]\n",
    "        else:\n",
    "            color_str = self.color()\n",
    "        self.__gv.node(str(self.id), style='filled', fillcolor=color_str)\n",
    "\n",
    "    def color_off(self):\n",
    "        self.__gv.node(str(self.id), style='filled', fillcolor=COLORS[WHITE])\n",
    "        \n",
    "        \n",
    "    # -- about position and size\n",
    "    \n",
    "    def _is_positioned(self):\n",
    "        return self.pos is not None\n",
    "\n",
    "    def move(self, dx, dy):\n",
    "        if self._is_positioned():\n",
    "            self.pos = self.pos[0] + dx, self.pos[1] + dy\n",
    "\n",
    "    def place(self, ech=None):\n",
    "        if self._is_positioned():\n",
    "            ech = self.ech if ech is None else ech\n",
    "            self.ech = ech\n",
    "            x, y = self.pos\n",
    "            pos = f'{x*ech},{y*ech}!'\n",
    "            self.__gv.node(str(self.id), pos=pos)\n",
    "            \n",
    "        \n",
    "    def size(self, *dim):\n",
    "        if len(dim) == 0:\n",
    "            w, h = NODE_WIDTH, NODE_HEIGHT\n",
    "            self.width = NODE_WIDTH\n",
    "        elif len(dim) == 1:\n",
    "            w, h = dim[0], dim[0]\n",
    "            self.width = dim[0]\n",
    "        else:\n",
    "            w, h = dim\n",
    "            width = dim[0]\n",
    "        self.__gv.node(str(self.id), width=str(w), height=str(h))\n",
    "\n",
    "    \n",
    "class EdgeView:\n",
    "    \"\"\"\n",
    "    La classe EdgeView modélise les propriétés d'une arête ou d'un arc pour sa visualisation. \n",
    "    Cet objet est stocké comme information supplémentaire du modèle networkx\n",
    "    \n",
    "    Parameters\n",
    "    ----------\n",
    "        gv : graphviz.Graph | graphviz.Digraph\n",
    "            la vue à laquelle cette vue noeud est rattachée\n",
    "        edge : \n",
    "            couple de node_id identifiant l'arc/arête\n",
    "        color_id : int\n",
    "            un numéro de couleur (valeur par défaut -1)\n",
    "        weight : \n",
    "            La dimension l'attribut shape circle qui est égale à la hauteur\n",
    "    \"\"\"\n",
    "\n",
    "    def __init__(self, gv, node_src, node_dst, weight=None, color_id=BLACK):        \n",
    "        self.__gv = gv\n",
    "        self.__edge = (node_src, node_dst)\n",
    "        self.__color_id = color_id\n",
    "        self.__weight = weight\n",
    "        \n",
    "    # Public attributes\n",
    "    \n",
    "    @property\n",
    "    def edge(self):\n",
    "        return self.__edge\n",
    "        \n",
    "    @property\n",
    "    def color_id(self):\n",
    "        return self.__color_id\n",
    "    \n",
    "    @color_id.setter\n",
    "    def color_id(self, color_id):\n",
    "        self.__color_id = min(max(-len(COLORS), color_id), len(COLORS)-1)\n",
    "\n",
    "    @property\n",
    "    def weight(self):\n",
    "        return self.__weight\n",
    "    \n",
    "    @weight.setter\n",
    "    def weight(self, weight):\n",
    "        if not isinstance(weight, str):\n",
    "            weight = str(self.weight)\n",
    "        self.__weight = weight\n",
    "    \n",
    "    @property\n",
    "    def gv(self):\n",
    "        return self.__gv\n",
    "   \n",
    "    \n",
    "    # View modification methods\n",
    "    \n",
    "    def create(self):\n",
    "        if not self.weight:\n",
    "            self.__gv.edge(str(self.edge[0]), str(self.edge[1]), style='filled', color=self.color())\n",
    "        else:\n",
    "            self.__gv.edge(str(self.edge[0]), str(self.edge[1]), str(self.weight), style='filled', color=self.color())\n",
    "        \n",
    "    \n",
    "    # -- about colors\n",
    "    \n",
    "    def color(self):\n",
    "        return COLORS[self.color_id]\n",
    "    \n",
    "    def color_on(self, color=None):\n",
    "        if isinstance(color, str):\n",
    "            color_str = color\n",
    "        elif isinstance(color, int):\n",
    "            try:\n",
    "                color_str = COLORS[color]\n",
    "            except:\n",
    "                color_str = COLORS[BLACK]\n",
    "        else:\n",
    "            color_str = self.color()\n",
    "        self.gv.edge(str(self.edge[0]), str(self.edge[1]), str(self.weight), style='filled', color=color_str)\n",
    "\n",
    "    def color_off(self):\n",
    "        self.__gv.edge(str(self.edge[0]), str(self.edge[1]), style='filled', color=COLORS[BLACK])\n",
    "        \n",
    "            \n",
    "class Graph:\n",
    "    \"\"\"\n",
    "    class Graph modélise un graphe non orienté dont le propriétés importantes sont :\n",
    "    - model : un objet graphe au sens de networkx\n",
    "    - view : un objet graphe au sens de graphviz\n",
    "        \n",
    "    Parameters:\n",
    "    -----------\n",
    "        nodes_count : int\n",
    "            le nombre de sommets du graphe (par défaut 0)\n",
    "        random : bool\n",
    "            un flag pour savoir si le graphe généré est aléatoire. Si True alors le modèle sera \n",
    "            nx.erdos_renyi_graph(nodes_count, 0.5)\n",
    "        engine : str\n",
    "            le moteur de rendu (au sens de graphviz) ; par défaut 'neato'\n",
    "    \n",
    "    Note:\n",
    "    -----\n",
    "        Les autres paramètres ne devraient pas être utilisés : ils servent pour la création\n",
    "        des graphes orientés et des graphes bi-partie\n",
    "    \"\"\"\n",
    "        \n",
    "    def __init__(self, nodes_count=0, random=False, directed=False, bipartite=False, n1=0, n2=0, engine='neato', strict=False):\n",
    "        if random:\n",
    "            self.__model = nx.erdos_renyi_graph(nodes_count, 0.5)\n",
    "        elif directed:\n",
    "            self.__model = nx.DiGraph()\n",
    "        elif bipartite:\n",
    "            self.__model = nx.complete_bipartite_graph(n1, n2)\n",
    "        else:\n",
    "            self.__model = nx.Graph()\n",
    "        if directed:\n",
    "            self.__view = gv.Digraph(engine=engine, strict=strict, edge_attr={'arrowsize':ARROWSIZE}, node_attr={'fixedsize':'true', 'width':NODE_WIDTH, 'height':NODE_HEIGHT, 'margin':NODE_MARGIN})\n",
    "        else:\n",
    "            self.__view = gv.Graph(engine=engine, strict=strict, node_attr={'fixedsize':'true', 'width':NODE_WIDTH, 'height':NODE_HEIGHT, 'margin':NODE_MARGIN})\n",
    "        self.__engine = engine\n",
    "        self.__model.add_nodes_from([node_id, {'view': None}] for node_id in range(nodes_count))\n",
    "        self.init_view()\n",
    "        \n",
    "    \n",
    "    @property\n",
    "    def model(self):\n",
    "        return self.__model\n",
    "    \n",
    "    @model.setter\n",
    "    def model(self, model):\n",
    "        self.__model = model\n",
    "    \n",
    "    @property\n",
    "    def view(self):\n",
    "        return self.__view\n",
    "    \n",
    "    @view.setter\n",
    "    def view(self, view):\n",
    "        self.__view = view\n",
    "\n",
    "    @property\n",
    "    def engine(self):\n",
    "        return self.__engine\n",
    "    \n",
    "    @engine.setter\n",
    "    def engine(self, engine):\n",
    "        self.__engine = engine\n",
    "    \n",
    "    # MODEL METHODS\n",
    "    \n",
    "    # -- about information\n",
    "    \n",
    "    def node_ids(self):\n",
    "        return self.model.nodes\n",
    "    \n",
    "    def edges(self):\n",
    "        return self.model.edges\n",
    "    \n",
    "    def edge_informations(self, s1, s2):\n",
    "        return self.model.adj[s1][s2]\n",
    "    \n",
    "    def number_of_nodes(self):\n",
    "        return self.model.number_of_nodes()\n",
    "\n",
    "    def number_of_edges(self):\n",
    "        return self.model.number_of_edges()\n",
    "        \n",
    "    # -- about adding elements\n",
    "    \n",
    "    def add_nodes(self, nodes_count=1):\n",
    "        first = 0 if self.number_of_nodes() == 0 else max(self.node_ids()) + 1\n",
    "        for new_id in range(first, first+nodes_count):\n",
    "            self.model.add_nodes_from([(new_id, {'g':self, 'view': NodeView(self.view, new_id)})])\n",
    "            self.node_view(new_id).create()\n",
    "\n",
    "    def add_edge(self, s1, s2, weight=None):\n",
    "        self.model.add_edge(s1, s2, weight=weight, view=EdgeView(self.view, s1, s2, weight))\n",
    "        self.edge_view(s1, s2).create()\n",
    "    \n",
    "    def add_edges_from(self, iterable=None):\n",
    "        for s in iterable:\n",
    "            s1, s2, *args = s\n",
    "            self.add_edge(s1, s2, *args)\n",
    "    \n",
    "    # -- about removing elements\n",
    "\n",
    "    def remove_node(self, node_id):\n",
    "        if node_id in self.node_ids():\n",
    "            self.model.remove_node(node_id)\n",
    "            self.reset_view()\n",
    "    \n",
    "    def remove_nodes_from(self, iterable):\n",
    "        self.model.remove_nodes_from(iterable)\n",
    "        self.reset_view()\n",
    "\n",
    "    def remove_edge(self, s1, s2):\n",
    "        self.model.remove_edge(s1, s2)\n",
    "        self.reset_view()\n",
    "    \n",
    "    def remove_edges_from(self, iterable):\n",
    "        self.model.remove_edges_from(iterable)\n",
    "        self.reset_view()\n",
    "    \n",
    "    def remove_random_edges(self, edges_count):\n",
    "        edges_count = min(edges_count, self.number_of_edges())\n",
    "        list_of_edges = list(self.edges())\n",
    "        random.shuffle(list_of_edges)\n",
    "        self.remove_edges_from(list_of_edges[:edges_count])\n",
    "        \n",
    "    # -- copy of graph\n",
    "    \n",
    "    def copy(self):\n",
    "        nodes_count = self.number_of_nodes()\n",
    "        g = Graph(nodes_count, engine=self.engine)\n",
    "        g.add_edges_from(self.edges())    \n",
    "        g.same_position_as(self)\n",
    "        return g\n",
    "\n",
    "    # -- load a complete json file graph description\n",
    "    def load_json(self, filename, encoding='utf-8'):\n",
    "        with open(filename, 'r', encoding=encoding) as jsonfile:\n",
    "            properties = json.load(jsonfile)\n",
    "        if 'nodes'  in properties:\n",
    "            self.add_nodes(properties['nodes'])\n",
    "        if 'edges' in properties:\n",
    "            self.add_edges_from(properties['edges'])\n",
    "        if 'labels' in properties:\n",
    "            self.set_labels(properties['labels'])\n",
    "            self.label_on()\n",
    "        if 'position' in properties:\n",
    "            self.position(properties['position'])\n",
    "        if 'scale' in properties:\n",
    "            self.scale(properties['scale'])\n",
    "\n",
    "    # -- save a complete json file from graph\n",
    "    \n",
    "    # TODO\n",
    "        \n",
    "                    \n",
    "    # -- other informations usefull for a lot of graphs algorithms\n",
    "    \n",
    "    def degree(self, node_id):\n",
    "        return self.model.degree(node_id)\n",
    "    \n",
    "    def neighbors(self, node_id):\n",
    "        return self.model.neighbors(node_id)\n",
    "    \n",
    "    \n",
    "    # VIEW METHODS\n",
    "    \n",
    "    def node_view(self, node_id):\n",
    "        return self.model.nodes[node_id]['view']\n",
    "    \n",
    "    def edge_view(self, node_src, node_dst):\n",
    "        return self.model.edges[node_src, node_dst]['view']\n",
    "    \n",
    "    def init_view(self):\n",
    "        self.init_nodes_view()\n",
    "        self.init_edges_view()\n",
    "        self.view_is_up_to_date = True\n",
    "        \n",
    "    def reset_view(self, engine=None, strict=False):\n",
    "        engine = self.engine if engine is None else engine\n",
    "        d_position = self.export_position()\n",
    "        self.__view = gv.Graph(engine=engine, format='svg', strict=strict, node_attr={'fixedsize':'true', 'width':NODE_WIDTH, 'height':NODE_HEIGHT, 'margin':NODE_MARGIN})\n",
    "        self.init_view()\n",
    "        self.import_position(d_position)\n",
    "        \n",
    "    def init_nodes_view(self):\n",
    "        for node_id in self.node_ids():\n",
    "            self.model.nodes[node_id]['view'] = NodeView(self.view, node_id)\n",
    "            self.node_view(node_id).create()\n",
    "\n",
    "    def init_edges_view(self):\n",
    "        for s1, s2 in self.edges():\n",
    "            information = self.edge_informations(s1, s2)\n",
    "            weight = information.get('weight', None)\n",
    "            if s2 > s1:\n",
    "                self.model.edges[s1, s2]['weight'] = weight\n",
    "                self.model.edges[s1, s2]['view'] = EdgeView(self.view, s1, s2, weight)\n",
    "                self.edge_view(s1, s2).create()\n",
    "            \n",
    "    # -- about nodes positionning and resizing\n",
    "    \n",
    "    def position(self, iterable, ech=1):\n",
    "        for node_id, *pos in iterable:\n",
    "            self.node_view(node_id).pos = pos\n",
    "        self.scale(ech)\n",
    "        \n",
    "    def scale(self, ech=None):\n",
    "        for node_id in self.node_ids():\n",
    "            self.node_view(node_id).place(ech)\n",
    "        \n",
    "    def same_position_as(self, g):\n",
    "        for node_id in g.node_ids():\n",
    "            if node_id in self.node_ids():\n",
    "                node_view = self.node_view(node_id) \n",
    "                node_view.pos = g.node_view(node_id).pos\n",
    "                node_view.ech = g.node_view(node_id).ech\n",
    "                node_view.place()\n",
    "\n",
    "    def _rec_move(self, node_ids, seen, dx, dy):\n",
    "        if node_ids:\n",
    "            node_id = node_ids.pop()\n",
    "            self.node_view(node_id).move(dx, dy)\n",
    "            seen.add(node_id)\n",
    "            for v_id in self.neighbors(node_id):\n",
    "                if v_id not in seen:\n",
    "                    node_ids.add(v_id)\n",
    "                    self._rec_move(node_ids, seen, dx, dy)\n",
    "                    \n",
    "    def move(self, node_id, dx, dy, group=False):\n",
    "        if group:\n",
    "            self._rec_move({node_id}, set(), dx, dy)\n",
    "        else:\n",
    "            self.node_view(node_id).move(dx, dy)\n",
    "        self.scale()\n",
    "    \n",
    "    def resize(self, *dim, node_id=None):\n",
    "        if node_id is None:\n",
    "            for node_id in self.node_ids():\n",
    "                self.node_view(node_id).size(*dim)\n",
    "                if float(self.node_view(node_id).width) < 0.25:\n",
    "                    self.node_view(node_id).label_off()\n",
    "                    self.node_view(node_id).label_on_side(self.node_view(node_id).label)\n",
    "                else:\n",
    "                    self.node_view(node_id).label_on(self.node_view(node_id).label)\n",
    "                    self.node_view(node_id).label_off_side()\n",
    "        else:\n",
    "            self.node_view(node_id).size(*dim)\n",
    "            if float(self.node_view(node_id).width) < 0.25:\n",
    "                self.node_view(node_id).label_off()\n",
    "                self.node_view(node_id).label_on_side(self.node_view(node_id).label)\n",
    "            else:\n",
    "                self.node_view(node_id).label_on(self.node_view(node_id).label)\n",
    "                self.node_view(node_id).label_off_side()\n",
    "            \n",
    "    def export_position(self):\n",
    "        lnodes = list(self.node_ids())\n",
    "        d = {node_id:self.node_view(node_id).pos for node_id in self.node_ids()}\n",
    "        d['ech'] = self.node_view(lnodes[0]).ech if lnodes else 1\n",
    "        return d\n",
    "\n",
    "    def import_position(self, d_position):\n",
    "        ech = d_position['ech']\n",
    "        for node_id in self.node_ids():\n",
    "            if node_id in d_position:\n",
    "                self.node_view(node_id).pos = d_position[node_id]\n",
    "                self.node_view(node_id).place(ech)\n",
    "\n",
    "    # -- about labels\n",
    "    \n",
    "    def set_labels(self, labels=None):\n",
    "        \"\"\"\n",
    "        Change all nodes label with the str labels parameter\n",
    "        if labels is None, reset all labels to nodes ids\n",
    "        \"\"\"\n",
    "        if labels is None:\n",
    "            for node_id in self.node_ids():\n",
    "                self.node_view(node_id).label = str(node_id)   \n",
    "        elif isinstance(labels, str):\n",
    "            nodes_count = self.number_of_nodes()\n",
    "            labels += NOLABEL * max(0, nodes_count - len(labels))\n",
    "            for node_id in self.node_ids():\n",
    "                self.node_view(node_id).label = labels[node_id]\n",
    "    \n",
    "    def label_on(self):\n",
    "        for node_id in self.node_ids():\n",
    "            self.node_view(node_id).label_on()\n",
    "\n",
    "    def label_off(self):\n",
    "        for node_id in self.node_ids():\n",
    "            self.node_view(node_id).label_off()\n",
    "    \n",
    "    # -- about colors\n",
    "\n",
    "    def color_on(self, *args):\n",
    "        if len(args) == 2:\n",
    "            node_id, color = args\n",
    "            self.node_view(node_id).color_on(color)\n",
    "        else:\n",
    "            for node_id in self.node_ids():\n",
    "                self.node_view(node_id).color_on()\n",
    "\n",
    "    def color_off(self):\n",
    "        for node_id in self.node_ids():\n",
    "            self.node_view(node_id).color_off()\n",
    "            \n",
    "    def color_on_edge(self, *args):\n",
    "        if len(args) == 3:\n",
    "            node_src, node_dst, color = args\n",
    "            self.edge_view(node_src, node_dst).color_on(color)\n",
    "        else:\n",
    "            for node_src, node_dst in self.edges():\n",
    "                self.edge_view(node_src, node_dst).color_on()\n",
    "\n",
    "    def color_off_edge(self):\n",
    "        for node_src, node_dst in self.edges():\n",
    "            self.edge_view(node_src, node_dst).color_off()\n",
    "            \n",
    "    # -- about attibutes\n",
    "    \n",
    "    def is_weighted(self):\n",
    "        # Return true if the graph is ponderate\n",
    "        return nx.is_weighted(self.model)\n",
    "    \n",
    "    def get_node_attributes(self, node_id):\n",
    "        return nx.get_node_attributes(self.model, node_id)\n",
    "    \n",
    "    def print_graph_info(self):\n",
    "        for node, info in self.model.adj.items():\n",
    "            for voisin, info_lien in info.items(): \n",
    "                print(f\"Lien [{node} et {voisin}] => poid {info_lien['weight']}\")\n",
    "        \n",
    "    # -- write graph view in file\n",
    "    \n",
    "    def write(self, filename='output', format='svg'):\n",
    "        self.view.render(filename, format=format, view=True)\n",
    "\n",
    "                    \n",
    "class DiGraph(Graph):\n",
    "    \"\"\"\n",
    "    class DiGraph modélise un graphe orienté. \n",
    "    \n",
    "    Parameters:\n",
    "    -----------\n",
    "        nodes_count : int\n",
    "            le nombre de sommets du graphe (par défaut 0)\n",
    "        engine : str\n",
    "            le moteur de rendu\n",
    "    \n",
    "    Note:\n",
    "    -----\n",
    "        Appel le constructeur de Graph avec directed=True\n",
    "    \"\"\"\n",
    "\n",
    "    \n",
    "    def __init__(self, nodes_count=0, engine='neato', strict=False):\n",
    "        Graph.__init__(self, nodes_count, random=False, directed=True, strict=strict, engine=engine)\n",
    "        \n",
    "    def reset_view(self, engine=None, strict=False):\n",
    "        engine = self.engine if engine is None else engine\n",
    "        d_position = self.export_position()\n",
    "        self.view = gv.Digraph(engine=engine, strict=strict, edge_attr={'arrowsize':ARROWSIZE}, node_attr={'fixedsize':'true', 'width':NODE_WIDTH, 'height':NODE_HEIGHT, 'margin':NODE_MARGIN})\n",
    "        self.init_view()\n",
    "        self.import_position(d_position)\n",
    "\n",
    "    def init_edges_view(self):\n",
    "        for s1, s2 in self.edges():\n",
    "            informations = self.edge_informations(s1, s2)\n",
    "            weight = informations.get('weight', None)\n",
    "            self.model.edges[s1, s2]['weight'] = weight\n",
    "            self.model.edges[s1, s2]['view'] = EdgeView(self.view, s1, s2, weight)\n",
    "            self.edge_view(s1, s2).create()\n",
    "\n",
    "    def copy(self):\n",
    "        nodes_count = self.number_of_nodes()\n",
    "        g = DiGraph(nodes_count, engine=self.engine)\n",
    "        for s1, s2 in self.edges():\n",
    "            informations = self.edge_informations(s1, s2)\n",
    "            weight = informations.get('weight', None)\n",
    "            g.add_edge(s1, s2, weight)    \n",
    "        g.same_position_as(self)\n",
    "        return g\n",
    "\n",
    "    def degree(self, node_id):\n",
    "        return len(self.neighbors(node_id))\n",
    "    \n",
    "    def neighbors(self, node_id):\n",
    "        if self.is_weighted:\n",
    "            neigh = self.model.neighbors(node_id)\n",
    "        else:\n",
    "            neigh = list(self.model.successors(node_id))\n",
    "            neigh.extend(self.model.predecessors(node_id))\n",
    "        return neigh\n",
    "\n",
    "        \n",
    "class BiPartite(Graph):\n",
    "    \"\"\"\n",
    "    class BiPartite modélise un graphe bi-partie non orienté. \n",
    "    \n",
    "    Parameters:\n",
    "    -----------\n",
    "        n1 : int\n",
    "            le nombre de sommets d'une partie du graphe\n",
    "        n2 : int\n",
    "            le nombre de sommets de l'autre partie du graphe\n",
    "        engine : str\n",
    "            le moteur de rendu\n",
    "    \n",
    "    Note:\n",
    "    -----\n",
    "        Appel le constructeur de Graph avec nodes_count=n1+n2,directed=False, \n",
    "        random=False et bipartite=True\n",
    "    \"\"\"\n",
    "    \n",
    "    def __init__(self, n1, n2, engine='neato'):\n",
    "        Graph.__init__(self, n1+n2, bipartite=True, n1=n1, n2=n2, engine=engine)\n",
    "        self.n1 = n1\n",
    "        self.n2 = n2\n",
    "        \n",
    "    def copy(self):\n",
    "        nodes_count = self.number_of_nodes()\n",
    "        g = Graph(nodes_count, bipartite=True, n1=self.n1, n2=self.n2, engine=self.engine)\n",
    "        g.init_view()\n",
    "        g.add_edges_from(self.edges())\n",
    "        g.same_position_as(self)\n",
    "        return g\n",
    "\n",
    "\n"
   ]
  },
  {
   "cell_type": "code",
   "execution_count": 340,
   "id": "3c2bb969",
   "metadata": {
    "tags": []
   },
   "outputs": [],
   "source": [
    "from math import inf\n",
    "from queue import PriorityQueue\n",
    "\n",
    "SELECTED_NODE_COLOR = 1\n",
    "LOCKED_NODE_COLOR = 2\n",
    "NEIGHBOR_COLOR = 3\n",
    "\n",
    "\n",
    "class Dijkstra:\n",
    "    \"\"\"\n",
    "    class Dijkstra\n",
    "        \n",
    "    Parameters:\n",
    "    -----------\n",
    "        Graph : Graph\n",
    "            le graphe sur lequel on applique l'algorithme\n",
    "        start : int\n",
    "            le nœud de départ \n",
    "        end : int\n",
    "            le nœud de destination\n",
    "        solved : bool\n",
    "            un flag pour savoir si la résolution du plus court chemin est achevé\n",
    "        selected : node_id\n",
    "            position du nœud actuelle\n",
    "        shortest_path : list\n",
    "            la liste des node_id du chemin le plus court \n",
    "        dist : dict\n",
    "            dictionnaire contenant les clés: valeurs suivantes node_id: distance from start \n",
    "        pred : dict\n",
    "            dictionnaire contenant les clés: valeurs suivantes node_id: son prédécesseur \n",
    "        visited : collection set\n",
    "            collection des nœud visité   \n",
    "        locked : collection set\n",
    "            collection des nœuds verrouillés      \n",
    "    \n",
    "    Note:\n",
    "    -----\n",
    "        Les autres paramètres ne devraient pas être utilisés : ils servent à l'exécution de l'algorithme.\n",
    "    \"\"\"\n",
    "    \n",
    "    def __init__(self, graph, start=0, end=None):\n",
    "        self.__graph = graph # Graphe \n",
    "        self.__start = start # Nœud de départ\n",
    "        self.__end = end if end is not None else max(graph.node_ids()) # Nœud de destination\n",
    "        self.__solved = False # Flag\n",
    "        self.__shortest_path = list() # Path to use\n",
    "        self.__dist = {} # Distances\n",
    "        self.__pred = {} # Prédécesseurs\n",
    "        self.__visited = set() # Nœud visité\n",
    "        self.__locked = set() # Nœuds verrouillés\n",
    "        self.__selected = self.__start\n",
    "        self.__first_step = True\n",
    "        self.__priority_queue = PriorityQueue() \n",
    "        self.init_dijkstra()\n",
    "   \n",
    "    # +++++GET/SET+++++ #\n",
    "    \n",
    "    @property\n",
    "    def graph(self):\n",
    "        return self.__graph\n",
    "\n",
    "    @graph.setter\n",
    "    def graph(self, graph):\n",
    "        self.__graph = graph\n",
    "\n",
    "    @property\n",
    "    def start(self):\n",
    "        return self.__start\n",
    "\n",
    "    @start.setter\n",
    "    def start(self, start):\n",
    "        self.__start = start\n",
    "        \n",
    "    @property\n",
    "    def end(self):\n",
    "        return self.__end\n",
    "\n",
    "    @end.setter\n",
    "    def end(self, end):\n",
    "        self.__end = end\n",
    "\n",
    "    @property\n",
    "    def solved(self):\n",
    "        return self.__solved        \n",
    "    \n",
    "    \n",
    "    # +++++TOOLS+++++ #    \n",
    "    def view(self):\n",
    "        return self.graph.view\n",
    "    \n",
    "    def show_shortest_path(self):\n",
    "        # Show the shortest path without other path\n",
    "        Gtemp = self.graph.copy()\n",
    "        nodeList = list(self.graph.model.nodes)\n",
    "        res = list(self.graph.model.nodes)\n",
    "        for i in range(len(nodeList)):\n",
    "            for x in range(len(self.__shortest_path)):\n",
    "                if nodeList[i] == self.__shortest_path[x]:\n",
    "                    res.remove(self.__shortest_path[x])\n",
    "        for i in range(len(res)):\n",
    "            Gtemp.remove_node(res[i])\n",
    "        return Gtemp.view\n",
    "    # +++++TOOLS+++++ #   \n",
    "    \n",
    "    # +++++NETWORKX+++++ #               \n",
    "    def path(self, src_node_id, dst_node_id):\n",
    "        # Dijkstra : shortest weighted path, by networkx\n",
    "        return nx.dijkstra_path(self.graph.model, src_node_id, dst_node_id)\n",
    "\n",
    "    def path_length(self, src_node_id, dst_node_id):\n",
    "        # Dijkstra : Distance between 2 entry node : start , end, by networkx\n",
    "        return nx.dijkstra_path_length(self.graph.model, src_node_id, dst_node_id)\n",
    "    \n",
    "    def distance_nx(self, dst_node_id):\n",
    "        # Dijkstra : Distance between start and an entry node, by networkx\n",
    "        return nx.dijkstra_path_length(self.graph.model, self.start, dst_node_id)\n",
    "    \n",
    "    def distance(self, dst_node_id):\n",
    "        return self.__dist[dst_node_id]\n",
    "    \n",
    "    def shortest_cost(self):\n",
    "        # Dijkstra : Lenght of the shortest path by networkx\n",
    "        return nx.dijkstra_path_length(self.graph.model, self.start, self.end)\n",
    "    # +++++NETWORKX+++++ #    \n",
    "    \n",
    "        \n",
    "    # ------------------------Dijkstra---------------------# \n",
    "    \n",
    "    # +++++INIT+++++ #\n",
    "    def init_dijkstra(self):\n",
    "        self.__pred = {}  # Predecessor of the current node pos\n",
    "        self.__dist = {node_id: inf for node_id in self.graph.node_ids()} # Init all nodes dist to inf except the source_node\n",
    "        self.__dist[self.start] = 0  # dist from start -> start is zero\n",
    "        self.__priority_queue.put((self.__dist[self.start], self.start))\n",
    "        self.graph.color_on(self.start, 3)\n",
    "        self.graph.resize(0.45)\n",
    "        # Labelise all node \n",
    "        stre = str()\n",
    "        for i in string.ascii_uppercase:\n",
    "            if len(stre) <= self.graph.number_of_nodes():\n",
    "                stre += i\n",
    "        self.graph.set_labels(stre)\n",
    "        self.graph.label_on()\n",
    "        print(self.__dist)\n",
    "    # +++++INIT+++++ #\n",
    "    \n",
    "    # +++++TOOLS+++++ #\n",
    "    def dijkstra_path(self):\n",
    "        pos = self.end\n",
    "        while pos != self.start:\n",
    "            self.__shortest_path.append(pos)\n",
    "            pos = self.__pred[pos]\n",
    "        self.__shortest_path.append(pos) \n",
    "        return self.__shortest_path\n",
    "    \n",
    "    def color_dijkstra_path(self):\n",
    "        self.graph.color_off()\n",
    "        for i in range(len(self.__shortest_path)):\n",
    "            if i == 0:\n",
    "                self.graph.color_on(self.__shortest_path[i], 3)\n",
    "            elif i >= (len(self.__shortest_path)-1):\n",
    "                self.graph.color_on(self.__shortest_path[i], 5)\n",
    "            else :\n",
    "                self.graph.color_on(self.__shortest_path[i], 2)\n",
    "    \n",
    "    def cost_between(self, start, end):\n",
    "        # Return :Weight between 2 nodes\n",
    "        return self.graph.edge_view(start, end).weight\n",
    "    \n",
    "    def reset_dijkstra(self):\n",
    "        # Reset dijkstra & view\n",
    "        self.graph.reset_view()\n",
    "        self.__step = False\n",
    "        self.__solved = False\n",
    "        self.__step_by_step = False\n",
    "        self.__shortest_path = list() # Path to use\n",
    "        self.__dist = None\n",
    "        self.__pred = None\n",
    "        self.__selected = None\n",
    "        self.__first_step = True\n",
    "        self.__visited = set()\n",
    "        self.__locked = set()\n",
    "        self.__priority_queue = PriorityQueue() \n",
    "        self.init_dijkstra()\n",
    "    # +++++TOOLS+++++ #\n",
    "    \n",
    "    def dijkstra_step(self):\n",
    "        # Dijkstra :step , Found the best path, save attributes{dist, pred, visited, shortest_path}\n",
    "            pos_weight, pos = self.__priority_queue.get()\n",
    "            self.__selected = pos\n",
    "            for neighbor in self.graph.neighbors(pos):\n",
    "                if neighbor not in self.__locked:\n",
    "                    path = pos_weight + self.cost_between(pos, neighbor)\n",
    "                    string = (f\"{self.graph.node_view(pos).label}{path}{self.graph.node_view(neighbor).label}\")\n",
    "                    if path < self.__dist[neighbor]:\n",
    "                        self.__dist[neighbor] = path\n",
    "                        self.__pred[neighbor] = pos\n",
    "                        if neighbor not in self.__visited:                 \n",
    "                            self.__priority_queue.put((self.__dist[neighbor], neighbor))\n",
    "                        self.graph.node_view(neighbor).label_on(string)  \n",
    "                    self.__visited.add(neighbor)\n",
    "            self.__locked.add(self.__selected)\n",
    "            if self.__priority_queue.qsize() == 0 or self.end in self.__locked:\n",
    "                self.__solved = True\n",
    "            return self.show_shortest_path()\n",
    "              \n",
    "    def solve(self):\n",
    "        # Dijkstra :main\n",
    "        while not self.solved:\n",
    "            self.dijkstra_step()\n",
    "                        \n",
    "        if self.solved:\n",
    "            self.dijkstra_path()\n",
    "            self.color_dijkstra_path()\n",
    "        return self.view()\n",
    "    # ------------------------Dijkstra---------------------#  \n",
    "    \n",
    "    def next(self):\n",
    "        if self.solved:\n",
    "            print('Dijkstra résolu')\n",
    "            self.show_shortest_path()\n",
    "        elif self.__first_step:\n",
    "            self.__first_step = False\n",
    "            self.graph.color_on(self.__selected, SELECTED_NODE_COLOR)\n",
    "            return self.view()\n",
    "        else:\n",
    "            for s in self.__visited:\n",
    "                self.graph.color_on(s, -1)\n",
    "            for s in self.__locked:\n",
    "                self.graph.color_on(s, LOCKED_NODE_COLOR)\n",
    "            pos_weight, pos = self.__priority_queue.get()\n",
    "            self.__selected = pos\n",
    "            self.graph.color_on(pos, SELECTED_NODE_COLOR)\n",
    "            for neighbor in self.graph.neighbors(pos):\n",
    "                if neighbor not in self.__locked:\n",
    "                    self.graph.color_on(neighbor, NEIGHBOR_COLOR)\n",
    "                    path = pos_weight + self.cost_between(pos, neighbor)\n",
    "                    string = (f\"{self.graph.node_view(pos).label}{path}{self.graph.node_view(neighbor).label}\")\n",
    "                    if path < self.__dist[neighbor]:\n",
    "                        self.__dist[neighbor] = path\n",
    "                        self.__pred[neighbor] = pos\n",
    "                        if neighbor not in self.__visited:   \n",
    "                            print(any((neighbor) in item for item in self.__priority_queue.queue))            \n",
    "                            self.__priority_queue.put((self.__dist[neighbor], neighbor))\n",
    "                        else:\n",
    "                            self.__visited.add(neighbor)\n",
    "                        self.graph.node_view(neighbor).label_on(string)  \n",
    "            self.__locked.add(self.__selected)\n",
    "            if self.__priority_queue.qsize() == 0 or self.end in self.__locked:\n",
    "                self.__solved = True\n",
    "            return self.view()"
   ]
  },
  {
   "cell_type": "code",
   "execution_count": null,
   "id": "4e07c7a7",
   "metadata": {},
   "outputs": [],
   "source": []
  },
  {
   "cell_type": "markdown",
   "id": "64aebc02-baaa-4fa8-8112-945b8e734291",
   "metadata": {},
   "source": [
    "Test de `EdgeView`"
   ]
  },
  {
   "cell_type": "code",
   "execution_count": 341,
   "id": "6aaf3302-84b2-4d5f-b410-b9b8bfa597ff",
   "metadata": {},
   "outputs": [
    {
     "data": {
      "image/svg+xml": "<?xml version=\"1.0\" encoding=\"UTF-8\" standalone=\"no\"?>\n<!DOCTYPE svg PUBLIC \"-//W3C//DTD SVG 1.1//EN\"\n \"http://www.w3.org/Graphics/SVG/1.1/DTD/svg11.dtd\">\n<!-- Generated by graphviz version 2.50.0 (20211204.2007)\n -->\n<!-- Pages: 1 -->\n<svg width=\"126pt\" height=\"174pt\"\n viewBox=\"0.00 0.00 125.67 173.97\" xmlns=\"http://www.w3.org/2000/svg\" xmlns:xlink=\"http://www.w3.org/1999/xlink\">\n<g id=\"graph0\" class=\"graph\" transform=\"scale(1 1) rotate(0) translate(4 169.97)\">\n<polygon fill=\"white\" stroke=\"transparent\" points=\"-4,4 -4,-169.97 121.67,-169.97 121.67,4 -4,4\"/>\n<!-- 0 -->\n<g id=\"node1\" class=\"node\">\n<title>0</title>\n<ellipse fill=\"white\" stroke=\"black\" cx=\"11\" cy=\"-32.06\" rx=\"11\" ry=\"11\"/>\n<text text-anchor=\"middle\" x=\"11\" y=\"-28.36\" font-family=\"Times,serif\" font-size=\"14.00\">0</text>\n</g>\n<!-- 1 -->\n<g id=\"node2\" class=\"node\">\n<title>1</title>\n<ellipse fill=\"white\" stroke=\"black\" cx=\"86.07\" cy=\"-11\" rx=\"11\" ry=\"11\"/>\n<text text-anchor=\"middle\" x=\"86.07\" y=\"-7.3\" font-family=\"Times,serif\" font-size=\"14.00\">1</text>\n</g>\n<!-- 0&#45;&gt;1 -->\n<g id=\"edge1\" class=\"edge\">\n<title>0&#45;&gt;1</title>\n<path fill=\"none\" stroke=\"black\" d=\"M21.76,-29.04C34.47,-25.47 55.72,-19.51 70.3,-15.42\"/>\n<polygon fill=\"black\" stroke=\"black\" points=\"70.99,-17.05 75.33,-14.01 70.05,-13.68 70.99,-17.05\"/>\n<text text-anchor=\"middle\" x=\"42.53\" y=\"-26.03\" font-family=\"Times,serif\" font-size=\"14.00\">1</text>\n</g>\n<!-- 2 -->\n<g id=\"node3\" class=\"node\">\n<title>2</title>\n<ellipse fill=\"white\" stroke=\"black\" cx=\"31.65\" cy=\"-107.31\" rx=\"11\" ry=\"11\"/>\n<text text-anchor=\"middle\" x=\"31.65\" y=\"-103.61\" font-family=\"Times,serif\" font-size=\"14.00\">2</text>\n</g>\n<!-- 0&#45;&gt;2 -->\n<g id=\"edge6\" class=\"edge\">\n<title>0&#45;&gt;2</title>\n<path fill=\"none\" stroke=\"black\" d=\"M13.96,-42.84C17.46,-55.58 23.3,-76.89 27.31,-91.5\"/>\n<polygon fill=\"black\" stroke=\"black\" points=\"25.69,-92.19 28.7,-96.55 29.06,-91.27 25.69,-92.19\"/>\n<text text-anchor=\"middle\" x=\"17.14\" y=\"-70.97\" font-family=\"Times,serif\" font-size=\"14.00\">3</text>\n</g>\n<!-- 3 -->\n<g id=\"node4\" class=\"node\">\n<title>3</title>\n<ellipse fill=\"white\" stroke=\"black\" cx=\"106.67\" cy=\"-86.15\" rx=\"11\" ry=\"11\"/>\n<text text-anchor=\"middle\" x=\"106.67\" y=\"-82.45\" font-family=\"Times,serif\" font-size=\"14.00\">3</text>\n</g>\n<!-- 1&#45;&gt;3 -->\n<g id=\"edge2\" class=\"edge\">\n<title>1&#45;&gt;3</title>\n<path fill=\"none\" stroke=\"black\" d=\"M89.02,-21.77C92.51,-34.49 98.34,-55.77 102.34,-70.36\"/>\n<polygon fill=\"black\" stroke=\"black\" points=\"100.72,-71.04 103.73,-75.4 104.09,-70.12 100.72,-71.04\"/>\n<text text-anchor=\"middle\" x=\"92.18\" y=\"-49.86\" font-family=\"Times,serif\" font-size=\"14.00\">1</text>\n</g>\n<!-- 4 -->\n<g id=\"node5\" class=\"node\">\n<title>4</title>\n<ellipse fill=\"white\" stroke=\"black\" cx=\"85.78\" cy=\"-154.97\" rx=\"11\" ry=\"11\"/>\n<text text-anchor=\"middle\" x=\"85.78\" y=\"-151.27\" font-family=\"Times,serif\" font-size=\"14.00\">4</text>\n</g>\n<!-- 2&#45;&gt;4 -->\n<g id=\"edge5\" class=\"edge\">\n<title>2&#45;&gt;4</title>\n<path fill=\"none\" stroke=\"black\" d=\"M40.11,-114.76C49.03,-122.62 63.19,-135.08 73.38,-144.05\"/>\n<polygon fill=\"black\" stroke=\"black\" points=\"72.29,-145.43 77.2,-147.42 74.6,-142.8 72.29,-145.43\"/>\n<text text-anchor=\"middle\" x=\"53.24\" y=\"-133.21\" font-family=\"Times,serif\" font-size=\"14.00\">2</text>\n</g>\n<!-- 3&#45;&gt;2 -->\n<g id=\"edge3\" class=\"edge\">\n<title>3&#45;&gt;2</title>\n<path fill=\"none\" stroke=\"black\" d=\"M95.92,-89.18C83.22,-92.76 61.98,-98.76 47.42,-102.87\"/>\n<polygon fill=\"black\" stroke=\"black\" points=\"46.72,-101.25 42.38,-104.29 47.67,-104.61 46.72,-101.25\"/>\n<text text-anchor=\"middle\" x=\"68.17\" y=\"-99.82\" font-family=\"Times,serif\" font-size=\"14.00\">2</text>\n</g>\n<!-- 3&#45;&gt;4 -->\n<g id=\"edge4\" class=\"edge\">\n<title>3&#45;&gt;4</title>\n<path fill=\"none\" stroke=\"black\" d=\"M103.41,-96.9C99.96,-108.25 94.5,-126.25 90.56,-139.2\"/>\n<polygon fill=\"black\" stroke=\"black\" points=\"88.87,-138.78 89.09,-144.07 92.21,-139.79 88.87,-138.78\"/>\n<text text-anchor=\"middle\" x=\"93.49\" y=\"-121.85\" font-family=\"Times,serif\" font-size=\"14.00\">5</text>\n</g>\n</g>\n</svg>\n",
      "text/plain": [
       "<graphviz.graphs.Digraph at 0x7f7960f7f460>"
      ]
     },
     "execution_count": 341,
     "metadata": {},
     "output_type": "execute_result"
    }
   ],
   "source": [
    "G = DiGraph(5, strict=True)\n",
    "G.add_edges_from([(0,1,1), (1,3,1), (3,2,2), (3,4,5), (2,4,2), (0,2,3)])\n",
    "G.view"
   ]
  },
  {
   "cell_type": "code",
   "execution_count": 342,
   "id": "cbd70357-32ed-4ba5-b91b-b29d3604dc63",
   "metadata": {},
   "outputs": [],
   "source": [
    "G.edge_view(0,1).color_on(3) # Error here :TODO"
   ]
  },
  {
   "cell_type": "code",
   "execution_count": 343,
   "id": "fb59b731-21cc-4d9d-8262-dd8d304b202a",
   "metadata": {},
   "outputs": [
    {
     "data": {
      "image/svg+xml": "<?xml version=\"1.0\" encoding=\"UTF-8\" standalone=\"no\"?>\n<!DOCTYPE svg PUBLIC \"-//W3C//DTD SVG 1.1//EN\"\n \"http://www.w3.org/Graphics/SVG/1.1/DTD/svg11.dtd\">\n<!-- Generated by graphviz version 2.50.0 (20211204.2007)\n -->\n<!-- Pages: 1 -->\n<svg width=\"126pt\" height=\"174pt\"\n viewBox=\"0.00 0.00 125.67 173.97\" xmlns=\"http://www.w3.org/2000/svg\" xmlns:xlink=\"http://www.w3.org/1999/xlink\">\n<g id=\"graph0\" class=\"graph\" transform=\"scale(1 1) rotate(0) translate(4 169.97)\">\n<polygon fill=\"white\" stroke=\"transparent\" points=\"-4,4 -4,-169.97 121.67,-169.97 121.67,4 -4,4\"/>\n<!-- 0 -->\n<g id=\"node1\" class=\"node\">\n<title>0</title>\n<ellipse fill=\"white\" stroke=\"black\" cx=\"11\" cy=\"-32.06\" rx=\"11\" ry=\"11\"/>\n<text text-anchor=\"middle\" x=\"11\" y=\"-28.36\" font-family=\"Times,serif\" font-size=\"14.00\">0</text>\n</g>\n<!-- 1 -->\n<g id=\"node2\" class=\"node\">\n<title>1</title>\n<ellipse fill=\"white\" stroke=\"black\" cx=\"86.07\" cy=\"-11\" rx=\"11\" ry=\"11\"/>\n<text text-anchor=\"middle\" x=\"86.07\" y=\"-7.3\" font-family=\"Times,serif\" font-size=\"14.00\">1</text>\n</g>\n<!-- 0&#45;&gt;1 -->\n<g id=\"edge1\" class=\"edge\">\n<title>0&#45;&gt;1</title>\n<path fill=\"none\" stroke=\"lightgreen\" d=\"M21.76,-29.04C34.47,-25.47 55.72,-19.51 70.3,-15.42\"/>\n<polygon fill=\"lightgreen\" stroke=\"lightgreen\" points=\"70.99,-17.05 75.33,-14.01 70.05,-13.68 70.99,-17.05\"/>\n<text text-anchor=\"middle\" x=\"42.53\" y=\"-26.03\" font-family=\"Times,serif\" font-size=\"14.00\">1</text>\n</g>\n<!-- 2 -->\n<g id=\"node3\" class=\"node\">\n<title>2</title>\n<ellipse fill=\"white\" stroke=\"black\" cx=\"31.65\" cy=\"-107.31\" rx=\"11\" ry=\"11\"/>\n<text text-anchor=\"middle\" x=\"31.65\" y=\"-103.61\" font-family=\"Times,serif\" font-size=\"14.00\">2</text>\n</g>\n<!-- 0&#45;&gt;2 -->\n<g id=\"edge6\" class=\"edge\">\n<title>0&#45;&gt;2</title>\n<path fill=\"none\" stroke=\"black\" d=\"M13.96,-42.84C17.46,-55.58 23.3,-76.89 27.31,-91.5\"/>\n<polygon fill=\"black\" stroke=\"black\" points=\"25.69,-92.19 28.7,-96.55 29.06,-91.27 25.69,-92.19\"/>\n<text text-anchor=\"middle\" x=\"17.14\" y=\"-70.97\" font-family=\"Times,serif\" font-size=\"14.00\">3</text>\n</g>\n<!-- 3 -->\n<g id=\"node4\" class=\"node\">\n<title>3</title>\n<ellipse fill=\"white\" stroke=\"black\" cx=\"106.67\" cy=\"-86.15\" rx=\"11\" ry=\"11\"/>\n<text text-anchor=\"middle\" x=\"106.67\" y=\"-82.45\" font-family=\"Times,serif\" font-size=\"14.00\">3</text>\n</g>\n<!-- 1&#45;&gt;3 -->\n<g id=\"edge2\" class=\"edge\">\n<title>1&#45;&gt;3</title>\n<path fill=\"none\" stroke=\"black\" d=\"M89.02,-21.77C92.51,-34.49 98.34,-55.77 102.34,-70.36\"/>\n<polygon fill=\"black\" stroke=\"black\" points=\"100.72,-71.04 103.73,-75.4 104.09,-70.12 100.72,-71.04\"/>\n<text text-anchor=\"middle\" x=\"92.18\" y=\"-49.86\" font-family=\"Times,serif\" font-size=\"14.00\">1</text>\n</g>\n<!-- 4 -->\n<g id=\"node5\" class=\"node\">\n<title>4</title>\n<ellipse fill=\"white\" stroke=\"black\" cx=\"85.78\" cy=\"-154.97\" rx=\"11\" ry=\"11\"/>\n<text text-anchor=\"middle\" x=\"85.78\" y=\"-151.27\" font-family=\"Times,serif\" font-size=\"14.00\">4</text>\n</g>\n<!-- 2&#45;&gt;4 -->\n<g id=\"edge5\" class=\"edge\">\n<title>2&#45;&gt;4</title>\n<path fill=\"none\" stroke=\"black\" d=\"M40.11,-114.76C49.03,-122.62 63.19,-135.08 73.38,-144.05\"/>\n<polygon fill=\"black\" stroke=\"black\" points=\"72.29,-145.43 77.2,-147.42 74.6,-142.8 72.29,-145.43\"/>\n<text text-anchor=\"middle\" x=\"53.24\" y=\"-133.21\" font-family=\"Times,serif\" font-size=\"14.00\">2</text>\n</g>\n<!-- 3&#45;&gt;2 -->\n<g id=\"edge3\" class=\"edge\">\n<title>3&#45;&gt;2</title>\n<path fill=\"none\" stroke=\"black\" d=\"M95.92,-89.18C83.22,-92.76 61.98,-98.76 47.42,-102.87\"/>\n<polygon fill=\"black\" stroke=\"black\" points=\"46.72,-101.25 42.38,-104.29 47.67,-104.61 46.72,-101.25\"/>\n<text text-anchor=\"middle\" x=\"68.17\" y=\"-99.82\" font-family=\"Times,serif\" font-size=\"14.00\">2</text>\n</g>\n<!-- 3&#45;&gt;4 -->\n<g id=\"edge4\" class=\"edge\">\n<title>3&#45;&gt;4</title>\n<path fill=\"none\" stroke=\"black\" d=\"M103.41,-96.9C99.96,-108.25 94.5,-126.25 90.56,-139.2\"/>\n<polygon fill=\"black\" stroke=\"black\" points=\"88.87,-138.78 89.09,-144.07 92.21,-139.79 88.87,-138.78\"/>\n<text text-anchor=\"middle\" x=\"93.49\" y=\"-121.85\" font-family=\"Times,serif\" font-size=\"14.00\">5</text>\n</g>\n</g>\n</svg>\n",
      "text/plain": [
       "<graphviz.graphs.Digraph at 0x7f7960f7f460>"
      ]
     },
     "execution_count": 343,
     "metadata": {},
     "output_type": "execute_result"
    }
   ],
   "source": [
    "G.view"
   ]
  },
  {
   "cell_type": "code",
   "execution_count": 344,
   "id": "f442270d",
   "metadata": {
    "scrolled": true
   },
   "outputs": [
    {
     "data": {
      "image/svg+xml": "<?xml version=\"1.0\" encoding=\"UTF-8\" standalone=\"no\"?>\n<!DOCTYPE svg PUBLIC \"-//W3C//DTD SVG 1.1//EN\"\n \"http://www.w3.org/Graphics/SVG/1.1/DTD/svg11.dtd\">\n<!-- Generated by graphviz version 2.50.0 (20211204.2007)\n -->\n<!-- Pages: 1 -->\n<svg width=\"126pt\" height=\"174pt\"\n viewBox=\"0.00 0.00 125.67 173.97\" xmlns=\"http://www.w3.org/2000/svg\" xmlns:xlink=\"http://www.w3.org/1999/xlink\">\n<g id=\"graph0\" class=\"graph\" transform=\"scale(1 1) rotate(0) translate(4 169.97)\">\n<polygon fill=\"white\" stroke=\"transparent\" points=\"-4,4 -4,-169.97 121.67,-169.97 121.67,4 -4,4\"/>\n<!-- 0 -->\n<g id=\"node1\" class=\"node\">\n<title>0</title>\n<ellipse fill=\"white\" stroke=\"black\" cx=\"11\" cy=\"-32.06\" rx=\"11\" ry=\"11\"/>\n<text text-anchor=\"middle\" x=\"11\" y=\"-28.36\" font-family=\"Times,serif\" font-size=\"14.00\">0</text>\n</g>\n<!-- 1 -->\n<g id=\"node2\" class=\"node\">\n<title>1</title>\n<ellipse fill=\"white\" stroke=\"black\" cx=\"86.07\" cy=\"-11\" rx=\"11\" ry=\"11\"/>\n<text text-anchor=\"middle\" x=\"86.07\" y=\"-7.3\" font-family=\"Times,serif\" font-size=\"14.00\">1</text>\n</g>\n<!-- 0&#45;&gt;1 -->\n<g id=\"edge1\" class=\"edge\">\n<title>0&#45;&gt;1</title>\n<path fill=\"none\" stroke=\"black\" d=\"M21.76,-29.04C34.47,-25.47 55.72,-19.51 70.3,-15.42\"/>\n<polygon fill=\"black\" stroke=\"black\" points=\"70.99,-17.05 75.33,-14.01 70.05,-13.68 70.99,-17.05\"/>\n<text text-anchor=\"middle\" x=\"42.53\" y=\"-26.03\" font-family=\"Times,serif\" font-size=\"14.00\">1</text>\n</g>\n<!-- 2 -->\n<g id=\"node3\" class=\"node\">\n<title>2</title>\n<ellipse fill=\"white\" stroke=\"black\" cx=\"31.65\" cy=\"-107.31\" rx=\"11\" ry=\"11\"/>\n<text text-anchor=\"middle\" x=\"31.65\" y=\"-103.61\" font-family=\"Times,serif\" font-size=\"14.00\">2</text>\n</g>\n<!-- 0&#45;&gt;2 -->\n<g id=\"edge6\" class=\"edge\">\n<title>0&#45;&gt;2</title>\n<path fill=\"none\" stroke=\"black\" d=\"M13.96,-42.84C17.46,-55.58 23.3,-76.89 27.31,-91.5\"/>\n<polygon fill=\"black\" stroke=\"black\" points=\"25.69,-92.19 28.7,-96.55 29.06,-91.27 25.69,-92.19\"/>\n<text text-anchor=\"middle\" x=\"17.14\" y=\"-70.97\" font-family=\"Times,serif\" font-size=\"14.00\">3</text>\n</g>\n<!-- 3 -->\n<g id=\"node4\" class=\"node\">\n<title>3</title>\n<ellipse fill=\"white\" stroke=\"black\" cx=\"106.67\" cy=\"-86.15\" rx=\"11\" ry=\"11\"/>\n<text text-anchor=\"middle\" x=\"106.67\" y=\"-82.45\" font-family=\"Times,serif\" font-size=\"14.00\">3</text>\n</g>\n<!-- 1&#45;&gt;3 -->\n<g id=\"edge2\" class=\"edge\">\n<title>1&#45;&gt;3</title>\n<path fill=\"none\" stroke=\"black\" d=\"M89.02,-21.77C92.51,-34.49 98.34,-55.77 102.34,-70.36\"/>\n<polygon fill=\"black\" stroke=\"black\" points=\"100.72,-71.04 103.73,-75.4 104.09,-70.12 100.72,-71.04\"/>\n<text text-anchor=\"middle\" x=\"92.18\" y=\"-49.86\" font-family=\"Times,serif\" font-size=\"14.00\">1</text>\n</g>\n<!-- 4 -->\n<g id=\"node5\" class=\"node\">\n<title>4</title>\n<ellipse fill=\"white\" stroke=\"black\" cx=\"85.78\" cy=\"-154.97\" rx=\"11\" ry=\"11\"/>\n<text text-anchor=\"middle\" x=\"85.78\" y=\"-151.27\" font-family=\"Times,serif\" font-size=\"14.00\">4</text>\n</g>\n<!-- 2&#45;&gt;4 -->\n<g id=\"edge5\" class=\"edge\">\n<title>2&#45;&gt;4</title>\n<path fill=\"none\" stroke=\"black\" d=\"M40.11,-114.76C49.03,-122.62 63.19,-135.08 73.38,-144.05\"/>\n<polygon fill=\"black\" stroke=\"black\" points=\"72.29,-145.43 77.2,-147.42 74.6,-142.8 72.29,-145.43\"/>\n<text text-anchor=\"middle\" x=\"53.24\" y=\"-133.21\" font-family=\"Times,serif\" font-size=\"14.00\">2</text>\n</g>\n<!-- 3&#45;&gt;2 -->\n<g id=\"edge3\" class=\"edge\">\n<title>3&#45;&gt;2</title>\n<path fill=\"none\" stroke=\"black\" d=\"M95.92,-89.18C83.22,-92.76 61.98,-98.76 47.42,-102.87\"/>\n<polygon fill=\"black\" stroke=\"black\" points=\"46.72,-101.25 42.38,-104.29 47.67,-104.61 46.72,-101.25\"/>\n<text text-anchor=\"middle\" x=\"68.17\" y=\"-99.82\" font-family=\"Times,serif\" font-size=\"14.00\">2</text>\n</g>\n<!-- 3&#45;&gt;4 -->\n<g id=\"edge4\" class=\"edge\">\n<title>3&#45;&gt;4</title>\n<path fill=\"none\" stroke=\"black\" d=\"M103.41,-96.9C99.96,-108.25 94.5,-126.25 90.56,-139.2\"/>\n<polygon fill=\"black\" stroke=\"black\" points=\"88.87,-138.78 89.09,-144.07 92.21,-139.79 88.87,-138.78\"/>\n<text text-anchor=\"middle\" x=\"93.49\" y=\"-121.85\" font-family=\"Times,serif\" font-size=\"14.00\">5</text>\n</g>\n</g>\n</svg>\n",
      "text/plain": [
       "<graphviz.graphs.Digraph at 0x7f7960f65610>"
      ]
     },
     "execution_count": 344,
     "metadata": {},
     "output_type": "execute_result"
    }
   ],
   "source": [
    "mon_graphe = DiGraph(5)\n",
    "mon_graphe.add_edges_from([(0,1,1), (1,3,1), (3,2,2), (3,4,5), (2,4,2), (0,2,3)])\n",
    "mon_graphe.view"
   ]
  },
  {
   "cell_type": "code",
   "execution_count": 345,
   "id": "643463cd",
   "metadata": {},
   "outputs": [
    {
     "name": "stdout",
     "output_type": "stream",
     "text": [
      "{0: 0, 1: inf, 2: inf, 3: inf, 4: inf}\n"
     ]
    }
   ],
   "source": [
    "explo = Dijkstra(mon_graphe) # Objet Dijkstra"
   ]
  },
  {
   "cell_type": "code",
   "execution_count": 346,
   "id": "4b83805d-2c43-4665-aebe-99a3973e9407",
   "metadata": {},
   "outputs": [
    {
     "data": {
      "image/svg+xml": "<?xml version=\"1.0\" encoding=\"UTF-8\" standalone=\"no\"?>\n<!DOCTYPE svg PUBLIC \"-//W3C//DTD SVG 1.1//EN\"\n \"http://www.w3.org/Graphics/SVG/1.1/DTD/svg11.dtd\">\n<!-- Generated by graphviz version 2.50.0 (20211204.2007)\n -->\n<!-- Pages: 1 -->\n<svg width=\"136pt\" height=\"184pt\"\n viewBox=\"0.00 0.00 135.67 183.97\" xmlns=\"http://www.w3.org/2000/svg\" xmlns:xlink=\"http://www.w3.org/1999/xlink\">\n<g id=\"graph0\" class=\"graph\" transform=\"scale(1 1) rotate(0) translate(4 179.97)\">\n<polygon fill=\"white\" stroke=\"transparent\" points=\"-4,4 -4,-179.97 131.67,-179.97 131.67,4 -4,4\"/>\n<!-- 0 -->\n<g id=\"node1\" class=\"node\">\n<title>0</title>\n<ellipse fill=\"#ff8247\" stroke=\"black\" cx=\"16\" cy=\"-37.06\" rx=\"16\" ry=\"16\"/>\n<text text-anchor=\"middle\" x=\"16\" y=\"-33.36\" font-family=\"Times,serif\" font-size=\"14.00\">A</text>\n</g>\n<!-- 1 -->\n<g id=\"node2\" class=\"node\">\n<title>1</title>\n<ellipse fill=\"white\" stroke=\"black\" cx=\"91.07\" cy=\"-16\" rx=\"16\" ry=\"16\"/>\n<text text-anchor=\"middle\" x=\"91.07\" y=\"-12.3\" font-family=\"Times,serif\" font-size=\"14.00\">A1B</text>\n</g>\n<!-- 0&#45;&gt;1 -->\n<g id=\"edge1\" class=\"edge\">\n<title>0&#45;&gt;1</title>\n<path fill=\"none\" stroke=\"black\" d=\"M31.55,-32.69C42.83,-29.53 58.19,-25.22 70.48,-21.78\"/>\n<polygon fill=\"black\" stroke=\"black\" points=\"71.19,-23.39 75.54,-20.36 70.25,-20.02 71.19,-23.39\"/>\n<text text-anchor=\"middle\" x=\"47.52\" y=\"-31.03\" font-family=\"Times,serif\" font-size=\"14.00\">1</text>\n</g>\n<!-- 2 -->\n<g id=\"node3\" class=\"node\">\n<title>2</title>\n<ellipse fill=\"#ffb5c5\" stroke=\"black\" cx=\"36.65\" cy=\"-112.31\" rx=\"16\" ry=\"16\"/>\n<text text-anchor=\"middle\" x=\"36.65\" y=\"-108.61\" font-family=\"Times,serif\" font-size=\"14.00\">A3C</text>\n</g>\n<!-- 0&#45;&gt;2 -->\n<g id=\"edge6\" class=\"edge\">\n<title>0&#45;&gt;2</title>\n<path fill=\"none\" stroke=\"black\" d=\"M20.28,-52.65C23.38,-63.95 27.61,-79.35 30.99,-91.67\"/>\n<polygon fill=\"black\" stroke=\"black\" points=\"29.37,-92.38 32.38,-96.74 32.74,-91.46 29.37,-92.38\"/>\n<text text-anchor=\"middle\" x=\"22.13\" y=\"-75.96\" font-family=\"Times,serif\" font-size=\"14.00\">3</text>\n</g>\n<!-- 3 -->\n<g id=\"node4\" class=\"node\">\n<title>3</title>\n<ellipse fill=\"white\" stroke=\"black\" cx=\"111.67\" cy=\"-91.15\" rx=\"16\" ry=\"16\"/>\n<text text-anchor=\"middle\" x=\"111.67\" y=\"-87.45\" font-family=\"Times,serif\" font-size=\"14.00\">B2D</text>\n</g>\n<!-- 1&#45;&gt;3 -->\n<g id=\"edge2\" class=\"edge\">\n<title>1&#45;&gt;3</title>\n<path fill=\"none\" stroke=\"black\" d=\"M95.34,-31.57C98.43,-42.86 102.65,-58.23 106.02,-70.53\"/>\n<polygon fill=\"black\" stroke=\"black\" points=\"104.4,-71.24 107.41,-75.6 107.77,-70.31 104.4,-71.24\"/>\n<text text-anchor=\"middle\" x=\"97.18\" y=\"-54.85\" font-family=\"Times,serif\" font-size=\"14.00\">1</text>\n</g>\n<!-- 4 -->\n<g id=\"node5\" class=\"node\">\n<title>4</title>\n<ellipse fill=\"lightgreen\" stroke=\"black\" cx=\"90.78\" cy=\"-159.97\" rx=\"16\" ry=\"16\"/>\n<text text-anchor=\"middle\" x=\"90.78\" y=\"-156.27\" font-family=\"Times,serif\" font-size=\"14.00\">C5E</text>\n</g>\n<!-- 2&#45;&gt;4 -->\n<g id=\"edge5\" class=\"edge\">\n<title>2&#45;&gt;4</title>\n<path fill=\"none\" stroke=\"black\" d=\"M48.67,-122.89C56.27,-129.59 66.19,-138.32 74.49,-145.64\"/>\n<polygon fill=\"black\" stroke=\"black\" points=\"73.51,-147.11 78.42,-149.1 75.83,-144.48 73.51,-147.11\"/>\n<text text-anchor=\"middle\" x=\"58.08\" y=\"-138.06\" font-family=\"Times,serif\" font-size=\"14.00\">2</text>\n</g>\n<!-- 3&#45;&gt;2 -->\n<g id=\"edge3\" class=\"edge\">\n<title>3&#45;&gt;2</title>\n<path fill=\"none\" stroke=\"black\" d=\"M96.13,-95.53C84.86,-98.71 69.52,-103.04 57.23,-106.51\"/>\n<polygon fill=\"black\" stroke=\"black\" points=\"56.51,-104.89 52.18,-107.93 57.46,-108.26 56.51,-104.89\"/>\n<text text-anchor=\"middle\" x=\"73.18\" y=\"-104.82\" font-family=\"Times,serif\" font-size=\"14.00\">2</text>\n</g>\n<!-- 3&#45;&gt;4 -->\n<g id=\"edge4\" class=\"edge\">\n<title>3&#45;&gt;4</title>\n<path fill=\"none\" stroke=\"black\" d=\"M106.93,-106.77C103.99,-116.45 100.18,-128.99 97,-139.46\"/>\n<polygon fill=\"black\" stroke=\"black\" points=\"95.28,-139.13 95.5,-144.42 98.63,-140.14 95.28,-139.13\"/>\n<text text-anchor=\"middle\" x=\"98.47\" y=\"-126.91\" font-family=\"Times,serif\" font-size=\"14.00\">5</text>\n</g>\n</g>\n</svg>\n",
      "text/plain": [
       "<graphviz.graphs.Digraph at 0x7f7960f65610>"
      ]
     },
     "execution_count": 346,
     "metadata": {},
     "output_type": "execute_result"
    }
   ],
   "source": [
    "explo.solve()"
   ]
  },
  {
   "cell_type": "code",
   "execution_count": 347,
   "id": "8df109e7-ce58-43d6-b716-9e9adbd1c952",
   "metadata": {},
   "outputs": [],
   "source": [
    "G1 = Graph()"
   ]
  },
  {
   "cell_type": "code",
   "execution_count": 348,
   "id": "db2d84be-5ec2-464b-b3cf-70663b6d0100",
   "metadata": {},
   "outputs": [],
   "source": [
    "G1.load_json('G1.json')"
   ]
  },
  {
   "cell_type": "code",
   "execution_count": 349,
   "id": "f03b79d0-8eaf-4619-81b7-1938335fb7cc",
   "metadata": {},
   "outputs": [
    {
     "name": "stdout",
     "output_type": "stream",
     "text": [
      "{0: 0, 1: inf, 2: inf, 3: inf, 4: inf, 5: inf, 6: inf, 7: inf, 8: inf}\n"
     ]
    }
   ],
   "source": [
    "DG1 = Dijkstra(G1)"
   ]
  },
  {
   "cell_type": "code",
   "execution_count": 350,
   "id": "87402a62-8791-4873-9117-341f908ba257",
   "metadata": {},
   "outputs": [
    {
     "data": {
      "image/svg+xml": "<?xml version=\"1.0\" encoding=\"UTF-8\" standalone=\"no\"?>\n<!DOCTYPE svg PUBLIC \"-//W3C//DTD SVG 1.1//EN\"\n \"http://www.w3.org/Graphics/SVG/1.1/DTD/svg11.dtd\">\n<!-- Generated by graphviz version 2.50.0 (20211204.2007)\n -->\n<!-- Pages: 1 -->\n<svg width=\"429pt\" height=\"234pt\"\n viewBox=\"0.00 0.00 428.80 234.40\" xmlns=\"http://www.w3.org/2000/svg\" xmlns:xlink=\"http://www.w3.org/1999/xlink\">\n<g id=\"graph0\" class=\"graph\" transform=\"scale(1 1) rotate(0) translate(4 230.4)\">\n<polygon fill=\"white\" stroke=\"transparent\" points=\"-4,4 -4,-230.4 424.8,-230.4 424.8,4 -4,4\"/>\n<!-- 0 -->\n<g id=\"node1\" class=\"node\">\n<title>0</title>\n<ellipse fill=\"lemonchiffon\" stroke=\"black\" cx=\"145.6\" cy=\"-16\" rx=\"16\" ry=\"16\"/>\n<text text-anchor=\"middle\" x=\"145.6\" y=\"-12.3\" font-family=\"Times,serif\" font-size=\"14.00\">A</text>\n</g>\n<!-- 1 -->\n<g id=\"node2\" class=\"node\">\n<title>1</title>\n<ellipse fill=\"white\" stroke=\"black\" cx=\"80.8\" cy=\"-80.8\" rx=\"16\" ry=\"16\"/>\n<text text-anchor=\"middle\" x=\"80.8\" y=\"-77.1\" font-family=\"Times,serif\" font-size=\"14.00\">B</text>\n</g>\n<!-- 0&#45;&#45;1 -->\n<g id=\"edge1\" class=\"edge\">\n<title>0&#45;&#45;1</title>\n<path fill=\"none\" stroke=\"black\" d=\"M134.02,-27.58C122.22,-39.38 104.04,-57.56 92.28,-69.32\"/>\n<text text-anchor=\"middle\" x=\"109.65\" y=\"-52.25\" font-family=\"Times,serif\" font-size=\"14.00\">3</text>\n</g>\n<!-- 3 -->\n<g id=\"node4\" class=\"node\">\n<title>3</title>\n<ellipse fill=\"white\" stroke=\"black\" cx=\"259\" cy=\"-48.4\" rx=\"16\" ry=\"16\"/>\n<text text-anchor=\"middle\" x=\"259\" y=\"-44.7\" font-family=\"Times,serif\" font-size=\"14.00\">D</text>\n</g>\n<!-- 0&#45;&#45;3 -->\n<g id=\"edge2\" class=\"edge\">\n<title>0&#45;&#45;3</title>\n<path fill=\"none\" stroke=\"black\" d=\"M161.37,-20.51C183.03,-26.7 221.77,-37.76 243.37,-43.93\"/>\n<text text-anchor=\"middle\" x=\"198.87\" y=\"-36.02\" font-family=\"Times,serif\" font-size=\"14.00\">6</text>\n</g>\n<!-- 2 -->\n<g id=\"node3\" class=\"node\">\n<title>2</title>\n<ellipse fill=\"white\" stroke=\"black\" cx=\"16\" cy=\"-113.2\" rx=\"16\" ry=\"16\"/>\n<text text-anchor=\"middle\" x=\"16\" y=\"-109.5\" font-family=\"Times,serif\" font-size=\"14.00\">C</text>\n</g>\n<!-- 1&#45;&#45;2 -->\n<g id=\"edge3\" class=\"edge\">\n<title>1&#45;&#45;2</title>\n<path fill=\"none\" stroke=\"black\" d=\"M66.42,-87.99C55.68,-93.36 41.07,-100.67 30.34,-106.03\"/>\n<text text-anchor=\"middle\" x=\"44.88\" y=\"-100.81\" font-family=\"Times,serif\" font-size=\"14.00\">2</text>\n</g>\n<!-- 4 -->\n<g id=\"node5\" class=\"node\">\n<title>4</title>\n<ellipse fill=\"white\" stroke=\"black\" cx=\"210.4\" cy=\"-113.2\" rx=\"16\" ry=\"16\"/>\n<text text-anchor=\"middle\" x=\"210.4\" y=\"-109.5\" font-family=\"Times,serif\" font-size=\"14.00\">E</text>\n</g>\n<!-- 1&#45;&#45;4 -->\n<g id=\"edge5\" class=\"edge\">\n<title>1&#45;&#45;4</title>\n<path fill=\"none\" stroke=\"black\" d=\"M96.43,-84.71C121.34,-90.94 169.77,-103.04 194.71,-109.28\"/>\n<text text-anchor=\"middle\" x=\"142.07\" y=\"-100.79\" font-family=\"Times,serif\" font-size=\"14.00\">6</text>\n</g>\n<!-- 5 -->\n<g id=\"node6\" class=\"node\">\n<title>5</title>\n<ellipse fill=\"white\" stroke=\"black\" cx=\"145.6\" cy=\"-178\" rx=\"16\" ry=\"16\"/>\n<text text-anchor=\"middle\" x=\"145.6\" y=\"-174.3\" font-family=\"Times,serif\" font-size=\"14.00\">F</text>\n</g>\n<!-- 1&#45;&#45;5 -->\n<g id=\"edge4\" class=\"edge\">\n<title>1&#45;&#45;5</title>\n<path fill=\"none\" stroke=\"black\" d=\"M89.81,-94.32C102.19,-112.89 124.33,-146.09 136.67,-164.6\"/>\n<text text-anchor=\"middle\" x=\"106.24\" y=\"-133.26\" font-family=\"Times,serif\" font-size=\"14.00\">20</text>\n</g>\n<!-- 2&#45;&#45;5 -->\n<g id=\"edge6\" class=\"edge\">\n<title>2&#45;&#45;5</title>\n<path fill=\"none\" stroke=\"black\" d=\"M30.36,-120.38C55.28,-132.84 106.21,-158.31 131.17,-170.79\"/>\n<text text-anchor=\"middle\" x=\"77.27\" y=\"-149.38\" font-family=\"Times,serif\" font-size=\"14.00\">4</text>\n</g>\n<!-- 3&#45;&#45;4 -->\n<g id=\"edge7\" class=\"edge\">\n<title>3&#45;&#45;4</title>\n<path fill=\"none\" stroke=\"black\" d=\"M249.4,-61.2C240.99,-72.42 228.82,-88.64 220.32,-99.98\"/>\n<text text-anchor=\"middle\" x=\"231.36\" y=\"-84.39\" font-family=\"Times,serif\" font-size=\"14.00\">4</text>\n</g>\n<!-- 6 -->\n<g id=\"node7\" class=\"node\">\n<title>6</title>\n<ellipse fill=\"white\" stroke=\"black\" cx=\"307.6\" cy=\"-113.2\" rx=\"16\" ry=\"16\"/>\n<text text-anchor=\"middle\" x=\"307.6\" y=\"-109.5\" font-family=\"Times,serif\" font-size=\"14.00\">G</text>\n</g>\n<!-- 3&#45;&#45;6 -->\n<g id=\"edge13\" class=\"edge\">\n<title>3&#45;&#45;6</title>\n<path fill=\"none\" stroke=\"black\" d=\"M268.6,-61.2C277.01,-72.42 289.18,-88.64 297.68,-99.98\"/>\n<text text-anchor=\"middle\" x=\"279.64\" y=\"-84.39\" font-family=\"Times,serif\" font-size=\"14.00\">7</text>\n</g>\n<!-- 7 -->\n<g id=\"node8\" class=\"node\">\n<title>7</title>\n<ellipse fill=\"white\" stroke=\"black\" cx=\"307.6\" cy=\"-210.4\" rx=\"16\" ry=\"16\"/>\n<text text-anchor=\"middle\" x=\"307.6\" y=\"-206.7\" font-family=\"Times,serif\" font-size=\"14.00\">H</text>\n</g>\n<!-- 4&#45;&#45;7 -->\n<g id=\"edge9\" class=\"edge\">\n<title>4&#45;&#45;7</title>\n<path fill=\"none\" stroke=\"black\" d=\"M221.93,-124.73C240.64,-143.44 277.39,-180.19 296.08,-198.88\"/>\n<text text-anchor=\"middle\" x=\"252.01\" y=\"-165.61\" font-family=\"Times,serif\" font-size=\"14.00\">22</text>\n</g>\n<!-- 5&#45;&#45;7 -->\n<g id=\"edge8\" class=\"edge\">\n<title>5&#45;&#45;7</title>\n<path fill=\"none\" stroke=\"black\" d=\"M161.43,-181.17C192.32,-187.34 260.33,-200.95 291.47,-207.17\"/>\n<text text-anchor=\"middle\" x=\"222.95\" y=\"-197.97\" font-family=\"Times,serif\" font-size=\"14.00\">3</text>\n</g>\n<!-- 6&#45;&#45;7 -->\n<g id=\"edge10\" class=\"edge\">\n<title>6&#45;&#45;7</title>\n<path fill=\"none\" stroke=\"black\" d=\"M307.6,-129.25C307.6,-147.26 307.6,-176.31 307.6,-194.33\"/>\n<text text-anchor=\"middle\" x=\"300.6\" y=\"-165.59\" font-family=\"Times,serif\" font-size=\"14.00\">19</text>\n</g>\n<!-- 8 -->\n<g id=\"node9\" class=\"node\">\n<title>8</title>\n<ellipse fill=\"white\" stroke=\"black\" cx=\"404.8\" cy=\"-178\" rx=\"16\" ry=\"16\"/>\n<text text-anchor=\"middle\" x=\"404.8\" y=\"-174.3\" font-family=\"Times,serif\" font-size=\"14.00\">I</text>\n</g>\n<!-- 6&#45;&#45;8 -->\n<g id=\"edge11\" class=\"edge\">\n<title>6&#45;&#45;8</title>\n<path fill=\"none\" stroke=\"black\" d=\"M321.12,-122.21C339.69,-134.59 372.89,-156.73 391.4,-169.07\"/>\n<text text-anchor=\"middle\" x=\"349.26\" y=\"-149.44\" font-family=\"Times,serif\" font-size=\"14.00\">21</text>\n</g>\n<!-- 7&#45;&#45;8 -->\n<g id=\"edge12\" class=\"edge\">\n<title>7&#45;&#45;8</title>\n<path fill=\"none\" stroke=\"black\" d=\"M322.79,-205.34C340.94,-199.29 371.15,-189.22 389.4,-183.13\"/>\n<text text-anchor=\"middle\" x=\"349.09\" y=\"-198.04\" font-family=\"Times,serif\" font-size=\"14.00\">18</text>\n</g>\n</g>\n</svg>\n",
      "text/plain": [
       "<graphviz.graphs.Graph at 0x7f7960f659d0>"
      ]
     },
     "execution_count": 350,
     "metadata": {},
     "output_type": "execute_result"
    }
   ],
   "source": [
    "DG1.next()"
   ]
  },
  {
   "cell_type": "code",
   "execution_count": 351,
   "id": "c1c503af-af44-424b-adc7-de455d1ea90f",
   "metadata": {},
   "outputs": [
    {
     "name": "stdout",
     "output_type": "stream",
     "text": [
      "False\n",
      "True\n"
     ]
    },
    {
     "data": {
      "image/svg+xml": "<?xml version=\"1.0\" encoding=\"UTF-8\" standalone=\"no\"?>\n<!DOCTYPE svg PUBLIC \"-//W3C//DTD SVG 1.1//EN\"\n \"http://www.w3.org/Graphics/SVG/1.1/DTD/svg11.dtd\">\n<!-- Generated by graphviz version 2.50.0 (20211204.2007)\n -->\n<!-- Pages: 1 -->\n<svg width=\"429pt\" height=\"234pt\"\n viewBox=\"0.00 0.00 428.80 234.40\" xmlns=\"http://www.w3.org/2000/svg\" xmlns:xlink=\"http://www.w3.org/1999/xlink\">\n<g id=\"graph0\" class=\"graph\" transform=\"scale(1 1) rotate(0) translate(4 230.4)\">\n<polygon fill=\"white\" stroke=\"transparent\" points=\"-4,4 -4,-230.4 424.8,-230.4 424.8,4 -4,4\"/>\n<!-- 0 -->\n<g id=\"node1\" class=\"node\">\n<title>0</title>\n<ellipse fill=\"lemonchiffon\" stroke=\"black\" cx=\"145.6\" cy=\"-16\" rx=\"16\" ry=\"16\"/>\n<text text-anchor=\"middle\" x=\"145.6\" y=\"-12.3\" font-family=\"Times,serif\" font-size=\"14.00\">A</text>\n</g>\n<!-- 1 -->\n<g id=\"node2\" class=\"node\">\n<title>1</title>\n<ellipse fill=\"lightgreen\" stroke=\"black\" cx=\"80.8\" cy=\"-80.8\" rx=\"16\" ry=\"16\"/>\n<text text-anchor=\"middle\" x=\"80.8\" y=\"-77.1\" font-family=\"Times,serif\" font-size=\"14.00\">A3B</text>\n</g>\n<!-- 0&#45;&#45;1 -->\n<g id=\"edge1\" class=\"edge\">\n<title>0&#45;&#45;1</title>\n<path fill=\"none\" stroke=\"black\" d=\"M134.02,-27.58C122.22,-39.38 104.04,-57.56 92.28,-69.32\"/>\n<text text-anchor=\"middle\" x=\"109.65\" y=\"-52.25\" font-family=\"Times,serif\" font-size=\"14.00\">3</text>\n</g>\n<!-- 3 -->\n<g id=\"node4\" class=\"node\">\n<title>3</title>\n<ellipse fill=\"lightgreen\" stroke=\"black\" cx=\"259\" cy=\"-48.4\" rx=\"16\" ry=\"16\"/>\n<text text-anchor=\"middle\" x=\"259\" y=\"-44.7\" font-family=\"Times,serif\" font-size=\"14.00\">A6D</text>\n</g>\n<!-- 0&#45;&#45;3 -->\n<g id=\"edge2\" class=\"edge\">\n<title>0&#45;&#45;3</title>\n<path fill=\"none\" stroke=\"black\" d=\"M161.37,-20.51C183.03,-26.7 221.77,-37.76 243.37,-43.93\"/>\n<text text-anchor=\"middle\" x=\"198.87\" y=\"-36.02\" font-family=\"Times,serif\" font-size=\"14.00\">6</text>\n</g>\n<!-- 2 -->\n<g id=\"node3\" class=\"node\">\n<title>2</title>\n<ellipse fill=\"white\" stroke=\"black\" cx=\"16\" cy=\"-113.2\" rx=\"16\" ry=\"16\"/>\n<text text-anchor=\"middle\" x=\"16\" y=\"-109.5\" font-family=\"Times,serif\" font-size=\"14.00\">C</text>\n</g>\n<!-- 1&#45;&#45;2 -->\n<g id=\"edge3\" class=\"edge\">\n<title>1&#45;&#45;2</title>\n<path fill=\"none\" stroke=\"black\" d=\"M66.42,-87.99C55.68,-93.36 41.07,-100.67 30.34,-106.03\"/>\n<text text-anchor=\"middle\" x=\"44.88\" y=\"-100.81\" font-family=\"Times,serif\" font-size=\"14.00\">2</text>\n</g>\n<!-- 4 -->\n<g id=\"node5\" class=\"node\">\n<title>4</title>\n<ellipse fill=\"white\" stroke=\"black\" cx=\"210.4\" cy=\"-113.2\" rx=\"16\" ry=\"16\"/>\n<text text-anchor=\"middle\" x=\"210.4\" y=\"-109.5\" font-family=\"Times,serif\" font-size=\"14.00\">E</text>\n</g>\n<!-- 1&#45;&#45;4 -->\n<g id=\"edge5\" class=\"edge\">\n<title>1&#45;&#45;4</title>\n<path fill=\"none\" stroke=\"black\" d=\"M96.43,-84.71C121.34,-90.94 169.77,-103.04 194.71,-109.28\"/>\n<text text-anchor=\"middle\" x=\"142.07\" y=\"-100.79\" font-family=\"Times,serif\" font-size=\"14.00\">6</text>\n</g>\n<!-- 5 -->\n<g id=\"node6\" class=\"node\">\n<title>5</title>\n<ellipse fill=\"white\" stroke=\"black\" cx=\"145.6\" cy=\"-178\" rx=\"16\" ry=\"16\"/>\n<text text-anchor=\"middle\" x=\"145.6\" y=\"-174.3\" font-family=\"Times,serif\" font-size=\"14.00\">F</text>\n</g>\n<!-- 1&#45;&#45;5 -->\n<g id=\"edge4\" class=\"edge\">\n<title>1&#45;&#45;5</title>\n<path fill=\"none\" stroke=\"black\" d=\"M89.81,-94.32C102.19,-112.89 124.33,-146.09 136.67,-164.6\"/>\n<text text-anchor=\"middle\" x=\"106.24\" y=\"-133.26\" font-family=\"Times,serif\" font-size=\"14.00\">20</text>\n</g>\n<!-- 2&#45;&#45;5 -->\n<g id=\"edge6\" class=\"edge\">\n<title>2&#45;&#45;5</title>\n<path fill=\"none\" stroke=\"black\" d=\"M30.36,-120.38C55.28,-132.84 106.21,-158.31 131.17,-170.79\"/>\n<text text-anchor=\"middle\" x=\"77.27\" y=\"-149.38\" font-family=\"Times,serif\" font-size=\"14.00\">4</text>\n</g>\n<!-- 3&#45;&#45;4 -->\n<g id=\"edge7\" class=\"edge\">\n<title>3&#45;&#45;4</title>\n<path fill=\"none\" stroke=\"black\" d=\"M249.4,-61.2C240.99,-72.42 228.82,-88.64 220.32,-99.98\"/>\n<text text-anchor=\"middle\" x=\"231.36\" y=\"-84.39\" font-family=\"Times,serif\" font-size=\"14.00\">4</text>\n</g>\n<!-- 6 -->\n<g id=\"node7\" class=\"node\">\n<title>6</title>\n<ellipse fill=\"white\" stroke=\"black\" cx=\"307.6\" cy=\"-113.2\" rx=\"16\" ry=\"16\"/>\n<text text-anchor=\"middle\" x=\"307.6\" y=\"-109.5\" font-family=\"Times,serif\" font-size=\"14.00\">G</text>\n</g>\n<!-- 3&#45;&#45;6 -->\n<g id=\"edge13\" class=\"edge\">\n<title>3&#45;&#45;6</title>\n<path fill=\"none\" stroke=\"black\" d=\"M268.6,-61.2C277.01,-72.42 289.18,-88.64 297.68,-99.98\"/>\n<text text-anchor=\"middle\" x=\"279.64\" y=\"-84.39\" font-family=\"Times,serif\" font-size=\"14.00\">7</text>\n</g>\n<!-- 7 -->\n<g id=\"node8\" class=\"node\">\n<title>7</title>\n<ellipse fill=\"white\" stroke=\"black\" cx=\"307.6\" cy=\"-210.4\" rx=\"16\" ry=\"16\"/>\n<text text-anchor=\"middle\" x=\"307.6\" y=\"-206.7\" font-family=\"Times,serif\" font-size=\"14.00\">H</text>\n</g>\n<!-- 4&#45;&#45;7 -->\n<g id=\"edge9\" class=\"edge\">\n<title>4&#45;&#45;7</title>\n<path fill=\"none\" stroke=\"black\" d=\"M221.93,-124.73C240.64,-143.44 277.39,-180.19 296.08,-198.88\"/>\n<text text-anchor=\"middle\" x=\"252.01\" y=\"-165.61\" font-family=\"Times,serif\" font-size=\"14.00\">22</text>\n</g>\n<!-- 5&#45;&#45;7 -->\n<g id=\"edge8\" class=\"edge\">\n<title>5&#45;&#45;7</title>\n<path fill=\"none\" stroke=\"black\" d=\"M161.43,-181.17C192.32,-187.34 260.33,-200.95 291.47,-207.17\"/>\n<text text-anchor=\"middle\" x=\"222.95\" y=\"-197.97\" font-family=\"Times,serif\" font-size=\"14.00\">3</text>\n</g>\n<!-- 6&#45;&#45;7 -->\n<g id=\"edge10\" class=\"edge\">\n<title>6&#45;&#45;7</title>\n<path fill=\"none\" stroke=\"black\" d=\"M307.6,-129.25C307.6,-147.26 307.6,-176.31 307.6,-194.33\"/>\n<text text-anchor=\"middle\" x=\"300.6\" y=\"-165.59\" font-family=\"Times,serif\" font-size=\"14.00\">19</text>\n</g>\n<!-- 8 -->\n<g id=\"node9\" class=\"node\">\n<title>8</title>\n<ellipse fill=\"white\" stroke=\"black\" cx=\"404.8\" cy=\"-178\" rx=\"16\" ry=\"16\"/>\n<text text-anchor=\"middle\" x=\"404.8\" y=\"-174.3\" font-family=\"Times,serif\" font-size=\"14.00\">I</text>\n</g>\n<!-- 6&#45;&#45;8 -->\n<g id=\"edge11\" class=\"edge\">\n<title>6&#45;&#45;8</title>\n<path fill=\"none\" stroke=\"black\" d=\"M321.12,-122.21C339.69,-134.59 372.89,-156.73 391.4,-169.07\"/>\n<text text-anchor=\"middle\" x=\"349.26\" y=\"-149.44\" font-family=\"Times,serif\" font-size=\"14.00\">21</text>\n</g>\n<!-- 7&#45;&#45;8 -->\n<g id=\"edge12\" class=\"edge\">\n<title>7&#45;&#45;8</title>\n<path fill=\"none\" stroke=\"black\" d=\"M322.79,-205.34C340.94,-199.29 371.15,-189.22 389.4,-183.13\"/>\n<text text-anchor=\"middle\" x=\"349.09\" y=\"-198.04\" font-family=\"Times,serif\" font-size=\"14.00\">18</text>\n</g>\n</g>\n</svg>\n",
      "text/plain": [
       "<graphviz.graphs.Graph at 0x7f7960f659d0>"
      ]
     },
     "execution_count": 351,
     "metadata": {},
     "output_type": "execute_result"
    }
   ],
   "source": [
    "DG1.next()"
   ]
  },
  {
   "cell_type": "code",
   "execution_count": 352,
   "id": "3b6a902d-4c96-48b1-a81f-fdd7265c98fe",
   "metadata": {},
   "outputs": [
    {
     "name": "stdout",
     "output_type": "stream",
     "text": [
      "False\n",
      "True\n",
      "False\n"
     ]
    },
    {
     "data": {
      "image/svg+xml": "<?xml version=\"1.0\" encoding=\"UTF-8\" standalone=\"no\"?>\n<!DOCTYPE svg PUBLIC \"-//W3C//DTD SVG 1.1//EN\"\n \"http://www.w3.org/Graphics/SVG/1.1/DTD/svg11.dtd\">\n<!-- Generated by graphviz version 2.50.0 (20211204.2007)\n -->\n<!-- Pages: 1 -->\n<svg width=\"429pt\" height=\"234pt\"\n viewBox=\"0.00 0.00 428.80 234.40\" xmlns=\"http://www.w3.org/2000/svg\" xmlns:xlink=\"http://www.w3.org/1999/xlink\">\n<g id=\"graph0\" class=\"graph\" transform=\"scale(1 1) rotate(0) translate(4 230.4)\">\n<polygon fill=\"white\" stroke=\"transparent\" points=\"-4,4 -4,-230.4 424.8,-230.4 424.8,4 -4,4\"/>\n<!-- 0 -->\n<g id=\"node1\" class=\"node\">\n<title>0</title>\n<ellipse fill=\"#ffb5c5\" stroke=\"black\" cx=\"145.6\" cy=\"-16\" rx=\"16\" ry=\"16\"/>\n<text text-anchor=\"middle\" x=\"145.6\" y=\"-12.3\" font-family=\"Times,serif\" font-size=\"14.00\">A</text>\n</g>\n<!-- 1 -->\n<g id=\"node2\" class=\"node\">\n<title>1</title>\n<ellipse fill=\"lemonchiffon\" stroke=\"black\" cx=\"80.8\" cy=\"-80.8\" rx=\"16\" ry=\"16\"/>\n<text text-anchor=\"middle\" x=\"80.8\" y=\"-77.1\" font-family=\"Times,serif\" font-size=\"14.00\">A3B</text>\n</g>\n<!-- 0&#45;&#45;1 -->\n<g id=\"edge1\" class=\"edge\">\n<title>0&#45;&#45;1</title>\n<path fill=\"none\" stroke=\"black\" d=\"M134.02,-27.58C122.22,-39.38 104.04,-57.56 92.28,-69.32\"/>\n<text text-anchor=\"middle\" x=\"109.65\" y=\"-52.25\" font-family=\"Times,serif\" font-size=\"14.00\">3</text>\n</g>\n<!-- 3 -->\n<g id=\"node4\" class=\"node\">\n<title>3</title>\n<ellipse fill=\"lightgreen\" stroke=\"black\" cx=\"259\" cy=\"-48.4\" rx=\"16\" ry=\"16\"/>\n<text text-anchor=\"middle\" x=\"259\" y=\"-44.7\" font-family=\"Times,serif\" font-size=\"14.00\">A6D</text>\n</g>\n<!-- 0&#45;&#45;3 -->\n<g id=\"edge2\" class=\"edge\">\n<title>0&#45;&#45;3</title>\n<path fill=\"none\" stroke=\"black\" d=\"M161.37,-20.51C183.03,-26.7 221.77,-37.76 243.37,-43.93\"/>\n<text text-anchor=\"middle\" x=\"198.87\" y=\"-36.02\" font-family=\"Times,serif\" font-size=\"14.00\">6</text>\n</g>\n<!-- 2 -->\n<g id=\"node3\" class=\"node\">\n<title>2</title>\n<ellipse fill=\"lightgreen\" stroke=\"black\" cx=\"16\" cy=\"-113.2\" rx=\"16\" ry=\"16\"/>\n<text text-anchor=\"middle\" x=\"16\" y=\"-109.5\" font-family=\"Times,serif\" font-size=\"14.00\">B5C</text>\n</g>\n<!-- 1&#45;&#45;2 -->\n<g id=\"edge3\" class=\"edge\">\n<title>1&#45;&#45;2</title>\n<path fill=\"none\" stroke=\"black\" d=\"M66.42,-87.99C55.68,-93.36 41.07,-100.67 30.34,-106.03\"/>\n<text text-anchor=\"middle\" x=\"44.88\" y=\"-100.81\" font-family=\"Times,serif\" font-size=\"14.00\">2</text>\n</g>\n<!-- 4 -->\n<g id=\"node5\" class=\"node\">\n<title>4</title>\n<ellipse fill=\"lightgreen\" stroke=\"black\" cx=\"210.4\" cy=\"-113.2\" rx=\"16\" ry=\"16\"/>\n<text text-anchor=\"middle\" x=\"210.4\" y=\"-109.5\" font-family=\"Times,serif\" font-size=\"14.00\">B9E</text>\n</g>\n<!-- 1&#45;&#45;4 -->\n<g id=\"edge5\" class=\"edge\">\n<title>1&#45;&#45;4</title>\n<path fill=\"none\" stroke=\"black\" d=\"M96.43,-84.71C121.34,-90.94 169.77,-103.04 194.71,-109.28\"/>\n<text text-anchor=\"middle\" x=\"142.07\" y=\"-100.79\" font-family=\"Times,serif\" font-size=\"14.00\">6</text>\n</g>\n<!-- 5 -->\n<g id=\"node6\" class=\"node\">\n<title>5</title>\n<ellipse fill=\"lightgreen\" stroke=\"black\" cx=\"145.6\" cy=\"-178\" rx=\"16\" ry=\"16\"/>\n<text text-anchor=\"middle\" x=\"145.6\" y=\"-174.3\" font-family=\"Times,serif\" font-size=\"14.00\">B23F</text>\n</g>\n<!-- 1&#45;&#45;5 -->\n<g id=\"edge4\" class=\"edge\">\n<title>1&#45;&#45;5</title>\n<path fill=\"none\" stroke=\"black\" d=\"M89.81,-94.32C102.19,-112.89 124.33,-146.09 136.67,-164.6\"/>\n<text text-anchor=\"middle\" x=\"106.24\" y=\"-133.26\" font-family=\"Times,serif\" font-size=\"14.00\">20</text>\n</g>\n<!-- 2&#45;&#45;5 -->\n<g id=\"edge6\" class=\"edge\">\n<title>2&#45;&#45;5</title>\n<path fill=\"none\" stroke=\"black\" d=\"M30.36,-120.38C55.28,-132.84 106.21,-158.31 131.17,-170.79\"/>\n<text text-anchor=\"middle\" x=\"77.27\" y=\"-149.38\" font-family=\"Times,serif\" font-size=\"14.00\">4</text>\n</g>\n<!-- 3&#45;&#45;4 -->\n<g id=\"edge7\" class=\"edge\">\n<title>3&#45;&#45;4</title>\n<path fill=\"none\" stroke=\"black\" d=\"M249.4,-61.2C240.99,-72.42 228.82,-88.64 220.32,-99.98\"/>\n<text text-anchor=\"middle\" x=\"231.36\" y=\"-84.39\" font-family=\"Times,serif\" font-size=\"14.00\">4</text>\n</g>\n<!-- 6 -->\n<g id=\"node7\" class=\"node\">\n<title>6</title>\n<ellipse fill=\"white\" stroke=\"black\" cx=\"307.6\" cy=\"-113.2\" rx=\"16\" ry=\"16\"/>\n<text text-anchor=\"middle\" x=\"307.6\" y=\"-109.5\" font-family=\"Times,serif\" font-size=\"14.00\">G</text>\n</g>\n<!-- 3&#45;&#45;6 -->\n<g id=\"edge13\" class=\"edge\">\n<title>3&#45;&#45;6</title>\n<path fill=\"none\" stroke=\"black\" d=\"M268.6,-61.2C277.01,-72.42 289.18,-88.64 297.68,-99.98\"/>\n<text text-anchor=\"middle\" x=\"279.64\" y=\"-84.39\" font-family=\"Times,serif\" font-size=\"14.00\">7</text>\n</g>\n<!-- 7 -->\n<g id=\"node8\" class=\"node\">\n<title>7</title>\n<ellipse fill=\"white\" stroke=\"black\" cx=\"307.6\" cy=\"-210.4\" rx=\"16\" ry=\"16\"/>\n<text text-anchor=\"middle\" x=\"307.6\" y=\"-206.7\" font-family=\"Times,serif\" font-size=\"14.00\">H</text>\n</g>\n<!-- 4&#45;&#45;7 -->\n<g id=\"edge9\" class=\"edge\">\n<title>4&#45;&#45;7</title>\n<path fill=\"none\" stroke=\"black\" d=\"M221.93,-124.73C240.64,-143.44 277.39,-180.19 296.08,-198.88\"/>\n<text text-anchor=\"middle\" x=\"252.01\" y=\"-165.61\" font-family=\"Times,serif\" font-size=\"14.00\">22</text>\n</g>\n<!-- 5&#45;&#45;7 -->\n<g id=\"edge8\" class=\"edge\">\n<title>5&#45;&#45;7</title>\n<path fill=\"none\" stroke=\"black\" d=\"M161.43,-181.17C192.32,-187.34 260.33,-200.95 291.47,-207.17\"/>\n<text text-anchor=\"middle\" x=\"222.95\" y=\"-197.97\" font-family=\"Times,serif\" font-size=\"14.00\">3</text>\n</g>\n<!-- 6&#45;&#45;7 -->\n<g id=\"edge10\" class=\"edge\">\n<title>6&#45;&#45;7</title>\n<path fill=\"none\" stroke=\"black\" d=\"M307.6,-129.25C307.6,-147.26 307.6,-176.31 307.6,-194.33\"/>\n<text text-anchor=\"middle\" x=\"300.6\" y=\"-165.59\" font-family=\"Times,serif\" font-size=\"14.00\">19</text>\n</g>\n<!-- 8 -->\n<g id=\"node9\" class=\"node\">\n<title>8</title>\n<ellipse fill=\"white\" stroke=\"black\" cx=\"404.8\" cy=\"-178\" rx=\"16\" ry=\"16\"/>\n<text text-anchor=\"middle\" x=\"404.8\" y=\"-174.3\" font-family=\"Times,serif\" font-size=\"14.00\">I</text>\n</g>\n<!-- 6&#45;&#45;8 -->\n<g id=\"edge11\" class=\"edge\">\n<title>6&#45;&#45;8</title>\n<path fill=\"none\" stroke=\"black\" d=\"M321.12,-122.21C339.69,-134.59 372.89,-156.73 391.4,-169.07\"/>\n<text text-anchor=\"middle\" x=\"349.26\" y=\"-149.44\" font-family=\"Times,serif\" font-size=\"14.00\">21</text>\n</g>\n<!-- 7&#45;&#45;8 -->\n<g id=\"edge12\" class=\"edge\">\n<title>7&#45;&#45;8</title>\n<path fill=\"none\" stroke=\"black\" d=\"M322.79,-205.34C340.94,-199.29 371.15,-189.22 389.4,-183.13\"/>\n<text text-anchor=\"middle\" x=\"349.09\" y=\"-198.04\" font-family=\"Times,serif\" font-size=\"14.00\">18</text>\n</g>\n</g>\n</svg>\n",
      "text/plain": [
       "<graphviz.graphs.Graph at 0x7f7960f659d0>"
      ]
     },
     "execution_count": 352,
     "metadata": {},
     "output_type": "execute_result"
    }
   ],
   "source": [
    "DG1.next()"
   ]
  },
  {
   "cell_type": "code",
   "execution_count": 353,
   "id": "b9ed5f52-5cae-49b1-9b8a-907bd2bf6cd2",
   "metadata": {},
   "outputs": [
    {
     "name": "stdout",
     "output_type": "stream",
     "text": [
      "True\n"
     ]
    },
    {
     "data": {
      "image/svg+xml": "<?xml version=\"1.0\" encoding=\"UTF-8\" standalone=\"no\"?>\n<!DOCTYPE svg PUBLIC \"-//W3C//DTD SVG 1.1//EN\"\n \"http://www.w3.org/Graphics/SVG/1.1/DTD/svg11.dtd\">\n<!-- Generated by graphviz version 2.50.0 (20211204.2007)\n -->\n<!-- Pages: 1 -->\n<svg width=\"429pt\" height=\"234pt\"\n viewBox=\"0.00 0.00 428.80 234.40\" xmlns=\"http://www.w3.org/2000/svg\" xmlns:xlink=\"http://www.w3.org/1999/xlink\">\n<g id=\"graph0\" class=\"graph\" transform=\"scale(1 1) rotate(0) translate(4 230.4)\">\n<polygon fill=\"white\" stroke=\"transparent\" points=\"-4,4 -4,-230.4 424.8,-230.4 424.8,4 -4,4\"/>\n<!-- 0 -->\n<g id=\"node1\" class=\"node\">\n<title>0</title>\n<ellipse fill=\"#ffb5c5\" stroke=\"black\" cx=\"145.6\" cy=\"-16\" rx=\"16\" ry=\"16\"/>\n<text text-anchor=\"middle\" x=\"145.6\" y=\"-12.3\" font-family=\"Times,serif\" font-size=\"14.00\">A</text>\n</g>\n<!-- 1 -->\n<g id=\"node2\" class=\"node\">\n<title>1</title>\n<ellipse fill=\"#ffb5c5\" stroke=\"black\" cx=\"80.8\" cy=\"-80.8\" rx=\"16\" ry=\"16\"/>\n<text text-anchor=\"middle\" x=\"80.8\" y=\"-77.1\" font-family=\"Times,serif\" font-size=\"14.00\">A3B</text>\n</g>\n<!-- 0&#45;&#45;1 -->\n<g id=\"edge1\" class=\"edge\">\n<title>0&#45;&#45;1</title>\n<path fill=\"none\" stroke=\"black\" d=\"M134.02,-27.58C122.22,-39.38 104.04,-57.56 92.28,-69.32\"/>\n<text text-anchor=\"middle\" x=\"109.65\" y=\"-52.25\" font-family=\"Times,serif\" font-size=\"14.00\">3</text>\n</g>\n<!-- 3 -->\n<g id=\"node4\" class=\"node\">\n<title>3</title>\n<ellipse fill=\"lightgreen\" stroke=\"black\" cx=\"259\" cy=\"-48.4\" rx=\"16\" ry=\"16\"/>\n<text text-anchor=\"middle\" x=\"259\" y=\"-44.7\" font-family=\"Times,serif\" font-size=\"14.00\">A6D</text>\n</g>\n<!-- 0&#45;&#45;3 -->\n<g id=\"edge2\" class=\"edge\">\n<title>0&#45;&#45;3</title>\n<path fill=\"none\" stroke=\"black\" d=\"M161.37,-20.51C183.03,-26.7 221.77,-37.76 243.37,-43.93\"/>\n<text text-anchor=\"middle\" x=\"198.87\" y=\"-36.02\" font-family=\"Times,serif\" font-size=\"14.00\">6</text>\n</g>\n<!-- 2 -->\n<g id=\"node3\" class=\"node\">\n<title>2</title>\n<ellipse fill=\"lemonchiffon\" stroke=\"black\" cx=\"16\" cy=\"-113.2\" rx=\"16\" ry=\"16\"/>\n<text text-anchor=\"middle\" x=\"16\" y=\"-109.5\" font-family=\"Times,serif\" font-size=\"14.00\">B5C</text>\n</g>\n<!-- 1&#45;&#45;2 -->\n<g id=\"edge3\" class=\"edge\">\n<title>1&#45;&#45;2</title>\n<path fill=\"none\" stroke=\"black\" d=\"M66.42,-87.99C55.68,-93.36 41.07,-100.67 30.34,-106.03\"/>\n<text text-anchor=\"middle\" x=\"44.88\" y=\"-100.81\" font-family=\"Times,serif\" font-size=\"14.00\">2</text>\n</g>\n<!-- 4 -->\n<g id=\"node5\" class=\"node\">\n<title>4</title>\n<ellipse fill=\"lightgreen\" stroke=\"black\" cx=\"210.4\" cy=\"-113.2\" rx=\"16\" ry=\"16\"/>\n<text text-anchor=\"middle\" x=\"210.4\" y=\"-109.5\" font-family=\"Times,serif\" font-size=\"14.00\">B9E</text>\n</g>\n<!-- 1&#45;&#45;4 -->\n<g id=\"edge5\" class=\"edge\">\n<title>1&#45;&#45;4</title>\n<path fill=\"none\" stroke=\"black\" d=\"M96.43,-84.71C121.34,-90.94 169.77,-103.04 194.71,-109.28\"/>\n<text text-anchor=\"middle\" x=\"142.07\" y=\"-100.79\" font-family=\"Times,serif\" font-size=\"14.00\">6</text>\n</g>\n<!-- 5 -->\n<g id=\"node6\" class=\"node\">\n<title>5</title>\n<ellipse fill=\"lightgreen\" stroke=\"black\" cx=\"145.6\" cy=\"-178\" rx=\"16\" ry=\"16\"/>\n<text text-anchor=\"middle\" x=\"145.6\" y=\"-174.3\" font-family=\"Times,serif\" font-size=\"14.00\">C9F</text>\n</g>\n<!-- 1&#45;&#45;5 -->\n<g id=\"edge4\" class=\"edge\">\n<title>1&#45;&#45;5</title>\n<path fill=\"none\" stroke=\"black\" d=\"M89.81,-94.32C102.19,-112.89 124.33,-146.09 136.67,-164.6\"/>\n<text text-anchor=\"middle\" x=\"106.24\" y=\"-133.26\" font-family=\"Times,serif\" font-size=\"14.00\">20</text>\n</g>\n<!-- 2&#45;&#45;5 -->\n<g id=\"edge6\" class=\"edge\">\n<title>2&#45;&#45;5</title>\n<path fill=\"none\" stroke=\"black\" d=\"M30.36,-120.38C55.28,-132.84 106.21,-158.31 131.17,-170.79\"/>\n<text text-anchor=\"middle\" x=\"77.27\" y=\"-149.38\" font-family=\"Times,serif\" font-size=\"14.00\">4</text>\n</g>\n<!-- 3&#45;&#45;4 -->\n<g id=\"edge7\" class=\"edge\">\n<title>3&#45;&#45;4</title>\n<path fill=\"none\" stroke=\"black\" d=\"M249.4,-61.2C240.99,-72.42 228.82,-88.64 220.32,-99.98\"/>\n<text text-anchor=\"middle\" x=\"231.36\" y=\"-84.39\" font-family=\"Times,serif\" font-size=\"14.00\">4</text>\n</g>\n<!-- 6 -->\n<g id=\"node7\" class=\"node\">\n<title>6</title>\n<ellipse fill=\"white\" stroke=\"black\" cx=\"307.6\" cy=\"-113.2\" rx=\"16\" ry=\"16\"/>\n<text text-anchor=\"middle\" x=\"307.6\" y=\"-109.5\" font-family=\"Times,serif\" font-size=\"14.00\">G</text>\n</g>\n<!-- 3&#45;&#45;6 -->\n<g id=\"edge13\" class=\"edge\">\n<title>3&#45;&#45;6</title>\n<path fill=\"none\" stroke=\"black\" d=\"M268.6,-61.2C277.01,-72.42 289.18,-88.64 297.68,-99.98\"/>\n<text text-anchor=\"middle\" x=\"279.64\" y=\"-84.39\" font-family=\"Times,serif\" font-size=\"14.00\">7</text>\n</g>\n<!-- 7 -->\n<g id=\"node8\" class=\"node\">\n<title>7</title>\n<ellipse fill=\"white\" stroke=\"black\" cx=\"307.6\" cy=\"-210.4\" rx=\"16\" ry=\"16\"/>\n<text text-anchor=\"middle\" x=\"307.6\" y=\"-206.7\" font-family=\"Times,serif\" font-size=\"14.00\">H</text>\n</g>\n<!-- 4&#45;&#45;7 -->\n<g id=\"edge9\" class=\"edge\">\n<title>4&#45;&#45;7</title>\n<path fill=\"none\" stroke=\"black\" d=\"M221.93,-124.73C240.64,-143.44 277.39,-180.19 296.08,-198.88\"/>\n<text text-anchor=\"middle\" x=\"252.01\" y=\"-165.61\" font-family=\"Times,serif\" font-size=\"14.00\">22</text>\n</g>\n<!-- 5&#45;&#45;7 -->\n<g id=\"edge8\" class=\"edge\">\n<title>5&#45;&#45;7</title>\n<path fill=\"none\" stroke=\"black\" d=\"M161.43,-181.17C192.32,-187.34 260.33,-200.95 291.47,-207.17\"/>\n<text text-anchor=\"middle\" x=\"222.95\" y=\"-197.97\" font-family=\"Times,serif\" font-size=\"14.00\">3</text>\n</g>\n<!-- 6&#45;&#45;7 -->\n<g id=\"edge10\" class=\"edge\">\n<title>6&#45;&#45;7</title>\n<path fill=\"none\" stroke=\"black\" d=\"M307.6,-129.25C307.6,-147.26 307.6,-176.31 307.6,-194.33\"/>\n<text text-anchor=\"middle\" x=\"300.6\" y=\"-165.59\" font-family=\"Times,serif\" font-size=\"14.00\">19</text>\n</g>\n<!-- 8 -->\n<g id=\"node9\" class=\"node\">\n<title>8</title>\n<ellipse fill=\"white\" stroke=\"black\" cx=\"404.8\" cy=\"-178\" rx=\"16\" ry=\"16\"/>\n<text text-anchor=\"middle\" x=\"404.8\" y=\"-174.3\" font-family=\"Times,serif\" font-size=\"14.00\">I</text>\n</g>\n<!-- 6&#45;&#45;8 -->\n<g id=\"edge11\" class=\"edge\">\n<title>6&#45;&#45;8</title>\n<path fill=\"none\" stroke=\"black\" d=\"M321.12,-122.21C339.69,-134.59 372.89,-156.73 391.4,-169.07\"/>\n<text text-anchor=\"middle\" x=\"349.26\" y=\"-149.44\" font-family=\"Times,serif\" font-size=\"14.00\">21</text>\n</g>\n<!-- 7&#45;&#45;8 -->\n<g id=\"edge12\" class=\"edge\">\n<title>7&#45;&#45;8</title>\n<path fill=\"none\" stroke=\"black\" d=\"M322.79,-205.34C340.94,-199.29 371.15,-189.22 389.4,-183.13\"/>\n<text text-anchor=\"middle\" x=\"349.09\" y=\"-198.04\" font-family=\"Times,serif\" font-size=\"14.00\">18</text>\n</g>\n</g>\n</svg>\n",
      "text/plain": [
       "<graphviz.graphs.Graph at 0x7f7960f659d0>"
      ]
     },
     "execution_count": 353,
     "metadata": {},
     "output_type": "execute_result"
    }
   ],
   "source": [
    "DG1.next()"
   ]
  },
  {
   "cell_type": "code",
   "execution_count": 354,
   "id": "e31f9191-6a18-4b67-86be-775055fbf3c4",
   "metadata": {},
   "outputs": [
    {
     "name": "stderr",
     "output_type": "stream",
     "text": [
      "Warning: node '6', graph '%3' size too small for label\n"
     ]
    },
    {
     "name": "stdout",
     "output_type": "stream",
     "text": [
      "False\n"
     ]
    },
    {
     "data": {
      "image/svg+xml": "<?xml version=\"1.0\" encoding=\"UTF-8\" standalone=\"no\"?>\n<!DOCTYPE svg PUBLIC \"-//W3C//DTD SVG 1.1//EN\"\n \"http://www.w3.org/Graphics/SVG/1.1/DTD/svg11.dtd\">\n<!-- Generated by graphviz version 2.50.0 (20211204.2007)\n -->\n<!-- Pages: 1 -->\n<svg width=\"429pt\" height=\"234pt\"\n viewBox=\"0.00 0.00 428.80 234.40\" xmlns=\"http://www.w3.org/2000/svg\" xmlns:xlink=\"http://www.w3.org/1999/xlink\">\n<g id=\"graph0\" class=\"graph\" transform=\"scale(1 1) rotate(0) translate(4 230.4)\">\n<polygon fill=\"white\" stroke=\"transparent\" points=\"-4,4 -4,-230.4 424.8,-230.4 424.8,4 -4,4\"/>\n<!-- 0 -->\n<g id=\"node1\" class=\"node\">\n<title>0</title>\n<ellipse fill=\"#ffb5c5\" stroke=\"black\" cx=\"145.6\" cy=\"-16\" rx=\"16\" ry=\"16\"/>\n<text text-anchor=\"middle\" x=\"145.6\" y=\"-12.3\" font-family=\"Times,serif\" font-size=\"14.00\">A</text>\n</g>\n<!-- 1 -->\n<g id=\"node2\" class=\"node\">\n<title>1</title>\n<ellipse fill=\"#ffb5c5\" stroke=\"black\" cx=\"80.8\" cy=\"-80.8\" rx=\"16\" ry=\"16\"/>\n<text text-anchor=\"middle\" x=\"80.8\" y=\"-77.1\" font-family=\"Times,serif\" font-size=\"14.00\">A3B</text>\n</g>\n<!-- 0&#45;&#45;1 -->\n<g id=\"edge1\" class=\"edge\">\n<title>0&#45;&#45;1</title>\n<path fill=\"none\" stroke=\"black\" d=\"M134.02,-27.58C122.22,-39.38 104.04,-57.56 92.28,-69.32\"/>\n<text text-anchor=\"middle\" x=\"109.65\" y=\"-52.25\" font-family=\"Times,serif\" font-size=\"14.00\">3</text>\n</g>\n<!-- 3 -->\n<g id=\"node4\" class=\"node\">\n<title>3</title>\n<ellipse fill=\"lemonchiffon\" stroke=\"black\" cx=\"259\" cy=\"-48.4\" rx=\"16\" ry=\"16\"/>\n<text text-anchor=\"middle\" x=\"259\" y=\"-44.7\" font-family=\"Times,serif\" font-size=\"14.00\">A6D</text>\n</g>\n<!-- 0&#45;&#45;3 -->\n<g id=\"edge2\" class=\"edge\">\n<title>0&#45;&#45;3</title>\n<path fill=\"none\" stroke=\"black\" d=\"M161.37,-20.51C183.03,-26.7 221.77,-37.76 243.37,-43.93\"/>\n<text text-anchor=\"middle\" x=\"198.87\" y=\"-36.02\" font-family=\"Times,serif\" font-size=\"14.00\">6</text>\n</g>\n<!-- 2 -->\n<g id=\"node3\" class=\"node\">\n<title>2</title>\n<ellipse fill=\"#ffb5c5\" stroke=\"black\" cx=\"16\" cy=\"-113.2\" rx=\"16\" ry=\"16\"/>\n<text text-anchor=\"middle\" x=\"16\" y=\"-109.5\" font-family=\"Times,serif\" font-size=\"14.00\">B5C</text>\n</g>\n<!-- 1&#45;&#45;2 -->\n<g id=\"edge3\" class=\"edge\">\n<title>1&#45;&#45;2</title>\n<path fill=\"none\" stroke=\"black\" d=\"M66.42,-87.99C55.68,-93.36 41.07,-100.67 30.34,-106.03\"/>\n<text text-anchor=\"middle\" x=\"44.88\" y=\"-100.81\" font-family=\"Times,serif\" font-size=\"14.00\">2</text>\n</g>\n<!-- 4 -->\n<g id=\"node5\" class=\"node\">\n<title>4</title>\n<ellipse fill=\"lightgreen\" stroke=\"black\" cx=\"210.4\" cy=\"-113.2\" rx=\"16\" ry=\"16\"/>\n<text text-anchor=\"middle\" x=\"210.4\" y=\"-109.5\" font-family=\"Times,serif\" font-size=\"14.00\">B9E</text>\n</g>\n<!-- 1&#45;&#45;4 -->\n<g id=\"edge5\" class=\"edge\">\n<title>1&#45;&#45;4</title>\n<path fill=\"none\" stroke=\"black\" d=\"M96.43,-84.71C121.34,-90.94 169.77,-103.04 194.71,-109.28\"/>\n<text text-anchor=\"middle\" x=\"142.07\" y=\"-100.79\" font-family=\"Times,serif\" font-size=\"14.00\">6</text>\n</g>\n<!-- 5 -->\n<g id=\"node6\" class=\"node\">\n<title>5</title>\n<ellipse fill=\"lightgreen\" stroke=\"black\" cx=\"145.6\" cy=\"-178\" rx=\"16\" ry=\"16\"/>\n<text text-anchor=\"middle\" x=\"145.6\" y=\"-174.3\" font-family=\"Times,serif\" font-size=\"14.00\">C9F</text>\n</g>\n<!-- 1&#45;&#45;5 -->\n<g id=\"edge4\" class=\"edge\">\n<title>1&#45;&#45;5</title>\n<path fill=\"none\" stroke=\"black\" d=\"M89.81,-94.32C102.19,-112.89 124.33,-146.09 136.67,-164.6\"/>\n<text text-anchor=\"middle\" x=\"106.24\" y=\"-133.26\" font-family=\"Times,serif\" font-size=\"14.00\">20</text>\n</g>\n<!-- 2&#45;&#45;5 -->\n<g id=\"edge6\" class=\"edge\">\n<title>2&#45;&#45;5</title>\n<path fill=\"none\" stroke=\"black\" d=\"M30.36,-120.38C55.28,-132.84 106.21,-158.31 131.17,-170.79\"/>\n<text text-anchor=\"middle\" x=\"77.27\" y=\"-149.38\" font-family=\"Times,serif\" font-size=\"14.00\">4</text>\n</g>\n<!-- 3&#45;&#45;4 -->\n<g id=\"edge7\" class=\"edge\">\n<title>3&#45;&#45;4</title>\n<path fill=\"none\" stroke=\"black\" d=\"M249.4,-61.2C240.99,-72.42 228.82,-88.64 220.32,-99.98\"/>\n<text text-anchor=\"middle\" x=\"231.36\" y=\"-84.39\" font-family=\"Times,serif\" font-size=\"14.00\">4</text>\n</g>\n<!-- 6 -->\n<g id=\"node7\" class=\"node\">\n<title>6</title>\n<ellipse fill=\"lightgreen\" stroke=\"black\" cx=\"307.6\" cy=\"-113.2\" rx=\"16\" ry=\"16\"/>\n<text text-anchor=\"middle\" x=\"307.6\" y=\"-109.5\" font-family=\"Times,serif\" font-size=\"14.00\">D13G</text>\n</g>\n<!-- 3&#45;&#45;6 -->\n<g id=\"edge13\" class=\"edge\">\n<title>3&#45;&#45;6</title>\n<path fill=\"none\" stroke=\"black\" d=\"M268.6,-61.2C277.01,-72.42 289.18,-88.64 297.68,-99.98\"/>\n<text text-anchor=\"middle\" x=\"279.64\" y=\"-84.39\" font-family=\"Times,serif\" font-size=\"14.00\">7</text>\n</g>\n<!-- 7 -->\n<g id=\"node8\" class=\"node\">\n<title>7</title>\n<ellipse fill=\"white\" stroke=\"black\" cx=\"307.6\" cy=\"-210.4\" rx=\"16\" ry=\"16\"/>\n<text text-anchor=\"middle\" x=\"307.6\" y=\"-206.7\" font-family=\"Times,serif\" font-size=\"14.00\">H</text>\n</g>\n<!-- 4&#45;&#45;7 -->\n<g id=\"edge9\" class=\"edge\">\n<title>4&#45;&#45;7</title>\n<path fill=\"none\" stroke=\"black\" d=\"M221.93,-124.73C240.64,-143.44 277.39,-180.19 296.08,-198.88\"/>\n<text text-anchor=\"middle\" x=\"252.01\" y=\"-165.61\" font-family=\"Times,serif\" font-size=\"14.00\">22</text>\n</g>\n<!-- 5&#45;&#45;7 -->\n<g id=\"edge8\" class=\"edge\">\n<title>5&#45;&#45;7</title>\n<path fill=\"none\" stroke=\"black\" d=\"M161.43,-181.17C192.32,-187.34 260.33,-200.95 291.47,-207.17\"/>\n<text text-anchor=\"middle\" x=\"222.95\" y=\"-197.97\" font-family=\"Times,serif\" font-size=\"14.00\">3</text>\n</g>\n<!-- 6&#45;&#45;7 -->\n<g id=\"edge10\" class=\"edge\">\n<title>6&#45;&#45;7</title>\n<path fill=\"none\" stroke=\"black\" d=\"M307.6,-129.25C307.6,-147.26 307.6,-176.31 307.6,-194.33\"/>\n<text text-anchor=\"middle\" x=\"300.6\" y=\"-165.59\" font-family=\"Times,serif\" font-size=\"14.00\">19</text>\n</g>\n<!-- 8 -->\n<g id=\"node9\" class=\"node\">\n<title>8</title>\n<ellipse fill=\"white\" stroke=\"black\" cx=\"404.8\" cy=\"-178\" rx=\"16\" ry=\"16\"/>\n<text text-anchor=\"middle\" x=\"404.8\" y=\"-174.3\" font-family=\"Times,serif\" font-size=\"14.00\">I</text>\n</g>\n<!-- 6&#45;&#45;8 -->\n<g id=\"edge11\" class=\"edge\">\n<title>6&#45;&#45;8</title>\n<path fill=\"none\" stroke=\"black\" d=\"M321.12,-122.21C339.69,-134.59 372.89,-156.73 391.4,-169.07\"/>\n<text text-anchor=\"middle\" x=\"349.26\" y=\"-149.44\" font-family=\"Times,serif\" font-size=\"14.00\">21</text>\n</g>\n<!-- 7&#45;&#45;8 -->\n<g id=\"edge12\" class=\"edge\">\n<title>7&#45;&#45;8</title>\n<path fill=\"none\" stroke=\"black\" d=\"M322.79,-205.34C340.94,-199.29 371.15,-189.22 389.4,-183.13\"/>\n<text text-anchor=\"middle\" x=\"349.09\" y=\"-198.04\" font-family=\"Times,serif\" font-size=\"14.00\">18</text>\n</g>\n</g>\n</svg>\n",
      "text/plain": [
       "<graphviz.graphs.Graph at 0x7f7960f659d0>"
      ]
     },
     "execution_count": 354,
     "metadata": {},
     "output_type": "execute_result"
    }
   ],
   "source": [
    "DG1.next()"
   ]
  },
  {
   "cell_type": "code",
   "execution_count": 355,
   "id": "6f568849-cd2c-4235-9cf5-b88721e3f3e3",
   "metadata": {},
   "outputs": [
    {
     "name": "stderr",
     "output_type": "stream",
     "text": [
      "Warning: node '6', graph '%3' size too small for label\n"
     ]
    },
    {
     "name": "stdout",
     "output_type": "stream",
     "text": [
      "False\n"
     ]
    },
    {
     "data": {
      "image/svg+xml": "<?xml version=\"1.0\" encoding=\"UTF-8\" standalone=\"no\"?>\n<!DOCTYPE svg PUBLIC \"-//W3C//DTD SVG 1.1//EN\"\n \"http://www.w3.org/Graphics/SVG/1.1/DTD/svg11.dtd\">\n<!-- Generated by graphviz version 2.50.0 (20211204.2007)\n -->\n<!-- Pages: 1 -->\n<svg width=\"429pt\" height=\"234pt\"\n viewBox=\"0.00 0.00 428.80 234.40\" xmlns=\"http://www.w3.org/2000/svg\" xmlns:xlink=\"http://www.w3.org/1999/xlink\">\n<g id=\"graph0\" class=\"graph\" transform=\"scale(1 1) rotate(0) translate(4 230.4)\">\n<polygon fill=\"white\" stroke=\"transparent\" points=\"-4,4 -4,-230.4 424.8,-230.4 424.8,4 -4,4\"/>\n<!-- 0 -->\n<g id=\"node1\" class=\"node\">\n<title>0</title>\n<ellipse fill=\"#ffb5c5\" stroke=\"black\" cx=\"145.6\" cy=\"-16\" rx=\"16\" ry=\"16\"/>\n<text text-anchor=\"middle\" x=\"145.6\" y=\"-12.3\" font-family=\"Times,serif\" font-size=\"14.00\">A</text>\n</g>\n<!-- 1 -->\n<g id=\"node2\" class=\"node\">\n<title>1</title>\n<ellipse fill=\"#ffb5c5\" stroke=\"black\" cx=\"80.8\" cy=\"-80.8\" rx=\"16\" ry=\"16\"/>\n<text text-anchor=\"middle\" x=\"80.8\" y=\"-77.1\" font-family=\"Times,serif\" font-size=\"14.00\">A3B</text>\n</g>\n<!-- 0&#45;&#45;1 -->\n<g id=\"edge1\" class=\"edge\">\n<title>0&#45;&#45;1</title>\n<path fill=\"none\" stroke=\"black\" d=\"M134.02,-27.58C122.22,-39.38 104.04,-57.56 92.28,-69.32\"/>\n<text text-anchor=\"middle\" x=\"109.65\" y=\"-52.25\" font-family=\"Times,serif\" font-size=\"14.00\">3</text>\n</g>\n<!-- 3 -->\n<g id=\"node4\" class=\"node\">\n<title>3</title>\n<ellipse fill=\"#ffb5c5\" stroke=\"black\" cx=\"259\" cy=\"-48.4\" rx=\"16\" ry=\"16\"/>\n<text text-anchor=\"middle\" x=\"259\" y=\"-44.7\" font-family=\"Times,serif\" font-size=\"14.00\">A6D</text>\n</g>\n<!-- 0&#45;&#45;3 -->\n<g id=\"edge2\" class=\"edge\">\n<title>0&#45;&#45;3</title>\n<path fill=\"none\" stroke=\"black\" d=\"M161.37,-20.51C183.03,-26.7 221.77,-37.76 243.37,-43.93\"/>\n<text text-anchor=\"middle\" x=\"198.87\" y=\"-36.02\" font-family=\"Times,serif\" font-size=\"14.00\">6</text>\n</g>\n<!-- 2 -->\n<g id=\"node3\" class=\"node\">\n<title>2</title>\n<ellipse fill=\"#ffb5c5\" stroke=\"black\" cx=\"16\" cy=\"-113.2\" rx=\"16\" ry=\"16\"/>\n<text text-anchor=\"middle\" x=\"16\" y=\"-109.5\" font-family=\"Times,serif\" font-size=\"14.00\">B5C</text>\n</g>\n<!-- 1&#45;&#45;2 -->\n<g id=\"edge3\" class=\"edge\">\n<title>1&#45;&#45;2</title>\n<path fill=\"none\" stroke=\"black\" d=\"M66.42,-87.99C55.68,-93.36 41.07,-100.67 30.34,-106.03\"/>\n<text text-anchor=\"middle\" x=\"44.88\" y=\"-100.81\" font-family=\"Times,serif\" font-size=\"14.00\">2</text>\n</g>\n<!-- 4 -->\n<g id=\"node5\" class=\"node\">\n<title>4</title>\n<ellipse fill=\"lemonchiffon\" stroke=\"black\" cx=\"210.4\" cy=\"-113.2\" rx=\"16\" ry=\"16\"/>\n<text text-anchor=\"middle\" x=\"210.4\" y=\"-109.5\" font-family=\"Times,serif\" font-size=\"14.00\">B9E</text>\n</g>\n<!-- 1&#45;&#45;4 -->\n<g id=\"edge5\" class=\"edge\">\n<title>1&#45;&#45;4</title>\n<path fill=\"none\" stroke=\"black\" d=\"M96.43,-84.71C121.34,-90.94 169.77,-103.04 194.71,-109.28\"/>\n<text text-anchor=\"middle\" x=\"142.07\" y=\"-100.79\" font-family=\"Times,serif\" font-size=\"14.00\">6</text>\n</g>\n<!-- 5 -->\n<g id=\"node6\" class=\"node\">\n<title>5</title>\n<ellipse fill=\"lightgreen\" stroke=\"black\" cx=\"145.6\" cy=\"-178\" rx=\"16\" ry=\"16\"/>\n<text text-anchor=\"middle\" x=\"145.6\" y=\"-174.3\" font-family=\"Times,serif\" font-size=\"14.00\">C9F</text>\n</g>\n<!-- 1&#45;&#45;5 -->\n<g id=\"edge4\" class=\"edge\">\n<title>1&#45;&#45;5</title>\n<path fill=\"none\" stroke=\"black\" d=\"M89.81,-94.32C102.19,-112.89 124.33,-146.09 136.67,-164.6\"/>\n<text text-anchor=\"middle\" x=\"106.24\" y=\"-133.26\" font-family=\"Times,serif\" font-size=\"14.00\">20</text>\n</g>\n<!-- 2&#45;&#45;5 -->\n<g id=\"edge6\" class=\"edge\">\n<title>2&#45;&#45;5</title>\n<path fill=\"none\" stroke=\"black\" d=\"M30.36,-120.38C55.28,-132.84 106.21,-158.31 131.17,-170.79\"/>\n<text text-anchor=\"middle\" x=\"77.27\" y=\"-149.38\" font-family=\"Times,serif\" font-size=\"14.00\">4</text>\n</g>\n<!-- 3&#45;&#45;4 -->\n<g id=\"edge7\" class=\"edge\">\n<title>3&#45;&#45;4</title>\n<path fill=\"none\" stroke=\"black\" d=\"M249.4,-61.2C240.99,-72.42 228.82,-88.64 220.32,-99.98\"/>\n<text text-anchor=\"middle\" x=\"231.36\" y=\"-84.39\" font-family=\"Times,serif\" font-size=\"14.00\">4</text>\n</g>\n<!-- 6 -->\n<g id=\"node7\" class=\"node\">\n<title>6</title>\n<ellipse fill=\"lightgreen\" stroke=\"black\" cx=\"307.6\" cy=\"-113.2\" rx=\"16\" ry=\"16\"/>\n<text text-anchor=\"middle\" x=\"307.6\" y=\"-109.5\" font-family=\"Times,serif\" font-size=\"14.00\">D13G</text>\n</g>\n<!-- 3&#45;&#45;6 -->\n<g id=\"edge13\" class=\"edge\">\n<title>3&#45;&#45;6</title>\n<path fill=\"none\" stroke=\"black\" d=\"M268.6,-61.2C277.01,-72.42 289.18,-88.64 297.68,-99.98\"/>\n<text text-anchor=\"middle\" x=\"279.64\" y=\"-84.39\" font-family=\"Times,serif\" font-size=\"14.00\">7</text>\n</g>\n<!-- 7 -->\n<g id=\"node8\" class=\"node\">\n<title>7</title>\n<ellipse fill=\"lightgreen\" stroke=\"black\" cx=\"307.6\" cy=\"-210.4\" rx=\"16\" ry=\"16\"/>\n<text text-anchor=\"middle\" x=\"307.6\" y=\"-206.7\" font-family=\"Times,serif\" font-size=\"14.00\">E31H</text>\n</g>\n<!-- 4&#45;&#45;7 -->\n<g id=\"edge9\" class=\"edge\">\n<title>4&#45;&#45;7</title>\n<path fill=\"none\" stroke=\"black\" d=\"M221.93,-124.73C240.64,-143.44 277.39,-180.19 296.08,-198.88\"/>\n<text text-anchor=\"middle\" x=\"252.01\" y=\"-165.61\" font-family=\"Times,serif\" font-size=\"14.00\">22</text>\n</g>\n<!-- 5&#45;&#45;7 -->\n<g id=\"edge8\" class=\"edge\">\n<title>5&#45;&#45;7</title>\n<path fill=\"none\" stroke=\"black\" d=\"M161.43,-181.17C192.32,-187.34 260.33,-200.95 291.47,-207.17\"/>\n<text text-anchor=\"middle\" x=\"222.95\" y=\"-197.97\" font-family=\"Times,serif\" font-size=\"14.00\">3</text>\n</g>\n<!-- 6&#45;&#45;7 -->\n<g id=\"edge10\" class=\"edge\">\n<title>6&#45;&#45;7</title>\n<path fill=\"none\" stroke=\"black\" d=\"M307.6,-129.25C307.6,-147.26 307.6,-176.31 307.6,-194.33\"/>\n<text text-anchor=\"middle\" x=\"300.6\" y=\"-165.59\" font-family=\"Times,serif\" font-size=\"14.00\">19</text>\n</g>\n<!-- 8 -->\n<g id=\"node9\" class=\"node\">\n<title>8</title>\n<ellipse fill=\"white\" stroke=\"black\" cx=\"404.8\" cy=\"-178\" rx=\"16\" ry=\"16\"/>\n<text text-anchor=\"middle\" x=\"404.8\" y=\"-174.3\" font-family=\"Times,serif\" font-size=\"14.00\">I</text>\n</g>\n<!-- 6&#45;&#45;8 -->\n<g id=\"edge11\" class=\"edge\">\n<title>6&#45;&#45;8</title>\n<path fill=\"none\" stroke=\"black\" d=\"M321.12,-122.21C339.69,-134.59 372.89,-156.73 391.4,-169.07\"/>\n<text text-anchor=\"middle\" x=\"349.26\" y=\"-149.44\" font-family=\"Times,serif\" font-size=\"14.00\">21</text>\n</g>\n<!-- 7&#45;&#45;8 -->\n<g id=\"edge12\" class=\"edge\">\n<title>7&#45;&#45;8</title>\n<path fill=\"none\" stroke=\"black\" d=\"M322.79,-205.34C340.94,-199.29 371.15,-189.22 389.4,-183.13\"/>\n<text text-anchor=\"middle\" x=\"349.09\" y=\"-198.04\" font-family=\"Times,serif\" font-size=\"14.00\">18</text>\n</g>\n</g>\n</svg>\n",
      "text/plain": [
       "<graphviz.graphs.Graph at 0x7f7960f659d0>"
      ]
     },
     "execution_count": 355,
     "metadata": {},
     "output_type": "execute_result"
    }
   ],
   "source": [
    "DG1.next()"
   ]
  },
  {
   "cell_type": "code",
   "execution_count": 356,
   "id": "ea677daf-1730-4254-918e-c225b249c093",
   "metadata": {},
   "outputs": [
    {
     "name": "stderr",
     "output_type": "stream",
     "text": [
      "Warning: node '6', graph '%3' size too small for label\n"
     ]
    },
    {
     "name": "stdout",
     "output_type": "stream",
     "text": [
      "True\n"
     ]
    },
    {
     "data": {
      "image/svg+xml": "<?xml version=\"1.0\" encoding=\"UTF-8\" standalone=\"no\"?>\n<!DOCTYPE svg PUBLIC \"-//W3C//DTD SVG 1.1//EN\"\n \"http://www.w3.org/Graphics/SVG/1.1/DTD/svg11.dtd\">\n<!-- Generated by graphviz version 2.50.0 (20211204.2007)\n -->\n<!-- Pages: 1 -->\n<svg width=\"429pt\" height=\"234pt\"\n viewBox=\"0.00 0.00 428.80 234.40\" xmlns=\"http://www.w3.org/2000/svg\" xmlns:xlink=\"http://www.w3.org/1999/xlink\">\n<g id=\"graph0\" class=\"graph\" transform=\"scale(1 1) rotate(0) translate(4 230.4)\">\n<polygon fill=\"white\" stroke=\"transparent\" points=\"-4,4 -4,-230.4 424.8,-230.4 424.8,4 -4,4\"/>\n<!-- 0 -->\n<g id=\"node1\" class=\"node\">\n<title>0</title>\n<ellipse fill=\"#ffb5c5\" stroke=\"black\" cx=\"145.6\" cy=\"-16\" rx=\"16\" ry=\"16\"/>\n<text text-anchor=\"middle\" x=\"145.6\" y=\"-12.3\" font-family=\"Times,serif\" font-size=\"14.00\">A</text>\n</g>\n<!-- 1 -->\n<g id=\"node2\" class=\"node\">\n<title>1</title>\n<ellipse fill=\"#ffb5c5\" stroke=\"black\" cx=\"80.8\" cy=\"-80.8\" rx=\"16\" ry=\"16\"/>\n<text text-anchor=\"middle\" x=\"80.8\" y=\"-77.1\" font-family=\"Times,serif\" font-size=\"14.00\">A3B</text>\n</g>\n<!-- 0&#45;&#45;1 -->\n<g id=\"edge1\" class=\"edge\">\n<title>0&#45;&#45;1</title>\n<path fill=\"none\" stroke=\"black\" d=\"M134.02,-27.58C122.22,-39.38 104.04,-57.56 92.28,-69.32\"/>\n<text text-anchor=\"middle\" x=\"109.65\" y=\"-52.25\" font-family=\"Times,serif\" font-size=\"14.00\">3</text>\n</g>\n<!-- 3 -->\n<g id=\"node4\" class=\"node\">\n<title>3</title>\n<ellipse fill=\"#ffb5c5\" stroke=\"black\" cx=\"259\" cy=\"-48.4\" rx=\"16\" ry=\"16\"/>\n<text text-anchor=\"middle\" x=\"259\" y=\"-44.7\" font-family=\"Times,serif\" font-size=\"14.00\">A6D</text>\n</g>\n<!-- 0&#45;&#45;3 -->\n<g id=\"edge2\" class=\"edge\">\n<title>0&#45;&#45;3</title>\n<path fill=\"none\" stroke=\"black\" d=\"M161.37,-20.51C183.03,-26.7 221.77,-37.76 243.37,-43.93\"/>\n<text text-anchor=\"middle\" x=\"198.87\" y=\"-36.02\" font-family=\"Times,serif\" font-size=\"14.00\">6</text>\n</g>\n<!-- 2 -->\n<g id=\"node3\" class=\"node\">\n<title>2</title>\n<ellipse fill=\"#ffb5c5\" stroke=\"black\" cx=\"16\" cy=\"-113.2\" rx=\"16\" ry=\"16\"/>\n<text text-anchor=\"middle\" x=\"16\" y=\"-109.5\" font-family=\"Times,serif\" font-size=\"14.00\">B5C</text>\n</g>\n<!-- 1&#45;&#45;2 -->\n<g id=\"edge3\" class=\"edge\">\n<title>1&#45;&#45;2</title>\n<path fill=\"none\" stroke=\"black\" d=\"M66.42,-87.99C55.68,-93.36 41.07,-100.67 30.34,-106.03\"/>\n<text text-anchor=\"middle\" x=\"44.88\" y=\"-100.81\" font-family=\"Times,serif\" font-size=\"14.00\">2</text>\n</g>\n<!-- 4 -->\n<g id=\"node5\" class=\"node\">\n<title>4</title>\n<ellipse fill=\"#ffb5c5\" stroke=\"black\" cx=\"210.4\" cy=\"-113.2\" rx=\"16\" ry=\"16\"/>\n<text text-anchor=\"middle\" x=\"210.4\" y=\"-109.5\" font-family=\"Times,serif\" font-size=\"14.00\">B9E</text>\n</g>\n<!-- 1&#45;&#45;4 -->\n<g id=\"edge5\" class=\"edge\">\n<title>1&#45;&#45;4</title>\n<path fill=\"none\" stroke=\"black\" d=\"M96.43,-84.71C121.34,-90.94 169.77,-103.04 194.71,-109.28\"/>\n<text text-anchor=\"middle\" x=\"142.07\" y=\"-100.79\" font-family=\"Times,serif\" font-size=\"14.00\">6</text>\n</g>\n<!-- 5 -->\n<g id=\"node6\" class=\"node\">\n<title>5</title>\n<ellipse fill=\"lemonchiffon\" stroke=\"black\" cx=\"145.6\" cy=\"-178\" rx=\"16\" ry=\"16\"/>\n<text text-anchor=\"middle\" x=\"145.6\" y=\"-174.3\" font-family=\"Times,serif\" font-size=\"14.00\">C9F</text>\n</g>\n<!-- 1&#45;&#45;5 -->\n<g id=\"edge4\" class=\"edge\">\n<title>1&#45;&#45;5</title>\n<path fill=\"none\" stroke=\"black\" d=\"M89.81,-94.32C102.19,-112.89 124.33,-146.09 136.67,-164.6\"/>\n<text text-anchor=\"middle\" x=\"106.24\" y=\"-133.26\" font-family=\"Times,serif\" font-size=\"14.00\">20</text>\n</g>\n<!-- 2&#45;&#45;5 -->\n<g id=\"edge6\" class=\"edge\">\n<title>2&#45;&#45;5</title>\n<path fill=\"none\" stroke=\"black\" d=\"M30.36,-120.38C55.28,-132.84 106.21,-158.31 131.17,-170.79\"/>\n<text text-anchor=\"middle\" x=\"77.27\" y=\"-149.38\" font-family=\"Times,serif\" font-size=\"14.00\">4</text>\n</g>\n<!-- 3&#45;&#45;4 -->\n<g id=\"edge7\" class=\"edge\">\n<title>3&#45;&#45;4</title>\n<path fill=\"none\" stroke=\"black\" d=\"M249.4,-61.2C240.99,-72.42 228.82,-88.64 220.32,-99.98\"/>\n<text text-anchor=\"middle\" x=\"231.36\" y=\"-84.39\" font-family=\"Times,serif\" font-size=\"14.00\">4</text>\n</g>\n<!-- 6 -->\n<g id=\"node7\" class=\"node\">\n<title>6</title>\n<ellipse fill=\"lightgreen\" stroke=\"black\" cx=\"307.6\" cy=\"-113.2\" rx=\"16\" ry=\"16\"/>\n<text text-anchor=\"middle\" x=\"307.6\" y=\"-109.5\" font-family=\"Times,serif\" font-size=\"14.00\">D13G</text>\n</g>\n<!-- 3&#45;&#45;6 -->\n<g id=\"edge13\" class=\"edge\">\n<title>3&#45;&#45;6</title>\n<path fill=\"none\" stroke=\"black\" d=\"M268.6,-61.2C277.01,-72.42 289.18,-88.64 297.68,-99.98\"/>\n<text text-anchor=\"middle\" x=\"279.64\" y=\"-84.39\" font-family=\"Times,serif\" font-size=\"14.00\">7</text>\n</g>\n<!-- 7 -->\n<g id=\"node8\" class=\"node\">\n<title>7</title>\n<ellipse fill=\"lightgreen\" stroke=\"black\" cx=\"307.6\" cy=\"-210.4\" rx=\"16\" ry=\"16\"/>\n<text text-anchor=\"middle\" x=\"307.6\" y=\"-206.7\" font-family=\"Times,serif\" font-size=\"14.00\">F12H</text>\n</g>\n<!-- 4&#45;&#45;7 -->\n<g id=\"edge9\" class=\"edge\">\n<title>4&#45;&#45;7</title>\n<path fill=\"none\" stroke=\"black\" d=\"M221.93,-124.73C240.64,-143.44 277.39,-180.19 296.08,-198.88\"/>\n<text text-anchor=\"middle\" x=\"252.01\" y=\"-165.61\" font-family=\"Times,serif\" font-size=\"14.00\">22</text>\n</g>\n<!-- 5&#45;&#45;7 -->\n<g id=\"edge8\" class=\"edge\">\n<title>5&#45;&#45;7</title>\n<path fill=\"none\" stroke=\"black\" d=\"M161.43,-181.17C192.32,-187.34 260.33,-200.95 291.47,-207.17\"/>\n<text text-anchor=\"middle\" x=\"222.95\" y=\"-197.97\" font-family=\"Times,serif\" font-size=\"14.00\">3</text>\n</g>\n<!-- 6&#45;&#45;7 -->\n<g id=\"edge10\" class=\"edge\">\n<title>6&#45;&#45;7</title>\n<path fill=\"none\" stroke=\"black\" d=\"M307.6,-129.25C307.6,-147.26 307.6,-176.31 307.6,-194.33\"/>\n<text text-anchor=\"middle\" x=\"300.6\" y=\"-165.59\" font-family=\"Times,serif\" font-size=\"14.00\">19</text>\n</g>\n<!-- 8 -->\n<g id=\"node9\" class=\"node\">\n<title>8</title>\n<ellipse fill=\"white\" stroke=\"black\" cx=\"404.8\" cy=\"-178\" rx=\"16\" ry=\"16\"/>\n<text text-anchor=\"middle\" x=\"404.8\" y=\"-174.3\" font-family=\"Times,serif\" font-size=\"14.00\">I</text>\n</g>\n<!-- 6&#45;&#45;8 -->\n<g id=\"edge11\" class=\"edge\">\n<title>6&#45;&#45;8</title>\n<path fill=\"none\" stroke=\"black\" d=\"M321.12,-122.21C339.69,-134.59 372.89,-156.73 391.4,-169.07\"/>\n<text text-anchor=\"middle\" x=\"349.26\" y=\"-149.44\" font-family=\"Times,serif\" font-size=\"14.00\">21</text>\n</g>\n<!-- 7&#45;&#45;8 -->\n<g id=\"edge12\" class=\"edge\">\n<title>7&#45;&#45;8</title>\n<path fill=\"none\" stroke=\"black\" d=\"M322.79,-205.34C340.94,-199.29 371.15,-189.22 389.4,-183.13\"/>\n<text text-anchor=\"middle\" x=\"349.09\" y=\"-198.04\" font-family=\"Times,serif\" font-size=\"14.00\">18</text>\n</g>\n</g>\n</svg>\n",
      "text/plain": [
       "<graphviz.graphs.Graph at 0x7f7960f659d0>"
      ]
     },
     "execution_count": 356,
     "metadata": {},
     "output_type": "execute_result"
    }
   ],
   "source": [
    "DG1.next()"
   ]
  },
  {
   "cell_type": "code",
   "execution_count": 357,
   "id": "6948e76f-9c57-45ad-99fe-1b89249c55a2",
   "metadata": {},
   "outputs": [
    {
     "name": "stderr",
     "output_type": "stream",
     "text": [
      "Warning: node '6', graph '%3' size too small for label\n"
     ]
    },
    {
     "name": "stdout",
     "output_type": "stream",
     "text": [
      "False\n"
     ]
    },
    {
     "data": {
      "image/svg+xml": "<?xml version=\"1.0\" encoding=\"UTF-8\" standalone=\"no\"?>\n<!DOCTYPE svg PUBLIC \"-//W3C//DTD SVG 1.1//EN\"\n \"http://www.w3.org/Graphics/SVG/1.1/DTD/svg11.dtd\">\n<!-- Generated by graphviz version 2.50.0 (20211204.2007)\n -->\n<!-- Pages: 1 -->\n<svg width=\"429pt\" height=\"234pt\"\n viewBox=\"0.00 0.00 428.80 234.40\" xmlns=\"http://www.w3.org/2000/svg\" xmlns:xlink=\"http://www.w3.org/1999/xlink\">\n<g id=\"graph0\" class=\"graph\" transform=\"scale(1 1) rotate(0) translate(4 230.4)\">\n<polygon fill=\"white\" stroke=\"transparent\" points=\"-4,4 -4,-230.4 424.8,-230.4 424.8,4 -4,4\"/>\n<!-- 0 -->\n<g id=\"node1\" class=\"node\">\n<title>0</title>\n<ellipse fill=\"#ffb5c5\" stroke=\"black\" cx=\"145.6\" cy=\"-16\" rx=\"16\" ry=\"16\"/>\n<text text-anchor=\"middle\" x=\"145.6\" y=\"-12.3\" font-family=\"Times,serif\" font-size=\"14.00\">A</text>\n</g>\n<!-- 1 -->\n<g id=\"node2\" class=\"node\">\n<title>1</title>\n<ellipse fill=\"#ffb5c5\" stroke=\"black\" cx=\"80.8\" cy=\"-80.8\" rx=\"16\" ry=\"16\"/>\n<text text-anchor=\"middle\" x=\"80.8\" y=\"-77.1\" font-family=\"Times,serif\" font-size=\"14.00\">A3B</text>\n</g>\n<!-- 0&#45;&#45;1 -->\n<g id=\"edge1\" class=\"edge\">\n<title>0&#45;&#45;1</title>\n<path fill=\"none\" stroke=\"black\" d=\"M134.02,-27.58C122.22,-39.38 104.04,-57.56 92.28,-69.32\"/>\n<text text-anchor=\"middle\" x=\"109.65\" y=\"-52.25\" font-family=\"Times,serif\" font-size=\"14.00\">3</text>\n</g>\n<!-- 3 -->\n<g id=\"node4\" class=\"node\">\n<title>3</title>\n<ellipse fill=\"#ffb5c5\" stroke=\"black\" cx=\"259\" cy=\"-48.4\" rx=\"16\" ry=\"16\"/>\n<text text-anchor=\"middle\" x=\"259\" y=\"-44.7\" font-family=\"Times,serif\" font-size=\"14.00\">A6D</text>\n</g>\n<!-- 0&#45;&#45;3 -->\n<g id=\"edge2\" class=\"edge\">\n<title>0&#45;&#45;3</title>\n<path fill=\"none\" stroke=\"black\" d=\"M161.37,-20.51C183.03,-26.7 221.77,-37.76 243.37,-43.93\"/>\n<text text-anchor=\"middle\" x=\"198.87\" y=\"-36.02\" font-family=\"Times,serif\" font-size=\"14.00\">6</text>\n</g>\n<!-- 2 -->\n<g id=\"node3\" class=\"node\">\n<title>2</title>\n<ellipse fill=\"#ffb5c5\" stroke=\"black\" cx=\"16\" cy=\"-113.2\" rx=\"16\" ry=\"16\"/>\n<text text-anchor=\"middle\" x=\"16\" y=\"-109.5\" font-family=\"Times,serif\" font-size=\"14.00\">B5C</text>\n</g>\n<!-- 1&#45;&#45;2 -->\n<g id=\"edge3\" class=\"edge\">\n<title>1&#45;&#45;2</title>\n<path fill=\"none\" stroke=\"black\" d=\"M66.42,-87.99C55.68,-93.36 41.07,-100.67 30.34,-106.03\"/>\n<text text-anchor=\"middle\" x=\"44.88\" y=\"-100.81\" font-family=\"Times,serif\" font-size=\"14.00\">2</text>\n</g>\n<!-- 4 -->\n<g id=\"node5\" class=\"node\">\n<title>4</title>\n<ellipse fill=\"#ffb5c5\" stroke=\"black\" cx=\"210.4\" cy=\"-113.2\" rx=\"16\" ry=\"16\"/>\n<text text-anchor=\"middle\" x=\"210.4\" y=\"-109.5\" font-family=\"Times,serif\" font-size=\"14.00\">B9E</text>\n</g>\n<!-- 1&#45;&#45;4 -->\n<g id=\"edge5\" class=\"edge\">\n<title>1&#45;&#45;4</title>\n<path fill=\"none\" stroke=\"black\" d=\"M96.43,-84.71C121.34,-90.94 169.77,-103.04 194.71,-109.28\"/>\n<text text-anchor=\"middle\" x=\"142.07\" y=\"-100.79\" font-family=\"Times,serif\" font-size=\"14.00\">6</text>\n</g>\n<!-- 5 -->\n<g id=\"node6\" class=\"node\">\n<title>5</title>\n<ellipse fill=\"#ffb5c5\" stroke=\"black\" cx=\"145.6\" cy=\"-178\" rx=\"16\" ry=\"16\"/>\n<text text-anchor=\"middle\" x=\"145.6\" y=\"-174.3\" font-family=\"Times,serif\" font-size=\"14.00\">C9F</text>\n</g>\n<!-- 1&#45;&#45;5 -->\n<g id=\"edge4\" class=\"edge\">\n<title>1&#45;&#45;5</title>\n<path fill=\"none\" stroke=\"black\" d=\"M89.81,-94.32C102.19,-112.89 124.33,-146.09 136.67,-164.6\"/>\n<text text-anchor=\"middle\" x=\"106.24\" y=\"-133.26\" font-family=\"Times,serif\" font-size=\"14.00\">20</text>\n</g>\n<!-- 2&#45;&#45;5 -->\n<g id=\"edge6\" class=\"edge\">\n<title>2&#45;&#45;5</title>\n<path fill=\"none\" stroke=\"black\" d=\"M30.36,-120.38C55.28,-132.84 106.21,-158.31 131.17,-170.79\"/>\n<text text-anchor=\"middle\" x=\"77.27\" y=\"-149.38\" font-family=\"Times,serif\" font-size=\"14.00\">4</text>\n</g>\n<!-- 3&#45;&#45;4 -->\n<g id=\"edge7\" class=\"edge\">\n<title>3&#45;&#45;4</title>\n<path fill=\"none\" stroke=\"black\" d=\"M249.4,-61.2C240.99,-72.42 228.82,-88.64 220.32,-99.98\"/>\n<text text-anchor=\"middle\" x=\"231.36\" y=\"-84.39\" font-family=\"Times,serif\" font-size=\"14.00\">4</text>\n</g>\n<!-- 6 -->\n<g id=\"node7\" class=\"node\">\n<title>6</title>\n<ellipse fill=\"lightgreen\" stroke=\"black\" cx=\"307.6\" cy=\"-113.2\" rx=\"16\" ry=\"16\"/>\n<text text-anchor=\"middle\" x=\"307.6\" y=\"-109.5\" font-family=\"Times,serif\" font-size=\"14.00\">D13G</text>\n</g>\n<!-- 3&#45;&#45;6 -->\n<g id=\"edge13\" class=\"edge\">\n<title>3&#45;&#45;6</title>\n<path fill=\"none\" stroke=\"black\" d=\"M268.6,-61.2C277.01,-72.42 289.18,-88.64 297.68,-99.98\"/>\n<text text-anchor=\"middle\" x=\"279.64\" y=\"-84.39\" font-family=\"Times,serif\" font-size=\"14.00\">7</text>\n</g>\n<!-- 7 -->\n<g id=\"node8\" class=\"node\">\n<title>7</title>\n<ellipse fill=\"lemonchiffon\" stroke=\"black\" cx=\"307.6\" cy=\"-210.4\" rx=\"16\" ry=\"16\"/>\n<text text-anchor=\"middle\" x=\"307.6\" y=\"-206.7\" font-family=\"Times,serif\" font-size=\"14.00\">F12H</text>\n</g>\n<!-- 4&#45;&#45;7 -->\n<g id=\"edge9\" class=\"edge\">\n<title>4&#45;&#45;7</title>\n<path fill=\"none\" stroke=\"black\" d=\"M221.93,-124.73C240.64,-143.44 277.39,-180.19 296.08,-198.88\"/>\n<text text-anchor=\"middle\" x=\"252.01\" y=\"-165.61\" font-family=\"Times,serif\" font-size=\"14.00\">22</text>\n</g>\n<!-- 5&#45;&#45;7 -->\n<g id=\"edge8\" class=\"edge\">\n<title>5&#45;&#45;7</title>\n<path fill=\"none\" stroke=\"black\" d=\"M161.43,-181.17C192.32,-187.34 260.33,-200.95 291.47,-207.17\"/>\n<text text-anchor=\"middle\" x=\"222.95\" y=\"-197.97\" font-family=\"Times,serif\" font-size=\"14.00\">3</text>\n</g>\n<!-- 6&#45;&#45;7 -->\n<g id=\"edge10\" class=\"edge\">\n<title>6&#45;&#45;7</title>\n<path fill=\"none\" stroke=\"black\" d=\"M307.6,-129.25C307.6,-147.26 307.6,-176.31 307.6,-194.33\"/>\n<text text-anchor=\"middle\" x=\"300.6\" y=\"-165.59\" font-family=\"Times,serif\" font-size=\"14.00\">19</text>\n</g>\n<!-- 8 -->\n<g id=\"node9\" class=\"node\">\n<title>8</title>\n<ellipse fill=\"lightgreen\" stroke=\"black\" cx=\"404.8\" cy=\"-178\" rx=\"16\" ry=\"16\"/>\n<text text-anchor=\"middle\" x=\"404.8\" y=\"-174.3\" font-family=\"Times,serif\" font-size=\"14.00\">H30I</text>\n</g>\n<!-- 6&#45;&#45;8 -->\n<g id=\"edge11\" class=\"edge\">\n<title>6&#45;&#45;8</title>\n<path fill=\"none\" stroke=\"black\" d=\"M321.12,-122.21C339.69,-134.59 372.89,-156.73 391.4,-169.07\"/>\n<text text-anchor=\"middle\" x=\"349.26\" y=\"-149.44\" font-family=\"Times,serif\" font-size=\"14.00\">21</text>\n</g>\n<!-- 7&#45;&#45;8 -->\n<g id=\"edge12\" class=\"edge\">\n<title>7&#45;&#45;8</title>\n<path fill=\"none\" stroke=\"black\" d=\"M322.79,-205.34C340.94,-199.29 371.15,-189.22 389.4,-183.13\"/>\n<text text-anchor=\"middle\" x=\"349.09\" y=\"-198.04\" font-family=\"Times,serif\" font-size=\"14.00\">18</text>\n</g>\n</g>\n</svg>\n",
      "text/plain": [
       "<graphviz.graphs.Graph at 0x7f7960f659d0>"
      ]
     },
     "execution_count": 357,
     "metadata": {},
     "output_type": "execute_result"
    }
   ],
   "source": [
    "DG1.next()"
   ]
  },
  {
   "cell_type": "code",
   "execution_count": 358,
   "id": "08f77a15-db5c-4edc-894b-fc5df2b06349",
   "metadata": {},
   "outputs": [
    {
     "name": "stderr",
     "output_type": "stream",
     "text": [
      "Warning: node '6', graph '%3' size too small for label\n"
     ]
    },
    {
     "data": {
      "image/svg+xml": "<?xml version=\"1.0\" encoding=\"UTF-8\" standalone=\"no\"?>\n<!DOCTYPE svg PUBLIC \"-//W3C//DTD SVG 1.1//EN\"\n \"http://www.w3.org/Graphics/SVG/1.1/DTD/svg11.dtd\">\n<!-- Generated by graphviz version 2.50.0 (20211204.2007)\n -->\n<!-- Pages: 1 -->\n<svg width=\"429pt\" height=\"234pt\"\n viewBox=\"0.00 0.00 428.80 234.40\" xmlns=\"http://www.w3.org/2000/svg\" xmlns:xlink=\"http://www.w3.org/1999/xlink\">\n<g id=\"graph0\" class=\"graph\" transform=\"scale(1 1) rotate(0) translate(4 230.4)\">\n<polygon fill=\"white\" stroke=\"transparent\" points=\"-4,4 -4,-230.4 424.8,-230.4 424.8,4 -4,4\"/>\n<!-- 0 -->\n<g id=\"node1\" class=\"node\">\n<title>0</title>\n<ellipse fill=\"#ffb5c5\" stroke=\"black\" cx=\"145.6\" cy=\"-16\" rx=\"16\" ry=\"16\"/>\n<text text-anchor=\"middle\" x=\"145.6\" y=\"-12.3\" font-family=\"Times,serif\" font-size=\"14.00\">A</text>\n</g>\n<!-- 1 -->\n<g id=\"node2\" class=\"node\">\n<title>1</title>\n<ellipse fill=\"#ffb5c5\" stroke=\"black\" cx=\"80.8\" cy=\"-80.8\" rx=\"16\" ry=\"16\"/>\n<text text-anchor=\"middle\" x=\"80.8\" y=\"-77.1\" font-family=\"Times,serif\" font-size=\"14.00\">A3B</text>\n</g>\n<!-- 0&#45;&#45;1 -->\n<g id=\"edge1\" class=\"edge\">\n<title>0&#45;&#45;1</title>\n<path fill=\"none\" stroke=\"black\" d=\"M134.02,-27.58C122.22,-39.38 104.04,-57.56 92.28,-69.32\"/>\n<text text-anchor=\"middle\" x=\"109.65\" y=\"-52.25\" font-family=\"Times,serif\" font-size=\"14.00\">3</text>\n</g>\n<!-- 3 -->\n<g id=\"node4\" class=\"node\">\n<title>3</title>\n<ellipse fill=\"#ffb5c5\" stroke=\"black\" cx=\"259\" cy=\"-48.4\" rx=\"16\" ry=\"16\"/>\n<text text-anchor=\"middle\" x=\"259\" y=\"-44.7\" font-family=\"Times,serif\" font-size=\"14.00\">A6D</text>\n</g>\n<!-- 0&#45;&#45;3 -->\n<g id=\"edge2\" class=\"edge\">\n<title>0&#45;&#45;3</title>\n<path fill=\"none\" stroke=\"black\" d=\"M161.37,-20.51C183.03,-26.7 221.77,-37.76 243.37,-43.93\"/>\n<text text-anchor=\"middle\" x=\"198.87\" y=\"-36.02\" font-family=\"Times,serif\" font-size=\"14.00\">6</text>\n</g>\n<!-- 2 -->\n<g id=\"node3\" class=\"node\">\n<title>2</title>\n<ellipse fill=\"#ffb5c5\" stroke=\"black\" cx=\"16\" cy=\"-113.2\" rx=\"16\" ry=\"16\"/>\n<text text-anchor=\"middle\" x=\"16\" y=\"-109.5\" font-family=\"Times,serif\" font-size=\"14.00\">B5C</text>\n</g>\n<!-- 1&#45;&#45;2 -->\n<g id=\"edge3\" class=\"edge\">\n<title>1&#45;&#45;2</title>\n<path fill=\"none\" stroke=\"black\" d=\"M66.42,-87.99C55.68,-93.36 41.07,-100.67 30.34,-106.03\"/>\n<text text-anchor=\"middle\" x=\"44.88\" y=\"-100.81\" font-family=\"Times,serif\" font-size=\"14.00\">2</text>\n</g>\n<!-- 4 -->\n<g id=\"node5\" class=\"node\">\n<title>4</title>\n<ellipse fill=\"#ffb5c5\" stroke=\"black\" cx=\"210.4\" cy=\"-113.2\" rx=\"16\" ry=\"16\"/>\n<text text-anchor=\"middle\" x=\"210.4\" y=\"-109.5\" font-family=\"Times,serif\" font-size=\"14.00\">B9E</text>\n</g>\n<!-- 1&#45;&#45;4 -->\n<g id=\"edge5\" class=\"edge\">\n<title>1&#45;&#45;4</title>\n<path fill=\"none\" stroke=\"black\" d=\"M96.43,-84.71C121.34,-90.94 169.77,-103.04 194.71,-109.28\"/>\n<text text-anchor=\"middle\" x=\"142.07\" y=\"-100.79\" font-family=\"Times,serif\" font-size=\"14.00\">6</text>\n</g>\n<!-- 5 -->\n<g id=\"node6\" class=\"node\">\n<title>5</title>\n<ellipse fill=\"#ffb5c5\" stroke=\"black\" cx=\"145.6\" cy=\"-178\" rx=\"16\" ry=\"16\"/>\n<text text-anchor=\"middle\" x=\"145.6\" y=\"-174.3\" font-family=\"Times,serif\" font-size=\"14.00\">C9F</text>\n</g>\n<!-- 1&#45;&#45;5 -->\n<g id=\"edge4\" class=\"edge\">\n<title>1&#45;&#45;5</title>\n<path fill=\"none\" stroke=\"black\" d=\"M89.81,-94.32C102.19,-112.89 124.33,-146.09 136.67,-164.6\"/>\n<text text-anchor=\"middle\" x=\"106.24\" y=\"-133.26\" font-family=\"Times,serif\" font-size=\"14.00\">20</text>\n</g>\n<!-- 2&#45;&#45;5 -->\n<g id=\"edge6\" class=\"edge\">\n<title>2&#45;&#45;5</title>\n<path fill=\"none\" stroke=\"black\" d=\"M30.36,-120.38C55.28,-132.84 106.21,-158.31 131.17,-170.79\"/>\n<text text-anchor=\"middle\" x=\"77.27\" y=\"-149.38\" font-family=\"Times,serif\" font-size=\"14.00\">4</text>\n</g>\n<!-- 3&#45;&#45;4 -->\n<g id=\"edge7\" class=\"edge\">\n<title>3&#45;&#45;4</title>\n<path fill=\"none\" stroke=\"black\" d=\"M249.4,-61.2C240.99,-72.42 228.82,-88.64 220.32,-99.98\"/>\n<text text-anchor=\"middle\" x=\"231.36\" y=\"-84.39\" font-family=\"Times,serif\" font-size=\"14.00\">4</text>\n</g>\n<!-- 6 -->\n<g id=\"node7\" class=\"node\">\n<title>6</title>\n<ellipse fill=\"lemonchiffon\" stroke=\"black\" cx=\"307.6\" cy=\"-113.2\" rx=\"16\" ry=\"16\"/>\n<text text-anchor=\"middle\" x=\"307.6\" y=\"-109.5\" font-family=\"Times,serif\" font-size=\"14.00\">D13G</text>\n</g>\n<!-- 3&#45;&#45;6 -->\n<g id=\"edge13\" class=\"edge\">\n<title>3&#45;&#45;6</title>\n<path fill=\"none\" stroke=\"black\" d=\"M268.6,-61.2C277.01,-72.42 289.18,-88.64 297.68,-99.98\"/>\n<text text-anchor=\"middle\" x=\"279.64\" y=\"-84.39\" font-family=\"Times,serif\" font-size=\"14.00\">7</text>\n</g>\n<!-- 7 -->\n<g id=\"node8\" class=\"node\">\n<title>7</title>\n<ellipse fill=\"#ffb5c5\" stroke=\"black\" cx=\"307.6\" cy=\"-210.4\" rx=\"16\" ry=\"16\"/>\n<text text-anchor=\"middle\" x=\"307.6\" y=\"-206.7\" font-family=\"Times,serif\" font-size=\"14.00\">F12H</text>\n</g>\n<!-- 4&#45;&#45;7 -->\n<g id=\"edge9\" class=\"edge\">\n<title>4&#45;&#45;7</title>\n<path fill=\"none\" stroke=\"black\" d=\"M221.93,-124.73C240.64,-143.44 277.39,-180.19 296.08,-198.88\"/>\n<text text-anchor=\"middle\" x=\"252.01\" y=\"-165.61\" font-family=\"Times,serif\" font-size=\"14.00\">22</text>\n</g>\n<!-- 5&#45;&#45;7 -->\n<g id=\"edge8\" class=\"edge\">\n<title>5&#45;&#45;7</title>\n<path fill=\"none\" stroke=\"black\" d=\"M161.43,-181.17C192.32,-187.34 260.33,-200.95 291.47,-207.17\"/>\n<text text-anchor=\"middle\" x=\"222.95\" y=\"-197.97\" font-family=\"Times,serif\" font-size=\"14.00\">3</text>\n</g>\n<!-- 6&#45;&#45;7 -->\n<g id=\"edge10\" class=\"edge\">\n<title>6&#45;&#45;7</title>\n<path fill=\"none\" stroke=\"black\" d=\"M307.6,-129.25C307.6,-147.26 307.6,-176.31 307.6,-194.33\"/>\n<text text-anchor=\"middle\" x=\"300.6\" y=\"-165.59\" font-family=\"Times,serif\" font-size=\"14.00\">19</text>\n</g>\n<!-- 8 -->\n<g id=\"node9\" class=\"node\">\n<title>8</title>\n<ellipse fill=\"lightgreen\" stroke=\"black\" cx=\"404.8\" cy=\"-178\" rx=\"16\" ry=\"16\"/>\n<text text-anchor=\"middle\" x=\"404.8\" y=\"-174.3\" font-family=\"Times,serif\" font-size=\"14.00\">H30I</text>\n</g>\n<!-- 6&#45;&#45;8 -->\n<g id=\"edge11\" class=\"edge\">\n<title>6&#45;&#45;8</title>\n<path fill=\"none\" stroke=\"black\" d=\"M321.12,-122.21C339.69,-134.59 372.89,-156.73 391.4,-169.07\"/>\n<text text-anchor=\"middle\" x=\"349.26\" y=\"-149.44\" font-family=\"Times,serif\" font-size=\"14.00\">21</text>\n</g>\n<!-- 7&#45;&#45;8 -->\n<g id=\"edge12\" class=\"edge\">\n<title>7&#45;&#45;8</title>\n<path fill=\"none\" stroke=\"black\" d=\"M322.79,-205.34C340.94,-199.29 371.15,-189.22 389.4,-183.13\"/>\n<text text-anchor=\"middle\" x=\"349.09\" y=\"-198.04\" font-family=\"Times,serif\" font-size=\"14.00\">18</text>\n</g>\n</g>\n</svg>\n",
      "text/plain": [
       "<graphviz.graphs.Graph at 0x7f7960f659d0>"
      ]
     },
     "execution_count": 358,
     "metadata": {},
     "output_type": "execute_result"
    }
   ],
   "source": [
    "DG1.next()"
   ]
  },
  {
   "cell_type": "code",
   "execution_count": 359,
   "id": "cdc7e48a",
   "metadata": {},
   "outputs": [
    {
     "name": "stderr",
     "output_type": "stream",
     "text": [
      "Warning: node '6', graph '%3' size too small for label\n"
     ]
    },
    {
     "data": {
      "image/svg+xml": "<?xml version=\"1.0\" encoding=\"UTF-8\" standalone=\"no\"?>\n<!DOCTYPE svg PUBLIC \"-//W3C//DTD SVG 1.1//EN\"\n \"http://www.w3.org/Graphics/SVG/1.1/DTD/svg11.dtd\">\n<!-- Generated by graphviz version 2.50.0 (20211204.2007)\n -->\n<!-- Pages: 1 -->\n<svg width=\"429pt\" height=\"234pt\"\n viewBox=\"0.00 0.00 428.80 234.40\" xmlns=\"http://www.w3.org/2000/svg\" xmlns:xlink=\"http://www.w3.org/1999/xlink\">\n<g id=\"graph0\" class=\"graph\" transform=\"scale(1 1) rotate(0) translate(4 230.4)\">\n<polygon fill=\"white\" stroke=\"transparent\" points=\"-4,4 -4,-230.4 424.8,-230.4 424.8,4 -4,4\"/>\n<!-- 0 -->\n<g id=\"node1\" class=\"node\">\n<title>0</title>\n<ellipse fill=\"#ffb5c5\" stroke=\"black\" cx=\"145.6\" cy=\"-16\" rx=\"16\" ry=\"16\"/>\n<text text-anchor=\"middle\" x=\"145.6\" y=\"-12.3\" font-family=\"Times,serif\" font-size=\"14.00\">A</text>\n</g>\n<!-- 1 -->\n<g id=\"node2\" class=\"node\">\n<title>1</title>\n<ellipse fill=\"#ffb5c5\" stroke=\"black\" cx=\"80.8\" cy=\"-80.8\" rx=\"16\" ry=\"16\"/>\n<text text-anchor=\"middle\" x=\"80.8\" y=\"-77.1\" font-family=\"Times,serif\" font-size=\"14.00\">A3B</text>\n</g>\n<!-- 0&#45;&#45;1 -->\n<g id=\"edge1\" class=\"edge\">\n<title>0&#45;&#45;1</title>\n<path fill=\"none\" stroke=\"black\" d=\"M134.02,-27.58C122.22,-39.38 104.04,-57.56 92.28,-69.32\"/>\n<text text-anchor=\"middle\" x=\"109.65\" y=\"-52.25\" font-family=\"Times,serif\" font-size=\"14.00\">3</text>\n</g>\n<!-- 3 -->\n<g id=\"node4\" class=\"node\">\n<title>3</title>\n<ellipse fill=\"#ffb5c5\" stroke=\"black\" cx=\"259\" cy=\"-48.4\" rx=\"16\" ry=\"16\"/>\n<text text-anchor=\"middle\" x=\"259\" y=\"-44.7\" font-family=\"Times,serif\" font-size=\"14.00\">A6D</text>\n</g>\n<!-- 0&#45;&#45;3 -->\n<g id=\"edge2\" class=\"edge\">\n<title>0&#45;&#45;3</title>\n<path fill=\"none\" stroke=\"black\" d=\"M161.37,-20.51C183.03,-26.7 221.77,-37.76 243.37,-43.93\"/>\n<text text-anchor=\"middle\" x=\"198.87\" y=\"-36.02\" font-family=\"Times,serif\" font-size=\"14.00\">6</text>\n</g>\n<!-- 2 -->\n<g id=\"node3\" class=\"node\">\n<title>2</title>\n<ellipse fill=\"#ffb5c5\" stroke=\"black\" cx=\"16\" cy=\"-113.2\" rx=\"16\" ry=\"16\"/>\n<text text-anchor=\"middle\" x=\"16\" y=\"-109.5\" font-family=\"Times,serif\" font-size=\"14.00\">B5C</text>\n</g>\n<!-- 1&#45;&#45;2 -->\n<g id=\"edge3\" class=\"edge\">\n<title>1&#45;&#45;2</title>\n<path fill=\"none\" stroke=\"black\" d=\"M66.42,-87.99C55.68,-93.36 41.07,-100.67 30.34,-106.03\"/>\n<text text-anchor=\"middle\" x=\"44.88\" y=\"-100.81\" font-family=\"Times,serif\" font-size=\"14.00\">2</text>\n</g>\n<!-- 4 -->\n<g id=\"node5\" class=\"node\">\n<title>4</title>\n<ellipse fill=\"#ffb5c5\" stroke=\"black\" cx=\"210.4\" cy=\"-113.2\" rx=\"16\" ry=\"16\"/>\n<text text-anchor=\"middle\" x=\"210.4\" y=\"-109.5\" font-family=\"Times,serif\" font-size=\"14.00\">B9E</text>\n</g>\n<!-- 1&#45;&#45;4 -->\n<g id=\"edge5\" class=\"edge\">\n<title>1&#45;&#45;4</title>\n<path fill=\"none\" stroke=\"black\" d=\"M96.43,-84.71C121.34,-90.94 169.77,-103.04 194.71,-109.28\"/>\n<text text-anchor=\"middle\" x=\"142.07\" y=\"-100.79\" font-family=\"Times,serif\" font-size=\"14.00\">6</text>\n</g>\n<!-- 5 -->\n<g id=\"node6\" class=\"node\">\n<title>5</title>\n<ellipse fill=\"lemonchiffon\" stroke=\"black\" cx=\"145.6\" cy=\"-178\" rx=\"16\" ry=\"16\"/>\n<text text-anchor=\"middle\" x=\"145.6\" y=\"-174.3\" font-family=\"Times,serif\" font-size=\"14.00\">C9F</text>\n</g>\n<!-- 1&#45;&#45;5 -->\n<g id=\"edge4\" class=\"edge\">\n<title>1&#45;&#45;5</title>\n<path fill=\"none\" stroke=\"black\" d=\"M89.81,-94.32C102.19,-112.89 124.33,-146.09 136.67,-164.6\"/>\n<text text-anchor=\"middle\" x=\"106.24\" y=\"-133.26\" font-family=\"Times,serif\" font-size=\"14.00\">20</text>\n</g>\n<!-- 2&#45;&#45;5 -->\n<g id=\"edge6\" class=\"edge\">\n<title>2&#45;&#45;5</title>\n<path fill=\"none\" stroke=\"black\" d=\"M30.36,-120.38C55.28,-132.84 106.21,-158.31 131.17,-170.79\"/>\n<text text-anchor=\"middle\" x=\"77.27\" y=\"-149.38\" font-family=\"Times,serif\" font-size=\"14.00\">4</text>\n</g>\n<!-- 3&#45;&#45;4 -->\n<g id=\"edge7\" class=\"edge\">\n<title>3&#45;&#45;4</title>\n<path fill=\"none\" stroke=\"black\" d=\"M249.4,-61.2C240.99,-72.42 228.82,-88.64 220.32,-99.98\"/>\n<text text-anchor=\"middle\" x=\"231.36\" y=\"-84.39\" font-family=\"Times,serif\" font-size=\"14.00\">4</text>\n</g>\n<!-- 6 -->\n<g id=\"node7\" class=\"node\">\n<title>6</title>\n<ellipse fill=\"#ffb5c5\" stroke=\"black\" cx=\"307.6\" cy=\"-113.2\" rx=\"16\" ry=\"16\"/>\n<text text-anchor=\"middle\" x=\"307.6\" y=\"-109.5\" font-family=\"Times,serif\" font-size=\"14.00\">D13G</text>\n</g>\n<!-- 3&#45;&#45;6 -->\n<g id=\"edge13\" class=\"edge\">\n<title>3&#45;&#45;6</title>\n<path fill=\"none\" stroke=\"black\" d=\"M268.6,-61.2C277.01,-72.42 289.18,-88.64 297.68,-99.98\"/>\n<text text-anchor=\"middle\" x=\"279.64\" y=\"-84.39\" font-family=\"Times,serif\" font-size=\"14.00\">7</text>\n</g>\n<!-- 7 -->\n<g id=\"node8\" class=\"node\">\n<title>7</title>\n<ellipse fill=\"#ffb5c5\" stroke=\"black\" cx=\"307.6\" cy=\"-210.4\" rx=\"16\" ry=\"16\"/>\n<text text-anchor=\"middle\" x=\"307.6\" y=\"-206.7\" font-family=\"Times,serif\" font-size=\"14.00\">F12H</text>\n</g>\n<!-- 4&#45;&#45;7 -->\n<g id=\"edge9\" class=\"edge\">\n<title>4&#45;&#45;7</title>\n<path fill=\"none\" stroke=\"black\" d=\"M221.93,-124.73C240.64,-143.44 277.39,-180.19 296.08,-198.88\"/>\n<text text-anchor=\"middle\" x=\"252.01\" y=\"-165.61\" font-family=\"Times,serif\" font-size=\"14.00\">22</text>\n</g>\n<!-- 5&#45;&#45;7 -->\n<g id=\"edge8\" class=\"edge\">\n<title>5&#45;&#45;7</title>\n<path fill=\"none\" stroke=\"black\" d=\"M161.43,-181.17C192.32,-187.34 260.33,-200.95 291.47,-207.17\"/>\n<text text-anchor=\"middle\" x=\"222.95\" y=\"-197.97\" font-family=\"Times,serif\" font-size=\"14.00\">3</text>\n</g>\n<!-- 6&#45;&#45;7 -->\n<g id=\"edge10\" class=\"edge\">\n<title>6&#45;&#45;7</title>\n<path fill=\"none\" stroke=\"black\" d=\"M307.6,-129.25C307.6,-147.26 307.6,-176.31 307.6,-194.33\"/>\n<text text-anchor=\"middle\" x=\"300.6\" y=\"-165.59\" font-family=\"Times,serif\" font-size=\"14.00\">19</text>\n</g>\n<!-- 8 -->\n<g id=\"node9\" class=\"node\">\n<title>8</title>\n<ellipse fill=\"lightgreen\" stroke=\"black\" cx=\"404.8\" cy=\"-178\" rx=\"16\" ry=\"16\"/>\n<text text-anchor=\"middle\" x=\"404.8\" y=\"-174.3\" font-family=\"Times,serif\" font-size=\"14.00\">H30I</text>\n</g>\n<!-- 6&#45;&#45;8 -->\n<g id=\"edge11\" class=\"edge\">\n<title>6&#45;&#45;8</title>\n<path fill=\"none\" stroke=\"black\" d=\"M321.12,-122.21C339.69,-134.59 372.89,-156.73 391.4,-169.07\"/>\n<text text-anchor=\"middle\" x=\"349.26\" y=\"-149.44\" font-family=\"Times,serif\" font-size=\"14.00\">21</text>\n</g>\n<!-- 7&#45;&#45;8 -->\n<g id=\"edge12\" class=\"edge\">\n<title>7&#45;&#45;8</title>\n<path fill=\"none\" stroke=\"black\" d=\"M322.79,-205.34C340.94,-199.29 371.15,-189.22 389.4,-183.13\"/>\n<text text-anchor=\"middle\" x=\"349.09\" y=\"-198.04\" font-family=\"Times,serif\" font-size=\"14.00\">18</text>\n</g>\n</g>\n</svg>\n",
      "text/plain": [
       "<graphviz.graphs.Graph at 0x7f7960f659d0>"
      ]
     },
     "execution_count": 359,
     "metadata": {},
     "output_type": "execute_result"
    }
   ],
   "source": [
    "DG1.next()"
   ]
  },
  {
   "cell_type": "code",
   "execution_count": 360,
   "id": "5dd6808f",
   "metadata": {},
   "outputs": [
    {
     "name": "stderr",
     "output_type": "stream",
     "text": [
      "Warning: node '6', graph '%3' size too small for label\n"
     ]
    },
    {
     "data": {
      "image/svg+xml": "<?xml version=\"1.0\" encoding=\"UTF-8\" standalone=\"no\"?>\n<!DOCTYPE svg PUBLIC \"-//W3C//DTD SVG 1.1//EN\"\n \"http://www.w3.org/Graphics/SVG/1.1/DTD/svg11.dtd\">\n<!-- Generated by graphviz version 2.50.0 (20211204.2007)\n -->\n<!-- Pages: 1 -->\n<svg width=\"429pt\" height=\"234pt\"\n viewBox=\"0.00 0.00 428.80 234.40\" xmlns=\"http://www.w3.org/2000/svg\" xmlns:xlink=\"http://www.w3.org/1999/xlink\">\n<g id=\"graph0\" class=\"graph\" transform=\"scale(1 1) rotate(0) translate(4 230.4)\">\n<polygon fill=\"white\" stroke=\"transparent\" points=\"-4,4 -4,-230.4 424.8,-230.4 424.8,4 -4,4\"/>\n<!-- 0 -->\n<g id=\"node1\" class=\"node\">\n<title>0</title>\n<ellipse fill=\"#ffb5c5\" stroke=\"black\" cx=\"145.6\" cy=\"-16\" rx=\"16\" ry=\"16\"/>\n<text text-anchor=\"middle\" x=\"145.6\" y=\"-12.3\" font-family=\"Times,serif\" font-size=\"14.00\">A</text>\n</g>\n<!-- 1 -->\n<g id=\"node2\" class=\"node\">\n<title>1</title>\n<ellipse fill=\"#ffb5c5\" stroke=\"black\" cx=\"80.8\" cy=\"-80.8\" rx=\"16\" ry=\"16\"/>\n<text text-anchor=\"middle\" x=\"80.8\" y=\"-77.1\" font-family=\"Times,serif\" font-size=\"14.00\">A3B</text>\n</g>\n<!-- 0&#45;&#45;1 -->\n<g id=\"edge1\" class=\"edge\">\n<title>0&#45;&#45;1</title>\n<path fill=\"none\" stroke=\"black\" d=\"M134.02,-27.58C122.22,-39.38 104.04,-57.56 92.28,-69.32\"/>\n<text text-anchor=\"middle\" x=\"109.65\" y=\"-52.25\" font-family=\"Times,serif\" font-size=\"14.00\">3</text>\n</g>\n<!-- 3 -->\n<g id=\"node4\" class=\"node\">\n<title>3</title>\n<ellipse fill=\"#ffb5c5\" stroke=\"black\" cx=\"259\" cy=\"-48.4\" rx=\"16\" ry=\"16\"/>\n<text text-anchor=\"middle\" x=\"259\" y=\"-44.7\" font-family=\"Times,serif\" font-size=\"14.00\">A6D</text>\n</g>\n<!-- 0&#45;&#45;3 -->\n<g id=\"edge2\" class=\"edge\">\n<title>0&#45;&#45;3</title>\n<path fill=\"none\" stroke=\"black\" d=\"M161.37,-20.51C183.03,-26.7 221.77,-37.76 243.37,-43.93\"/>\n<text text-anchor=\"middle\" x=\"198.87\" y=\"-36.02\" font-family=\"Times,serif\" font-size=\"14.00\">6</text>\n</g>\n<!-- 2 -->\n<g id=\"node3\" class=\"node\">\n<title>2</title>\n<ellipse fill=\"#ffb5c5\" stroke=\"black\" cx=\"16\" cy=\"-113.2\" rx=\"16\" ry=\"16\"/>\n<text text-anchor=\"middle\" x=\"16\" y=\"-109.5\" font-family=\"Times,serif\" font-size=\"14.00\">B5C</text>\n</g>\n<!-- 1&#45;&#45;2 -->\n<g id=\"edge3\" class=\"edge\">\n<title>1&#45;&#45;2</title>\n<path fill=\"none\" stroke=\"black\" d=\"M66.42,-87.99C55.68,-93.36 41.07,-100.67 30.34,-106.03\"/>\n<text text-anchor=\"middle\" x=\"44.88\" y=\"-100.81\" font-family=\"Times,serif\" font-size=\"14.00\">2</text>\n</g>\n<!-- 4 -->\n<g id=\"node5\" class=\"node\">\n<title>4</title>\n<ellipse fill=\"#ffb5c5\" stroke=\"black\" cx=\"210.4\" cy=\"-113.2\" rx=\"16\" ry=\"16\"/>\n<text text-anchor=\"middle\" x=\"210.4\" y=\"-109.5\" font-family=\"Times,serif\" font-size=\"14.00\">B9E</text>\n</g>\n<!-- 1&#45;&#45;4 -->\n<g id=\"edge5\" class=\"edge\">\n<title>1&#45;&#45;4</title>\n<path fill=\"none\" stroke=\"black\" d=\"M96.43,-84.71C121.34,-90.94 169.77,-103.04 194.71,-109.28\"/>\n<text text-anchor=\"middle\" x=\"142.07\" y=\"-100.79\" font-family=\"Times,serif\" font-size=\"14.00\">6</text>\n</g>\n<!-- 5 -->\n<g id=\"node6\" class=\"node\">\n<title>5</title>\n<ellipse fill=\"#ffb5c5\" stroke=\"black\" cx=\"145.6\" cy=\"-178\" rx=\"16\" ry=\"16\"/>\n<text text-anchor=\"middle\" x=\"145.6\" y=\"-174.3\" font-family=\"Times,serif\" font-size=\"14.00\">C9F</text>\n</g>\n<!-- 1&#45;&#45;5 -->\n<g id=\"edge4\" class=\"edge\">\n<title>1&#45;&#45;5</title>\n<path fill=\"none\" stroke=\"black\" d=\"M89.81,-94.32C102.19,-112.89 124.33,-146.09 136.67,-164.6\"/>\n<text text-anchor=\"middle\" x=\"106.24\" y=\"-133.26\" font-family=\"Times,serif\" font-size=\"14.00\">20</text>\n</g>\n<!-- 2&#45;&#45;5 -->\n<g id=\"edge6\" class=\"edge\">\n<title>2&#45;&#45;5</title>\n<path fill=\"none\" stroke=\"black\" d=\"M30.36,-120.38C55.28,-132.84 106.21,-158.31 131.17,-170.79\"/>\n<text text-anchor=\"middle\" x=\"77.27\" y=\"-149.38\" font-family=\"Times,serif\" font-size=\"14.00\">4</text>\n</g>\n<!-- 3&#45;&#45;4 -->\n<g id=\"edge7\" class=\"edge\">\n<title>3&#45;&#45;4</title>\n<path fill=\"none\" stroke=\"black\" d=\"M249.4,-61.2C240.99,-72.42 228.82,-88.64 220.32,-99.98\"/>\n<text text-anchor=\"middle\" x=\"231.36\" y=\"-84.39\" font-family=\"Times,serif\" font-size=\"14.00\">4</text>\n</g>\n<!-- 6 -->\n<g id=\"node7\" class=\"node\">\n<title>6</title>\n<ellipse fill=\"#ffb5c5\" stroke=\"black\" cx=\"307.6\" cy=\"-113.2\" rx=\"16\" ry=\"16\"/>\n<text text-anchor=\"middle\" x=\"307.6\" y=\"-109.5\" font-family=\"Times,serif\" font-size=\"14.00\">D13G</text>\n</g>\n<!-- 3&#45;&#45;6 -->\n<g id=\"edge13\" class=\"edge\">\n<title>3&#45;&#45;6</title>\n<path fill=\"none\" stroke=\"black\" d=\"M268.6,-61.2C277.01,-72.42 289.18,-88.64 297.68,-99.98\"/>\n<text text-anchor=\"middle\" x=\"279.64\" y=\"-84.39\" font-family=\"Times,serif\" font-size=\"14.00\">7</text>\n</g>\n<!-- 7 -->\n<g id=\"node8\" class=\"node\">\n<title>7</title>\n<ellipse fill=\"#ffb5c5\" stroke=\"black\" cx=\"307.6\" cy=\"-210.4\" rx=\"16\" ry=\"16\"/>\n<text text-anchor=\"middle\" x=\"307.6\" y=\"-206.7\" font-family=\"Times,serif\" font-size=\"14.00\">F12H</text>\n</g>\n<!-- 4&#45;&#45;7 -->\n<g id=\"edge9\" class=\"edge\">\n<title>4&#45;&#45;7</title>\n<path fill=\"none\" stroke=\"black\" d=\"M221.93,-124.73C240.64,-143.44 277.39,-180.19 296.08,-198.88\"/>\n<text text-anchor=\"middle\" x=\"252.01\" y=\"-165.61\" font-family=\"Times,serif\" font-size=\"14.00\">22</text>\n</g>\n<!-- 5&#45;&#45;7 -->\n<g id=\"edge8\" class=\"edge\">\n<title>5&#45;&#45;7</title>\n<path fill=\"none\" stroke=\"black\" d=\"M161.43,-181.17C192.32,-187.34 260.33,-200.95 291.47,-207.17\"/>\n<text text-anchor=\"middle\" x=\"222.95\" y=\"-197.97\" font-family=\"Times,serif\" font-size=\"14.00\">3</text>\n</g>\n<!-- 6&#45;&#45;7 -->\n<g id=\"edge10\" class=\"edge\">\n<title>6&#45;&#45;7</title>\n<path fill=\"none\" stroke=\"black\" d=\"M307.6,-129.25C307.6,-147.26 307.6,-176.31 307.6,-194.33\"/>\n<text text-anchor=\"middle\" x=\"300.6\" y=\"-165.59\" font-family=\"Times,serif\" font-size=\"14.00\">19</text>\n</g>\n<!-- 8 -->\n<g id=\"node9\" class=\"node\">\n<title>8</title>\n<ellipse fill=\"lemonchiffon\" stroke=\"black\" cx=\"404.8\" cy=\"-178\" rx=\"16\" ry=\"16\"/>\n<text text-anchor=\"middle\" x=\"404.8\" y=\"-174.3\" font-family=\"Times,serif\" font-size=\"14.00\">H30I</text>\n</g>\n<!-- 6&#45;&#45;8 -->\n<g id=\"edge11\" class=\"edge\">\n<title>6&#45;&#45;8</title>\n<path fill=\"none\" stroke=\"black\" d=\"M321.12,-122.21C339.69,-134.59 372.89,-156.73 391.4,-169.07\"/>\n<text text-anchor=\"middle\" x=\"349.26\" y=\"-149.44\" font-family=\"Times,serif\" font-size=\"14.00\">21</text>\n</g>\n<!-- 7&#45;&#45;8 -->\n<g id=\"edge12\" class=\"edge\">\n<title>7&#45;&#45;8</title>\n<path fill=\"none\" stroke=\"black\" d=\"M322.79,-205.34C340.94,-199.29 371.15,-189.22 389.4,-183.13\"/>\n<text text-anchor=\"middle\" x=\"349.09\" y=\"-198.04\" font-family=\"Times,serif\" font-size=\"14.00\">18</text>\n</g>\n</g>\n</svg>\n",
      "text/plain": [
       "<graphviz.graphs.Graph at 0x7f7960f659d0>"
      ]
     },
     "execution_count": 360,
     "metadata": {},
     "output_type": "execute_result"
    }
   ],
   "source": [
    "DG1.next()"
   ]
  },
  {
   "cell_type": "code",
   "execution_count": 361,
   "id": "77efa778",
   "metadata": {},
   "outputs": [
    {
     "name": "stdout",
     "output_type": "stream",
     "text": [
      "Dijkstra résolu\n"
     ]
    }
   ],
   "source": [
    "DG1.next()"
   ]
  },
  {
   "cell_type": "code",
   "execution_count": 362,
   "id": "1e2d3412-000d-4a3f-91f4-cc7f95192c87",
   "metadata": {},
   "outputs": [
    {
     "data": {
      "text/plain": [
       "8"
      ]
     },
     "execution_count": 362,
     "metadata": {},
     "output_type": "execute_result"
    }
   ],
   "source": [
    "DG1.end"
   ]
  },
  {
   "cell_type": "code",
   "execution_count": 363,
   "id": "b1f0ba54",
   "metadata": {},
   "outputs": [
    {
     "name": "stdout",
     "output_type": "stream",
     "text": [
      "{0: 0, 1: inf, 2: inf, 3: inf, 4: inf, 5: inf, 6: inf, 7: inf, 8: inf}\n"
     ]
    }
   ],
   "source": [
    "DG2 = Dijkstra(G1)"
   ]
  },
  {
   "cell_type": "code",
   "execution_count": 364,
   "id": "2bf8cf76",
   "metadata": {},
   "outputs": [
    {
     "name": "stderr",
     "output_type": "stream",
     "text": [
      "Warning: node '6', graph '%3' size too small for label\n"
     ]
    },
    {
     "data": {
      "image/svg+xml": "<?xml version=\"1.0\" encoding=\"UTF-8\" standalone=\"no\"?>\n<!DOCTYPE svg PUBLIC \"-//W3C//DTD SVG 1.1//EN\"\n \"http://www.w3.org/Graphics/SVG/1.1/DTD/svg11.dtd\">\n<!-- Generated by graphviz version 2.50.0 (20211204.2007)\n -->\n<!-- Pages: 1 -->\n<svg width=\"429pt\" height=\"234pt\"\n viewBox=\"0.00 0.00 428.80 234.40\" xmlns=\"http://www.w3.org/2000/svg\" xmlns:xlink=\"http://www.w3.org/1999/xlink\">\n<g id=\"graph0\" class=\"graph\" transform=\"scale(1 1) rotate(0) translate(4 230.4)\">\n<polygon fill=\"white\" stroke=\"transparent\" points=\"-4,4 -4,-230.4 424.8,-230.4 424.8,4 -4,4\"/>\n<!-- 0 -->\n<g id=\"node1\" class=\"node\">\n<title>0</title>\n<ellipse fill=\"#ff8247\" stroke=\"black\" cx=\"145.6\" cy=\"-16\" rx=\"16\" ry=\"16\"/>\n<text text-anchor=\"middle\" x=\"145.6\" y=\"-12.3\" font-family=\"Times,serif\" font-size=\"14.00\">A</text>\n</g>\n<!-- 1 -->\n<g id=\"node2\" class=\"node\">\n<title>1</title>\n<ellipse fill=\"white\" stroke=\"black\" cx=\"80.8\" cy=\"-80.8\" rx=\"16\" ry=\"16\"/>\n<text text-anchor=\"middle\" x=\"80.8\" y=\"-77.1\" font-family=\"Times,serif\" font-size=\"14.00\">A3B</text>\n</g>\n<!-- 0&#45;&#45;1 -->\n<g id=\"edge1\" class=\"edge\">\n<title>0&#45;&#45;1</title>\n<path fill=\"none\" stroke=\"black\" d=\"M134.02,-27.58C122.22,-39.38 104.04,-57.56 92.28,-69.32\"/>\n<text text-anchor=\"middle\" x=\"109.65\" y=\"-52.25\" font-family=\"Times,serif\" font-size=\"14.00\">3</text>\n</g>\n<!-- 3 -->\n<g id=\"node4\" class=\"node\">\n<title>3</title>\n<ellipse fill=\"#ffb5c5\" stroke=\"black\" cx=\"259\" cy=\"-48.4\" rx=\"16\" ry=\"16\"/>\n<text text-anchor=\"middle\" x=\"259\" y=\"-44.7\" font-family=\"Times,serif\" font-size=\"14.00\">A6D</text>\n</g>\n<!-- 0&#45;&#45;3 -->\n<g id=\"edge2\" class=\"edge\">\n<title>0&#45;&#45;3</title>\n<path fill=\"none\" stroke=\"black\" d=\"M161.37,-20.51C183.03,-26.7 221.77,-37.76 243.37,-43.93\"/>\n<text text-anchor=\"middle\" x=\"198.87\" y=\"-36.02\" font-family=\"Times,serif\" font-size=\"14.00\">6</text>\n</g>\n<!-- 2 -->\n<g id=\"node3\" class=\"node\">\n<title>2</title>\n<ellipse fill=\"white\" stroke=\"black\" cx=\"16\" cy=\"-113.2\" rx=\"16\" ry=\"16\"/>\n<text text-anchor=\"middle\" x=\"16\" y=\"-109.5\" font-family=\"Times,serif\" font-size=\"14.00\">B5C</text>\n</g>\n<!-- 1&#45;&#45;2 -->\n<g id=\"edge3\" class=\"edge\">\n<title>1&#45;&#45;2</title>\n<path fill=\"none\" stroke=\"black\" d=\"M66.42,-87.99C55.68,-93.36 41.07,-100.67 30.34,-106.03\"/>\n<text text-anchor=\"middle\" x=\"44.88\" y=\"-100.81\" font-family=\"Times,serif\" font-size=\"14.00\">2</text>\n</g>\n<!-- 4 -->\n<g id=\"node5\" class=\"node\">\n<title>4</title>\n<ellipse fill=\"white\" stroke=\"black\" cx=\"210.4\" cy=\"-113.2\" rx=\"16\" ry=\"16\"/>\n<text text-anchor=\"middle\" x=\"210.4\" y=\"-109.5\" font-family=\"Times,serif\" font-size=\"14.00\">B9E</text>\n</g>\n<!-- 1&#45;&#45;4 -->\n<g id=\"edge5\" class=\"edge\">\n<title>1&#45;&#45;4</title>\n<path fill=\"none\" stroke=\"black\" d=\"M96.43,-84.71C121.34,-90.94 169.77,-103.04 194.71,-109.28\"/>\n<text text-anchor=\"middle\" x=\"142.07\" y=\"-100.79\" font-family=\"Times,serif\" font-size=\"14.00\">6</text>\n</g>\n<!-- 5 -->\n<g id=\"node6\" class=\"node\">\n<title>5</title>\n<ellipse fill=\"white\" stroke=\"black\" cx=\"145.6\" cy=\"-178\" rx=\"16\" ry=\"16\"/>\n<text text-anchor=\"middle\" x=\"145.6\" y=\"-174.3\" font-family=\"Times,serif\" font-size=\"14.00\">C9F</text>\n</g>\n<!-- 1&#45;&#45;5 -->\n<g id=\"edge4\" class=\"edge\">\n<title>1&#45;&#45;5</title>\n<path fill=\"none\" stroke=\"black\" d=\"M89.81,-94.32C102.19,-112.89 124.33,-146.09 136.67,-164.6\"/>\n<text text-anchor=\"middle\" x=\"106.24\" y=\"-133.26\" font-family=\"Times,serif\" font-size=\"14.00\">20</text>\n</g>\n<!-- 2&#45;&#45;5 -->\n<g id=\"edge6\" class=\"edge\">\n<title>2&#45;&#45;5</title>\n<path fill=\"none\" stroke=\"black\" d=\"M30.36,-120.38C55.28,-132.84 106.21,-158.31 131.17,-170.79\"/>\n<text text-anchor=\"middle\" x=\"77.27\" y=\"-149.38\" font-family=\"Times,serif\" font-size=\"14.00\">4</text>\n</g>\n<!-- 3&#45;&#45;4 -->\n<g id=\"edge7\" class=\"edge\">\n<title>3&#45;&#45;4</title>\n<path fill=\"none\" stroke=\"black\" d=\"M249.4,-61.2C240.99,-72.42 228.82,-88.64 220.32,-99.98\"/>\n<text text-anchor=\"middle\" x=\"231.36\" y=\"-84.39\" font-family=\"Times,serif\" font-size=\"14.00\">4</text>\n</g>\n<!-- 6 -->\n<g id=\"node7\" class=\"node\">\n<title>6</title>\n<ellipse fill=\"#ffb5c5\" stroke=\"black\" cx=\"307.6\" cy=\"-113.2\" rx=\"16\" ry=\"16\"/>\n<text text-anchor=\"middle\" x=\"307.6\" y=\"-109.5\" font-family=\"Times,serif\" font-size=\"14.00\">D13G</text>\n</g>\n<!-- 3&#45;&#45;6 -->\n<g id=\"edge13\" class=\"edge\">\n<title>3&#45;&#45;6</title>\n<path fill=\"none\" stroke=\"black\" d=\"M268.6,-61.2C277.01,-72.42 289.18,-88.64 297.68,-99.98\"/>\n<text text-anchor=\"middle\" x=\"279.64\" y=\"-84.39\" font-family=\"Times,serif\" font-size=\"14.00\">7</text>\n</g>\n<!-- 7 -->\n<g id=\"node8\" class=\"node\">\n<title>7</title>\n<ellipse fill=\"white\" stroke=\"black\" cx=\"307.6\" cy=\"-210.4\" rx=\"16\" ry=\"16\"/>\n<text text-anchor=\"middle\" x=\"307.6\" y=\"-206.7\" font-family=\"Times,serif\" font-size=\"14.00\">F26H</text>\n</g>\n<!-- 4&#45;&#45;7 -->\n<g id=\"edge9\" class=\"edge\">\n<title>4&#45;&#45;7</title>\n<path fill=\"none\" stroke=\"black\" d=\"M221.93,-124.73C240.64,-143.44 277.39,-180.19 296.08,-198.88\"/>\n<text text-anchor=\"middle\" x=\"252.01\" y=\"-165.61\" font-family=\"Times,serif\" font-size=\"14.00\">22</text>\n</g>\n<!-- 5&#45;&#45;7 -->\n<g id=\"edge8\" class=\"edge\">\n<title>5&#45;&#45;7</title>\n<path fill=\"none\" stroke=\"black\" d=\"M161.43,-181.17C192.32,-187.34 260.33,-200.95 291.47,-207.17\"/>\n<text text-anchor=\"middle\" x=\"222.95\" y=\"-197.97\" font-family=\"Times,serif\" font-size=\"14.00\">3</text>\n</g>\n<!-- 6&#45;&#45;7 -->\n<g id=\"edge10\" class=\"edge\">\n<title>6&#45;&#45;7</title>\n<path fill=\"none\" stroke=\"black\" d=\"M307.6,-129.25C307.6,-147.26 307.6,-176.31 307.6,-194.33\"/>\n<text text-anchor=\"middle\" x=\"300.6\" y=\"-165.59\" font-family=\"Times,serif\" font-size=\"14.00\">19</text>\n</g>\n<!-- 8 -->\n<g id=\"node9\" class=\"node\">\n<title>8</title>\n<ellipse fill=\"lightgreen\" stroke=\"black\" cx=\"404.8\" cy=\"-178\" rx=\"16\" ry=\"16\"/>\n<text text-anchor=\"middle\" x=\"404.8\" y=\"-174.3\" font-family=\"Times,serif\" font-size=\"14.00\">G34I</text>\n</g>\n<!-- 6&#45;&#45;8 -->\n<g id=\"edge11\" class=\"edge\">\n<title>6&#45;&#45;8</title>\n<path fill=\"none\" stroke=\"black\" d=\"M321.12,-122.21C339.69,-134.59 372.89,-156.73 391.4,-169.07\"/>\n<text text-anchor=\"middle\" x=\"349.26\" y=\"-149.44\" font-family=\"Times,serif\" font-size=\"14.00\">21</text>\n</g>\n<!-- 7&#45;&#45;8 -->\n<g id=\"edge12\" class=\"edge\">\n<title>7&#45;&#45;8</title>\n<path fill=\"none\" stroke=\"black\" d=\"M322.79,-205.34C340.94,-199.29 371.15,-189.22 389.4,-183.13\"/>\n<text text-anchor=\"middle\" x=\"349.09\" y=\"-198.04\" font-family=\"Times,serif\" font-size=\"14.00\">18</text>\n</g>\n</g>\n</svg>\n",
      "text/plain": [
       "<graphviz.graphs.Graph at 0x7f7960f659d0>"
      ]
     },
     "execution_count": 364,
     "metadata": {},
     "output_type": "execute_result"
    }
   ],
   "source": [
    "DG2.solve()"
   ]
  }
 ],
 "metadata": {
  "kernelspec": {
   "display_name": "Python 3 (ipykernel)",
   "language": "python",
   "name": "python3"
  },
  "language_info": {
   "codemirror_mode": {
    "name": "ipython",
    "version": 3
   },
   "file_extension": ".py",
   "mimetype": "text/x-python",
   "name": "python",
   "nbconvert_exporter": "python",
   "pygments_lexer": "ipython3",
   "version": "3.9.7"
  }
 },
 "nbformat": 4,
 "nbformat_minor": 5
}
