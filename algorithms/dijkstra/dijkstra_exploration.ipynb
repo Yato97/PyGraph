{
 "cells": [
  {
   "cell_type": "code",
   "execution_count": 105,
   "id": "c99e85cb",
   "metadata": {},
   "outputs": [],
   "source": [
    "\"\"\"\n",
    "pygraph.py\n",
    "\n",
    "Un petit module pour créer des graphes (non orienté, orienté ou bi-partie)\n",
    "Avec visualisation via Graphviz et possibilité de modifier quelques propriétés visuelles (couleur, forme, étiquette)\n",
    "\n",
    "Auteur  : Sébastien Hoarau\n",
    "Date    : 2021-08\n",
    "Licence : CC BY-NC-SA 4.0 http://creativecommons.org/licenses/by-nc-sa/4.0/\n",
    "Site    : gitlab.com/sebhoa/pygraph/\n",
    "\n",
    "TODO\n",
    "----\n",
    "    - Plus de tests. Il reste probablement beaucoup de bugs à corriger\n",
    "    - Ajouter d'autres algorithmes sur les graphes\n",
    "    - traiter des graphes valués\n",
    "\"\"\"\n",
    "\n",
    "import graphviz as gv\n",
    "import networkx as nx\n",
    "import random\n",
    "import string\n",
    "# ----------\n",
    "# CONSTANTES\n",
    "\n",
    "# -- about shape and label\n",
    "#\n",
    "CIRCLE = 'circle'\n",
    "SQUARE = 'square'\n",
    "NOLABEL = ''\n",
    "\n",
    "# Revoir plus tard le coup des emoji comme label\n",
    "ANIMALS = ''.join([chr(n) for n in range(0x1f400,0x1f440)])\n",
    "PEOPLE1 = ''.join([chr(n) for n in range(0x1f9d1, 0x1f9d5)]) \n",
    "PEOPLE2 = ''.join([chr(n) for n in range(0x1f466, 0x1f46a)])\n",
    "PEOPLE3 = ''.join([chr(n) for n in range(0x1f474, 0x1f477)])\n",
    "PEOPLE4 = chr(0x1f471)\n",
    "\n",
    "# -- about colors\n",
    "\n",
    "# color_id\n",
    "WHITE = -1\n",
    "LIGHTBLUE = 0\n",
    "LEMONCHIFFON = 1\n",
    "PINK1 = 2\n",
    "LIGHTGREEN = 3\n",
    "IVORY2 = 4\n",
    "SIENNA1 = 5\n",
    "BLACK = 6\n",
    "\n",
    "\n",
    "# tuple of colors\n",
    "COLORS = 'lightblue', 'lemonchiffon', 'pink1', 'lightgreen', 'ivory2', 'sienna1', 'black', 'white'\n",
    "\n",
    "# -- about edges and nodes dimensions\n",
    "ARROWSIZE = '0.5'\n",
    "NODE_MARGIN = '0.02'\n",
    "NODE_WIDTH = '0.3'\n",
    "NODE_HEIGHT = '0.3'\n",
    "SMALL_NODE_WIDTH = '0.1'\n",
    "SMALL_NODE_HEIGHT = '0.1'\n",
    "\n",
    "# -----------\n",
    "# LES CLASSES\n",
    "\n",
    "class NodeView:\n",
    "    \"\"\"\n",
    "    La classe NodeView modélise les propriétés d'un noeud pour sa visualisation. \n",
    "    Cet objet est stocké comme information supplémentaire du modèle networkx\n",
    "    \n",
    "    Parameters\n",
    "    ----------\n",
    "        gv : graphviz.Graph | graphviz.Digraph\n",
    "            la vue à laquelle cette vue noeud est rattachée\n",
    "        node_id : int\n",
    "            numéro identifiant le sommet\n",
    "        color_id : int\n",
    "            un numéro de couleur (valeur par défaut -1)\n",
    "    \"\"\"\n",
    "\n",
    "    def __init__(self, gv, node_id, color_id=WHITE):        \n",
    "        self.__gv = gv\n",
    "        self.__id = node_id \n",
    "        self.__color_id = color_id\n",
    "        self.__pos = None\n",
    "        self.__label = str(node_id)\n",
    "        self.__ech = 1\n",
    "        self.__width = NODE_WIDTH\n",
    "    \n",
    "    # Public attributes\n",
    "    \n",
    "    @property\n",
    "    def id(self):\n",
    "        return self.__id\n",
    "        \n",
    "    @property\n",
    "    def color_id(self):\n",
    "        return self.__color_id\n",
    "    \n",
    "    @color_id.setter\n",
    "    def color_id(self, color_id):\n",
    "        self.__color_id = min(max(-len(COLORS), color_id), len(COLORS)-1)\n",
    "    \n",
    "    @property\n",
    "    def pos(self):\n",
    "        return self.__pos\n",
    "    \n",
    "    @pos.setter\n",
    "    def pos(self, pos):\n",
    "        self.__pos = pos\n",
    "        \n",
    "    @property\n",
    "    def width(self):\n",
    "        return self.__width\n",
    "    \n",
    "    @width.setter\n",
    "    def width(self, width):\n",
    "        self.__width = width\n",
    "\n",
    "    @property\n",
    "    def ech(self):\n",
    "        return self.__ech\n",
    "    \n",
    "    @ech.setter\n",
    "    def ech(self, ech):\n",
    "        self.__ech = ech\n",
    "\n",
    "    @property\n",
    "    def label(self):\n",
    "        return self.__label\n",
    "    \n",
    "    @label.setter\n",
    "    def label(self, label):\n",
    "        if not isinstance(label, str):\n",
    "            label = str(self.id)\n",
    "        self.__label = label\n",
    "    \n",
    "    @property\n",
    "    def gv(self):\n",
    "        return self.__gv\n",
    "   \n",
    "    \n",
    "    # View modification methods\n",
    "    \n",
    "    def create(self):\n",
    "        self.__gv.node(str(self.id), self.label, shape=CIRCLE, style='filled', fillcolor=self.color(), width=NODE_WIDTH, height=NODE_HEIGHT)\n",
    "    \n",
    "    \n",
    "    # -- about labels\n",
    "    \n",
    "    def label_on(self, label = None):\n",
    "        if label == None:\n",
    "            self.__gv.node(str(self.id), self.label)\n",
    "        else:\n",
    "            self.__gv.node(str(self.id), label)\n",
    "\n",
    "    def label_off(self):\n",
    "        self.__gv.node(str(self.id), NOLABEL)\n",
    "        \n",
    "    def label_on_side(self, label = None):\n",
    "        if label == None:\n",
    "            self.__gv.node(str(self.id), xlabel=self.label)\n",
    "        else:\n",
    "            self.__gv.node(str(self.id), xlabel=label)\n",
    "\n",
    "    def label_off_side(self):\n",
    "        self.__gv.node(str(self.id), xlabel=NOLABEL)\n",
    "        \n",
    "    \n",
    "    # -- about colors\n",
    "    \n",
    "    def color(self):\n",
    "        return COLORS[self.color_id]\n",
    "    \n",
    "    def color_on(self, color=None):\n",
    "        if isinstance(color, str):\n",
    "            color_str = color\n",
    "        elif isinstance(color, int):\n",
    "            try:\n",
    "                color_str = COLORS[color]\n",
    "            except:\n",
    "                color_str = COLORS[WHITE]\n",
    "        else:\n",
    "            color_str = self.color()\n",
    "        self.__gv.node(str(self.id), style='filled', fillcolor=color_str)\n",
    "\n",
    "    def color_off(self):\n",
    "        self.__gv.node(str(self.id), style='filled', fillcolor=COLORS[WHITE])\n",
    "        \n",
    "        \n",
    "    # -- about position and size\n",
    "    \n",
    "    def _is_positioned(self):\n",
    "        return self.pos is not None\n",
    "\n",
    "    def move(self, dx, dy):\n",
    "        if self._is_positioned():\n",
    "            self.pos = self.pos[0] + dx, self.pos[1] + dy\n",
    "\n",
    "    def place(self, ech=None):\n",
    "        if self._is_positioned():\n",
    "            ech = self.ech if ech is None else ech\n",
    "            self.ech = ech\n",
    "            x, y = self.pos\n",
    "            pos = f'{x*ech},{y*ech}!'\n",
    "            self.__gv.node(str(self.id), pos=pos)\n",
    "            \n",
    "        \n",
    "    def size(self, *dim):\n",
    "        if len(dim) == 0:\n",
    "            w, h = NODE_WIDTH, NODE_HEIGHT\n",
    "            self.width = NODE_WIDTH\n",
    "        elif len(dim) == 1:\n",
    "            w, h = dim[0], dim[0]\n",
    "            self.width = dim[0]\n",
    "        else:\n",
    "            w, h = dim\n",
    "            width = dim[0]\n",
    "        self.__gv.node(str(self.id), width=str(w), height=str(h))\n",
    "\n",
    "    \n",
    "class EdgeView:\n",
    "    \"\"\"\n",
    "    La classe EdgeView modélise les propriétés d'une arête ou d'un arc pour sa visualisation. \n",
    "    Cet objet est stocké comme information supplémentaire du modèle networkx\n",
    "    \n",
    "    Parameters\n",
    "    ----------\n",
    "        gv : graphviz.Graph | graphviz.Digraph\n",
    "            la vue à laquelle cette vue noeud est rattachée\n",
    "        edge : \n",
    "            couple de node_id identifiant l'arc/arête\n",
    "        color_id : int\n",
    "            un numéro de couleur (valeur par défaut -1)\n",
    "        weight : \n",
    "            La dimension l'attribut shape circle qui est égale à la hauteur\n",
    "    \"\"\"\n",
    "\n",
    "    def __init__(self, gv, node_src, node_dst, weight = None, color_id=BLACK):        \n",
    "        self.__gv = gv\n",
    "        self.__edge = (node_src, node_dst)\n",
    "        self.__color_id = color_id\n",
    "        self.__weight = weight\n",
    "        \n",
    "    # Public attributes\n",
    "    \n",
    "    @property\n",
    "    def edge(self):\n",
    "        return self.__edge\n",
    "        \n",
    "    @property\n",
    "    def color_id(self):\n",
    "        return self.__color_id\n",
    "    \n",
    "    @color_id.setter\n",
    "    def color_id(self, color_id):\n",
    "        self.__color_id = min(max(-len(COLORS), color_id), len(COLORS)-1)\n",
    "\n",
    "    @property\n",
    "    def weight(self):\n",
    "        return self.__weight\n",
    "    \n",
    "    @weight.setter\n",
    "    def weight(self, weight):\n",
    "        if not isinstance(weight, str):\n",
    "            weight = str(self.weight)\n",
    "        self.__weight = weight\n",
    "    \n",
    "    @property\n",
    "    def gv(self):\n",
    "        return self.__gv\n",
    "   \n",
    "    \n",
    "    # View modification methods\n",
    "    \n",
    "    def create(self):\n",
    "        if not self.weight:\n",
    "            self.__gv.edge(str(self.edge[0]), str(self.edge[1]), style='filled', color=self.color())\n",
    "        else:\n",
    "            self.__gv.edge(str(self.edge[0]), str(self.edge[1]), str(self.weight), style='filled', color=self.color())\n",
    "        \n",
    "    \n",
    "    # -- about colors\n",
    "    \n",
    "    def color(self):\n",
    "        return COLORS[self.color_id]\n",
    "    \n",
    "    def color_on(self, color=None):\n",
    "        if isinstance(color, str):\n",
    "            color_str = color\n",
    "        elif isinstance(color, int):\n",
    "            try:\n",
    "                color_str = COLORS[color]\n",
    "            except:\n",
    "                color_str = COLORS[BLACK]\n",
    "        else:\n",
    "            color_str = self.color()\n",
    "        self.gv.edge(str(self.edge[0]), str(self.edge[1]), str(self.weight), style='filled', color=color_str)\n",
    "\n",
    "    def color_off(self):\n",
    "        self.__gv.edge(str(self.edge[0]), str(self.edge[1]), style='filled', color=COLORS[BLACK])\n",
    "        \n",
    "            \n",
    "class Graph:\n",
    "    \"\"\"\n",
    "    class Graph modélise un graphe non orienté dont le propriétés importantes sont :\n",
    "    - model : un objet graphe au sens de networkx\n",
    "    - view : un objet graphe au sens de graphviz\n",
    "        \n",
    "    Parameters:\n",
    "    -----------\n",
    "        nodes_count : int\n",
    "            le nombre de sommets du graphe (par défaut 0)\n",
    "        random : bool\n",
    "            un flag pour savoir si le graphe généré est aléatoire. Si True alors le modèle sera \n",
    "            nx.erdos_renyi_graph(nodes_count, 0.5)\n",
    "        engine : str\n",
    "            le moteur de rendu (au sens de graphviz) ; par défaut 'neato'\n",
    "    \n",
    "    Note:\n",
    "    -----\n",
    "        Les autres paramètres ne devraient pas être utilisés : ils servent pour la création\n",
    "        des graphes orientés et des graphes bi-partie\n",
    "    \"\"\"\n",
    "        \n",
    "    def __init__(self, nodes_count=0, random=False, directed=False, bipartite=False, n1=0, n2=0, engine='neato', strict=False):\n",
    "        if random:\n",
    "            self.__model = nx.erdos_renyi_graph(nodes_count, 0.5)\n",
    "        elif directed:\n",
    "            self.__model = nx.DiGraph()\n",
    "        elif bipartite:\n",
    "            self.__model = nx.complete_bipartite_graph(n1, n2)\n",
    "        else:\n",
    "            self.__model = nx.Graph()\n",
    "        if directed:\n",
    "            self.__view = gv.Digraph(engine=engine, strict=strict, edge_attr={'arrowsize':ARROWSIZE}, node_attr={'fixedsize':'true', 'width':NODE_WIDTH, 'height':NODE_HEIGHT, 'margin':NODE_MARGIN})\n",
    "        else:\n",
    "            self.__view = gv.Graph(engine=engine, strict=strict, node_attr={'fixedsize':'true', 'width':NODE_WIDTH, 'height':NODE_HEIGHT, 'margin':NODE_MARGIN})\n",
    "        self.__engine = engine\n",
    "        self.__model.add_nodes_from([node_id, {'view': None}] for node_id in range(nodes_count))\n",
    "        self.init_view()\n",
    "        \n",
    "    \n",
    "    @property\n",
    "    def model(self):\n",
    "        return self.__model\n",
    "    \n",
    "    @model.setter\n",
    "    def model(self, model):\n",
    "        self.__model = model\n",
    "    \n",
    "    @property\n",
    "    def view(self):\n",
    "        return self.__view\n",
    "    \n",
    "    @view.setter\n",
    "    def view(self, view):\n",
    "        self.__view = view\n",
    "\n",
    "    @property\n",
    "    def engine(self):\n",
    "        return self.__engine\n",
    "    \n",
    "    @engine.setter\n",
    "    def engine(self, engine):\n",
    "        self.__engine = engine\n",
    "    \n",
    "    # MODEL METHODS\n",
    "    \n",
    "    # -- about information\n",
    "    \n",
    "    def node_ids(self):\n",
    "        return self.model.nodes\n",
    "    \n",
    "    def edges(self):\n",
    "        return self.model.edges\n",
    "    \n",
    "    def number_of_nodes(self):\n",
    "        return self.model.number_of_nodes()\n",
    "\n",
    "    def number_of_edges(self):\n",
    "        return self.model.number_of_edges()\n",
    "    \n",
    "    # -- about adding elements\n",
    "    \n",
    "    def add_nodes(self, nodes_count=1):\n",
    "        first = max(self.node_ids()) + 1\n",
    "        for new_id in range(first, first+nodes_count):\n",
    "            self.model.add_nodes_from([(new_id, {'g':self, 'view':NodeView(self.view, new_id)})])\n",
    "            self.node_view(new_id).create()\n",
    "\n",
    "    def add_edge(self, s1, s2): # A revoir\n",
    "        self.model.add_edge(s1, s2)\n",
    "        self.view.edge(str(s1), str(s2))\n",
    "    \n",
    "    def add_edges_from(self, iterable=None):\n",
    "        for s in iterable:\n",
    "            self.model.add_edges_from([(s[0],s[1], {'g':self, 'view':EdgeView(self.view, s[0],s[1])})])\n",
    "            self.edge_view(*s).create()\n",
    "            \n",
    "    def add_weighted_edges_from(self, iterable=None):\n",
    "        for s in iterable:\n",
    "            self.model.add_edges_from([(s[0],s[1], {'weight':s[2], 'g':self, 'view':EdgeView(self.view, s[0],s[1],s[2])})])\n",
    "            self.edge_view(s[0],s[1]).create()\n",
    "    \n",
    "    # -- about removing elements\n",
    "\n",
    "    def remove_node(self, node_id):\n",
    "        if node_id in self.node_ids():\n",
    "            self.model.remove_node(node_id)\n",
    "            self.reset_view()\n",
    "    \n",
    "    def remove_nodes_from(self, iterable):\n",
    "        self.model.remove_nodes_from(iterable)\n",
    "        self.reset_view()\n",
    "\n",
    "    def remove_edge(self, s1, s2):\n",
    "        self.model.remove_edge(s1, s2)\n",
    "        self.reset_view()\n",
    "    \n",
    "    def remove_edges_from(self, iterable):\n",
    "        self.model.remove_edges_from(iterable)\n",
    "        self.reset_view()\n",
    "    \n",
    "    def remove_random_edges(self, edges_count):\n",
    "        edges_count = min(edges_count, self.number_of_edges())\n",
    "        list_of_edges = list(self.edges())\n",
    "        random.shuffle(list_of_edges)\n",
    "        self.remove_edges_from(list_of_edges[:edges_count])\n",
    "        \n",
    "    # -- copy of graph\n",
    "    \n",
    "    def copy(self):\n",
    "        nodes_count = self.number_of_nodes()\n",
    "        g = Graph(nodes_count, engine=self.engine)\n",
    "        #g.init_view()\n",
    "        if self.is_weighted():\n",
    "            g.add_weighted_edges_from(self.weighted_edges())\n",
    "        else:\n",
    "            g.add_edges_from(self.edges())\n",
    "            \n",
    "        g.same_position_as(self)\n",
    "        return g\n",
    "\n",
    "    # -- other informations usefull for a lot of graphs algorithms\n",
    "    \n",
    "    def degree(self, node_id):\n",
    "        return self.model.degree(node_id)\n",
    "    \n",
    "    def neighbors(self, node_id):\n",
    "        return self.model.neighbors(node_id)\n",
    "    \n",
    "    # VIEW METHODS\n",
    "    \n",
    "    def node_view(self, node_id):\n",
    "        return self.model.nodes[node_id]['view']\n",
    "    \n",
    "    def edge_view(self, node_src, node_dst):\n",
    "        return self.model.edges[node_src, node_dst]['view']\n",
    "    \n",
    "    def init_view(self):\n",
    "        self.init_nodes_view()\n",
    "        self.init_edges_view()\n",
    "        self.view_is_up_to_date = True\n",
    "        \n",
    "    def reset_view(self, engine=None, strict=False):\n",
    "        engine = self.engine if engine is None else engine\n",
    "        d_position = self.export_position()\n",
    "        self.__view = gv.Graph(engine=engine, format='svg', strict=strict, node_attr={'fixedsize':'true', 'width':NODE_WIDTH, 'height':NODE_HEIGHT, 'margin':NODE_MARGIN})\n",
    "        self.init_view()\n",
    "        self.import_position(d_position)\n",
    "        \n",
    "    def init_nodes_view(self):\n",
    "        for node_id in self.node_ids():\n",
    "            self.model.nodes[node_id]['view'] = NodeView(self.view, node_id)\n",
    "            self.node_view(node_id).create()\n",
    "\n",
    "\n",
    "    def init_edges_view(self):\n",
    "        for s1, s2, p in self.weighted_edges():\n",
    "            self.model.edges[s1,s2]['view'] = EdgeView(self.view, s1,s2,p)\n",
    "            self.edge_view(s1, s2).create()\n",
    "            \n",
    "    # -- about nodes positionning and resizing\n",
    "    \n",
    "    def position(self, iterable, ech=1):\n",
    "        for node_id, *pos in iterable:\n",
    "            self.node_view(node_id).pos = pos\n",
    "        self.scale(ech)\n",
    "        \n",
    "    def scale(self, ech=None):\n",
    "        for node_id in self.node_ids():\n",
    "            self.node_view(node_id).place(ech)\n",
    "        \n",
    "    def same_position_as(self, g):\n",
    "        for node_id in g.node_ids():\n",
    "            if node_id in self.node_ids():\n",
    "                node_view = self.node_view(node_id) \n",
    "                node_view.pos = g.node_view(node_id).pos\n",
    "                node_view.ech = g.node_view(node_id).ech\n",
    "                node_view.place()\n",
    "\n",
    "    def _rec_move(self, node_ids, seen, dx, dy):\n",
    "        if node_ids:\n",
    "            node_id = node_ids.pop()\n",
    "            self.node_view(node_id).move(dx, dy)\n",
    "            seen.add(node_id)\n",
    "            for v_id in self.neighbors(node_id):\n",
    "                if v_id not in seen:\n",
    "                    node_ids.add(v_id)\n",
    "                    self._rec_move(node_ids, seen, dx, dy)\n",
    "                    \n",
    "    def move(self, node_id, dx, dy, group=False):\n",
    "        if group:\n",
    "            self._rec_move({node_id}, set(), dx, dy)\n",
    "        else:\n",
    "            self.node_view(node_id).move(dx, dy)\n",
    "        self.scale()\n",
    "    \n",
    "    def resize(self, *dim, node_id=None):\n",
    "        if node_id is None:\n",
    "            for node_id in self.node_ids():\n",
    "                self.node_view(node_id).size(*dim)\n",
    "                if float(self.node_view(node_id).width) < 0.25:\n",
    "                    self.node_view(node_id).label_off()\n",
    "                    self.node_view(node_id).label_on_side(self.node_view(node_id).label)\n",
    "                else:\n",
    "                    self.node_view(node_id).label_on(self.node_view(node_id).label)\n",
    "                    self.node_view(node_id).label_off_side()\n",
    "        else:\n",
    "            self.node_view(node_id).size(*dim)\n",
    "            if float(self.node_view(node_id).width) < 0.25:\n",
    "                self.node_view(node_id).label_off()\n",
    "                self.node_view(node_id).label_on_side(self.node_view(node_id).label)\n",
    "            else:\n",
    "                self.node_view(node_id).label_on(self.node_view(node_id).label)\n",
    "                self.node_view(node_id).label_off_side()\n",
    "            \n",
    "    def export_position(self):\n",
    "        lnodes = list(self.node_ids())\n",
    "        d = {node_id:self.node_view(node_id).pos for node_id in self.node_ids()}\n",
    "        d['ech'] = self.node_view(lnodes[0]).ech if lnodes else 1\n",
    "        return d\n",
    "\n",
    "    def import_position(self, d_position):\n",
    "        ech = d_position['ech']\n",
    "        for node_id in self.node_ids():\n",
    "            if node_id in d_position:\n",
    "                self.node_view(node_id).pos = d_position[node_id]\n",
    "                self.node_view(node_id).place(ech)\n",
    "\n",
    "    # -- about labels\n",
    "    \n",
    "    def set_labels(self, labels=None):\n",
    "        \"\"\"\n",
    "        Change all nodes label with the str labels parameter\n",
    "        if labels is None, reset all labels to nodes ids\n",
    "        \"\"\"\n",
    "        if labels is None:\n",
    "            for node_id in self.node_ids():\n",
    "                self.node_view(node_id).label = str(node_id)   \n",
    "        elif isinstance(labels, str):\n",
    "            nodes_count = self.number_of_nodes()\n",
    "            labels += NOLABEL * max(0, nodes_count - len(labels))\n",
    "            for node_id in self.node_ids():\n",
    "                self.node_view(node_id).label = labels[node_id]\n",
    "    \n",
    "    def label_on(self):\n",
    "        for node_id in self.node_ids():\n",
    "            self.node_view(node_id).label_on()\n",
    "\n",
    "    def label_off(self):\n",
    "        for node_id in self.node_ids():\n",
    "            self.node_view(node_id).label_off()\n",
    "    \n",
    "    # -- about colors\n",
    "\n",
    "    def color_on(self, *args):\n",
    "        if len(args) == 2:\n",
    "            node_id, color = args\n",
    "            self.node_view(node_id).color_on(color)\n",
    "        else:\n",
    "            for node_id in self.node_ids():\n",
    "                self.node_view(node_id).color_on()\n",
    "\n",
    "    def color_off(self):\n",
    "        for node_id in self.node_ids():\n",
    "            self.node_view(node_id).color_off()\n",
    "            \n",
    "    def color_on_edge(self, *args):\n",
    "        if len(args) == 3:\n",
    "            node_src, node_dst, color = args\n",
    "            self.edge_view(node_src, node_dst).color_on(color)\n",
    "        else:\n",
    "            for node_src, node_dst in self.edges():\n",
    "                self.edge_view(node_src, node_dst).color_on()\n",
    "\n",
    "    def color_off_edge(self):\n",
    "        for node_src, node_dst in self.edges():\n",
    "            self.edge_view(node_src, node_dst).color_off()\n",
    "            \n",
    "    # -- about attibutes\n",
    "    def is_weighted(self):\n",
    "        # Return true if the graph is ponderate\n",
    "        return nx.is_weighted(self.model)\n",
    "    \n",
    "    def get_node_attributes(self, node_id):\n",
    "        return nx.get_node_attributes(self.model,node_id)\n",
    "    \n",
    "    def printGraphInfo(self):\n",
    "        for node, info in self.model.adj.items():\n",
    "            for voisin, info_lien in info.items(): \n",
    "                print(f\"Lien [{node} et {voisin}] => poid {info_lien['weight']}\")\n",
    "    \n",
    "    def weighted_edges(self):\n",
    "        listE = list()\n",
    "        res = list()\n",
    "        for node, info in self.model.adj.items():\n",
    "            for voisin, info_lien in info.items(): \n",
    "                listE.append(node)\n",
    "                listE.append(voisin)\n",
    "                listE.append(info_lien['weight'])\n",
    "                res.append(listE)\n",
    "                listE = list()\n",
    "        return res         \n",
    "    \n",
    "        \n",
    "    # -- write graph view in file\n",
    "    \n",
    "    def write(self, filename='output', format='svg'):\n",
    "        self.view.render(filename, format=format, view=True)\n",
    "\n",
    "        \n",
    "    # CLASSIC ALGORITHMS HOMEMADE\n",
    "\n",
    "    # -- utilitaries functions\n",
    "    \n",
    "    def _select_node(self, node_ids, fct):\n",
    "        \"\"\"sélectionne parmi node_ids le node_id qui maximise fct\"\"\"\n",
    "        selected = node_ids[0]\n",
    "        best_value = fct(selected)\n",
    "        for i in range(1, len(node_ids)):\n",
    "            node_id = node_ids[i]\n",
    "            value = fct(node_id)\n",
    "            if value > best_value:\n",
    "                best_value = value\n",
    "                selected = node_id\n",
    "        return selected\n",
    "\n",
    "    # -- BFS : Breadth First Search (parcours en largeur)\n",
    "\n",
    "    def bfs(self, node_id):\n",
    "        a_traiter = [[node_id]]\n",
    "        seen = set()\n",
    "        voisins = []\n",
    "        while a_traiter:\n",
    "            un_niveau = a_traiter.pop(0)\n",
    "            voisins.append(un_niveau.copy())\n",
    "            voisins_a_traiter = []\n",
    "            for node in un_niveau:\n",
    "                seen.add(node)\n",
    "                node_voisins = list(self.neighbors(node))\n",
    "                for n in node_voisins:\n",
    "                    if n not in seen and n not in voisins_a_traiter:\n",
    "                        voisins_a_traiter.append(n)\n",
    "            if voisins_a_traiter:\n",
    "                a_traiter.append(voisins_a_traiter)\n",
    "        return voisins\n",
    "\n",
    "    # -- DFS : Depth-First Search (parcours en profondeur)\n",
    "\n",
    "    # todo\n",
    "\n",
    "    # -- about graph coloration\n",
    "    \n",
    "    def dsat(self, node_id):\n",
    "        \"\"\"Retourne le nombre de couleurs différentes parmi les voisins\"\"\"\n",
    "        return len({self.node_view(n_id).color_id for n_id in self.neighbors(node_id) if self.node_view(n_id).color_id != WHITE})\n",
    "    \n",
    "    def _smallest_color_id(self, node_id):\n",
    "        color_id = 0\n",
    "        used_color_ids = {self.node_view(v_id).color_id for v_id in self.neighbors(node_id)}\n",
    "        while color_id in used_color_ids:\n",
    "            color_id += 1\n",
    "        return color_id\n",
    "    \n",
    "    def colorise(self, step=False):\n",
    "        \"\"\"Coloration du graph en uilisant l'algo DSATUR -- si step vaut True\n",
    "        chaque étape de la coloration est sauvée dans un fichier\"\"\"\n",
    "        node_ids = list(self.node_ids())\n",
    "        node_id = self._select_node(node_ids, lambda i: self.degree(i))\n",
    "        nb_color_used = 1\n",
    "        color_id = 0\n",
    "        self.node_view(node_id).color_id = color_id\n",
    "        node_ids.remove(node_id)\n",
    "        if step:\n",
    "            nb_step = 1\n",
    "            self.color_on()\n",
    "            self.write(f'colorise_{nb_step:02}', format='png')\n",
    "        while node_ids:\n",
    "            node_id = self._select_node(node_ids, lambda i: (self.dsat(i), self.degree(i)))\n",
    "            node_ids.remove(node_id)\n",
    "            color_id = self._smallest_color_id(node_id)\n",
    "            self.node_view(node_id).color_id = color_id\n",
    "            if step:\n",
    "                nb_step += 1\n",
    "                self.color_on()\n",
    "                self.write(f'colorise_{nb_step:02}', format='png')\n",
    "            if color_id > nb_color_used - 1:\n",
    "                nb_color_used = color_id + 1\n",
    "        return nb_color_used\n",
    "    \n",
    "    # CLASSIC ALGORITHMS BY NETWORKX\n",
    "    # see https://networkx.org/documentation/stable/reference/algorithms/index.html\n",
    "    \n",
    "    # -- Coloration\n",
    "    \n",
    "    def greedy_color(self, strategy):\n",
    "        dict_colors = nx.greedy_color(self.model, strategy)\n",
    "        print(dict_colors)\n",
    "        for node_id, color_id in dict_colors.items():\n",
    "            self.node_view(node_id).color_id = color_id\n",
    "        return len(set(dict_colors.values()))\n",
    "            \n",
    "class DiGraph(Graph):\n",
    "    \"\"\"\n",
    "    class DiGraph modélise un graphe orienté. \n",
    "    \n",
    "    Parameters:\n",
    "    -----------\n",
    "        nodes_count : int\n",
    "            le nombre de sommets du graphe (par défaut 0)\n",
    "        engine : str\n",
    "            le moteur de rendu\n",
    "    \n",
    "    Note:\n",
    "    -----\n",
    "        Appel le constructeur de Graph avec directed=True\n",
    "    \"\"\"\n",
    "\n",
    "    \n",
    "    def __init__(self, nodes_count=0, engine='neato', strict=False):\n",
    "        Graph.__init__(self, nodes_count, random=False, directed=True, strict=strict, engine=engine)\n",
    "        \n",
    "    def reset_view(self, engine=None, strict=False):\n",
    "        engine = self.engine if engine is None else engine\n",
    "        d_position = self.export_position()\n",
    "        self.view = gv.Digraph(engine=engine, strict=strict, edge_attr={'arrowsize':ARROWSIZE}, node_attr={'fixedsize':'true', 'width':NODE_WIDTH, 'height':NODE_HEIGHT, 'margin':NODE_MARGIN})\n",
    "        self.init_view()\n",
    "        self.import_position(d_position)\n",
    "\n",
    "    def copy(self):\n",
    "        nodes_count = self.number_of_nodes()\n",
    "        g = DiGraph(nodes_count, engine=self.engine)\n",
    "        g.init_view()\n",
    "        if self.is_weighted():\n",
    "            g.add_weighted_edges_from(self.weighted_edges())\n",
    "        else:\n",
    "            g.add_edges_from(self.edges())\n",
    "        g.same_position_as(self)\n",
    "        return g\n",
    "\n",
    "    def degree(self, node_id):\n",
    "        return len(self.neighbors(node_id))\n",
    "    \n",
    "    def neighbors(self, node_id):\n",
    "        if self.is_weighted:\n",
    "            neigh = self.model.neighbors(node_id)\n",
    "        else:\n",
    "            neigh = list(self.model.successors(node_id))\n",
    "            neigh.extend(self.model.predecessors(node_id))\n",
    "        return neigh\n",
    "\n",
    "        \n",
    "class BiPartite(Graph):\n",
    "    \"\"\"\n",
    "    class BiPartite modélise un graphe bi-partie non orienté. \n",
    "    \n",
    "    Parameters:\n",
    "    -----------\n",
    "        n1 : int\n",
    "            le nombre de sommets d'une partie du graphe\n",
    "        n2 : int\n",
    "            le nombre de sommets de l'autre partie du graphe\n",
    "        engine : str\n",
    "            le moteur de rendu\n",
    "    \n",
    "    Note:\n",
    "    -----\n",
    "        Appel le constructeur de Graph avec nodes_count=n1+n2,directed=False, \n",
    "        random=False et bipartite=True\n",
    "    \"\"\"\n",
    "    \n",
    "    def __init__(self, n1, n2, engine='neato'):\n",
    "        Graph.__init__(self, n1+n2, bipartite=True, n1=n1, n2=n2, engine=engine)\n",
    "        self.n1 = n1\n",
    "        self.n2 = n2\n",
    "        \n",
    "    def copy(self):\n",
    "        nodes_count = self.number_of_nodes()\n",
    "        g = Graph(nodes_count, bipartite=True, n1=self.n1, n2=self.n2, engine=self.engine)\n",
    "        g.init_view()\n",
    "        g.add_edges_from(self.edges())\n",
    "        g.same_position_as(self)\n",
    "        return g\n",
    "\n",
    "\n"
   ]
  },
  {
   "cell_type": "code",
   "execution_count": 106,
   "id": "3c2bb969",
   "metadata": {
    "jupyter": {
     "source_hidden": true
    },
    "tags": []
   },
   "outputs": [],
   "source": [
    "from math import inf\n",
    "from queue import PriorityQueue\n",
    "\n",
    "class Dijkstra(Graph):\n",
    "    \"\"\"\n",
    "    class Dijkstra\n",
    "        \n",
    "    Parameters:\n",
    "    -----------\n",
    "        Graph : Graph\n",
    "            le graphe sur lequel on applique l'algorithme\n",
    "        start : int\n",
    "            le nœud de départ \n",
    "        end : int\n",
    "            le nœud de destination\n",
    "        solved : bool\n",
    "            un flag pour savoir si la résolution du plus court chemin est achevé\n",
    "        step_by_step : bool\n",
    "            un flag pour savoir si on lance la résolutions du plus court chemin étape par étape\n",
    "        shortest_path : list\n",
    "            la liste des node_id du chemin le plus court \n",
    "        dist : dict\n",
    "            dictionnaire contenant les clés: valeurs suivantes node_id: distance from start \n",
    "        pred : dict\n",
    "            dictionnaire contenant les clés: valeurs suivantes node_id: son prédécesseur \n",
    "        visited : collection set\n",
    "            collection des nœud visité         \n",
    "    \n",
    "    Note:\n",
    "    -----\n",
    "        Les autres paramètres ne devraient pas être utilisés : ils servent à l'exécution de l'algorithme.\n",
    "    \"\"\"\n",
    "    \n",
    "    def __init__(self, Graph, start, end):\n",
    "        self.__Graph = Graph # Graphe \n",
    "        self.__start = start # Nœud de départ\n",
    "        self.__end = end # Nœud de destination\n",
    "        self.__step = False # Flag\n",
    "        self.__solved = False # Flag\n",
    "        self.__step_by_step = False # Mode d'affichage\n",
    "        self.__shortest_path = list() # Path to use\n",
    "        self.__dist = None # Distances\n",
    "        self.__pred = None # Prédécesseurs\n",
    "        self.__visited = None # Nœud visité\n",
    "        self.priorityQueu = PriorityQueue() \n",
    "        self.init_dijkstra()\n",
    "   \n",
    "    # +++++GET/SET+++++ #\n",
    "    @property\n",
    "    def Graph(self):\n",
    "        return self.__Graph\n",
    "\n",
    "    @Graph.setter\n",
    "    def Graph(self, Graph):\n",
    "        self.__Graph = Graph\n",
    "        \n",
    "    @property\n",
    "    def dist(self):\n",
    "        return self.__dist\n",
    "\n",
    "    @dist.setter\n",
    "    def dist(self, dist):\n",
    "        self.__dist = dist\n",
    "        \n",
    "    @property\n",
    "    def visited(self):\n",
    "        return self.__visited\n",
    "\n",
    "    @visited.setter\n",
    "    def visited(self, visited):\n",
    "        self.__visited = visited\n",
    "        \n",
    "    @property\n",
    "    def pred(self):\n",
    "        return self.__pred\n",
    "\n",
    "    @pred.setter\n",
    "    def pred(self, pred):\n",
    "        self.__pred = pred\n",
    "        \n",
    "    @property\n",
    "    def shortest_path(self):\n",
    "        return self.__shortest_path\n",
    "\n",
    "    @shortest_path.setter\n",
    "    def shortest_path(self, shortest_path):\n",
    "        self.__shortest_path = shortest_path\n",
    "        \n",
    "    @property\n",
    "    def step_by_step(self):\n",
    "        return self.__step_by_step\n",
    "\n",
    "    @step_by_step.setter\n",
    "    def step_by_step(self, step_by_step):\n",
    "        self.__step_by_step = step_by_step\n",
    "        \n",
    "    @property\n",
    "    def solved(self):\n",
    "        return self.__solved\n",
    "\n",
    "    @solved.setter\n",
    "    def solved(self, solved):\n",
    "        self.__solved = solved\n",
    "        \n",
    "    @property\n",
    "    def start(self):\n",
    "        return self.__start\n",
    "\n",
    "    @start.setter\n",
    "    def start(self, start):\n",
    "        self.__start = start\n",
    "        \n",
    "    @property\n",
    "    def end(self):\n",
    "        return self.__end\n",
    "\n",
    "    @end.setter\n",
    "    def end(self, end):\n",
    "        self.__end = end\n",
    "        \n",
    "    @property\n",
    "    def step(self):\n",
    "        return self.__step\n",
    "\n",
    "    @step.setter\n",
    "    def step(self, step):\n",
    "        self.__step = step\n",
    "    # +++++GET/SET+++++ #\n",
    "    \n",
    "    \n",
    "    # +++++TOOLS+++++ #    \n",
    "    def view(self):\n",
    "        return self.Graph.view\n",
    "    \n",
    "    def show_shortest_path(self):\n",
    "        # Show the shortest path without other path\n",
    "        Gtemp = self.Graph.copy()\n",
    "        nodeList = list(self.Graph.model.nodes)\n",
    "        res = list(self.Graph.model.nodes)\n",
    "        for i in range(len(nodeList)):\n",
    "            for x in range(len(self.shortest_path)):\n",
    "                if nodeList[i] == self.shortest_path[x]:\n",
    "                    res.remove(self.shortest_path[x])\n",
    "        for i in range(len(res)):\n",
    "            Gtemp.remove_node(res[i])\n",
    "        return Gtemp.view\n",
    "    # +++++TOOLS+++++ #   \n",
    "    \n",
    "    # +++++NETWORKX+++++ #               \n",
    "    def path(self, src_node_id, dst_node_id):\n",
    "        # Dijkstra : shortest weighted path, by networkx\n",
    "        return nx.dijkstra_path(self.Graph.model, src_node_id, dst_node_id)\n",
    "\n",
    "    def path_length(self, src_node_id, dst_node_id):\n",
    "        # Dijkstra : Distance between 2 entry node : start , end, by networkx\n",
    "        return nx.dijkstra_path_length(self.Graph.model, src_node_id, dst_node_id)\n",
    "    \n",
    "    def distance_nx(self, dst_node_id):\n",
    "        # Dijkstra : Distance between start and an entry node, by networkx\n",
    "        return nx.dijkstra_path_length(self.Graph.model, self.start, dst_node_id)\n",
    "    \n",
    "    def distance(self, dst_node_id):\n",
    "        return self.dist[dst_node_id]\n",
    "    \n",
    "    def shortest_cost(self):\n",
    "        # Dijkstra : Lenght of the shortest path by networkx\n",
    "        return nx.dijkstra_path_length(self.Graph.model, self.start, self.end)\n",
    "    # +++++NETWORKX+++++ #    \n",
    "    \n",
    "        \n",
    "    # ------------------------Dijkstra---------------------# \n",
    "    \n",
    "    # +++++INIT+++++ #\n",
    "    def init_dijkstra(self):\n",
    "        self.pred = {}  # Predecessor of the current node pos\n",
    "        self.dist = {i: inf for i in list(nx.nodes(self.Graph.model))} # Init all nodes dist to inf except the source_node\n",
    "        self.dist[self.start] = 0  # dist from start -> start is zero\n",
    "        self.visited = set() \n",
    "        self.priorityQueu.put((self.dist[self.start], self.start))\n",
    "        self.Graph.color_on(self.start, 3)\n",
    "        self.Graph.resize(0.45)\n",
    "        # Labelise all node \n",
    "        stre = str()\n",
    "        for i in string.ascii_uppercase:\n",
    "            if len(stre) <= self.Graph.number_of_nodes():\n",
    "                stre += i\n",
    "        self.Graph.set_labels(stre)\n",
    "        self.Graph.label_on()\n",
    "        print(self.dist)\n",
    "    # +++++INIT+++++ #\n",
    "    \n",
    "    # +++++TOOLS+++++ #\n",
    "    def next(self):\n",
    "        if not self.solved:\n",
    "            self.step = True\n",
    "            self.solve()\n",
    "        return self.view()\n",
    "    \n",
    "    def dijkstra_path(self):\n",
    "        pos = self.end\n",
    "        while pos != self.start:\n",
    "            self.shortest_path.append(pos)\n",
    "            pos = self.pred[pos]\n",
    "        self.shortest_path.append(pos) \n",
    "        return self.shortest_path\n",
    "    \n",
    "    def color_dijkstra_path(self):\n",
    "        self.Graph.color_off()\n",
    "        for i in range(len(self.shortest_path)):\n",
    "            if i == 0:\n",
    "                self.Graph.color_on(self.shortest_path[i], 3)\n",
    "            elif i >= (len(self.shortest_path)-1):\n",
    "                self.Graph.color_on(self.shortest_path[i], 5)\n",
    "            else :\n",
    "                self.Graph.color_on(self.shortest_path[i], 2)\n",
    "    \n",
    "    def cost_between(self, start, end):\n",
    "        # Return :Weight between 2 nodes\n",
    "        return self.Graph.edge_view(start,end).weight\n",
    "    \n",
    "    def reset_dijkstra(self):\n",
    "        # Reset dijkstra & view\n",
    "        self.Graph.reset_view()\n",
    "        self.step = False\n",
    "        self.solved = False\n",
    "        self.step_by_step = False\n",
    "        self.shortest_path = list() # Path to use\n",
    "        self.dist = None\n",
    "        self.pred = None\n",
    "        self.visited = None\n",
    "        self.priorityQueu = PriorityQueue() \n",
    "        self.init_dijkstra()\n",
    "    # +++++TOOLS+++++ #\n",
    "    \n",
    "    def dijkstra_step(self, boolean):\n",
    "        # Dijkstra :step , Found the best path, save attributes{dist, pred, visited, shortest_path}\n",
    "        if not boolean:\n",
    "            pos_weight, pos = self.priorityQueu.get()\n",
    "            self.visited.add(pos)\n",
    "            # Adj() of the current node pos\n",
    "            for neighbor in self.Graph.neighbors(pos):\n",
    "                # New shortest path\n",
    "                path = self.dist[pos] + self.cost_between(pos, neighbor)\n",
    "                print(f\"From[{self.start}] Pos[{self.Graph.node_view(pos).label}] to[{neighbor}] : => : from_pos[{self.dist[pos]}] + next_cost[{self.cost_between(pos, neighbor)}] = {path}\")\n",
    "                string = (f\"{self.Graph.node_view(pos).label}{path}{self.Graph.node_view(neighbor).label}\")\n",
    "                if path < self.dist[neighbor]:\n",
    "                    # Update distances\n",
    "                    self.dist[neighbor] = path\n",
    "                    # Update predecessor\n",
    "                    self.pred[neighbor] = pos\n",
    "                    self.Graph.color_on(pos, 3)\n",
    "                    for i in explo.Graph.model.predecessors(pos):\n",
    "                        self.Graph.color_on(i, 2)\n",
    "                    self.Graph.node_view(neighbor).label_on(string)\n",
    "                    # Unvisited neighbors\n",
    "                    if neighbor not in self.visited:\n",
    "                        self.visited.add(neighbor)\n",
    "                        self.priorityQueu.put((self.dist[neighbor],neighbor))\n",
    "                    else:\n",
    "                        # Update queu\n",
    "                        _ = self.priorityQueu.get((self.dist[neighbor],neighbor))\n",
    "                        self.priorityQueu.put((self.dist[neighbor],neighbor))\n",
    "            print(self.dist)\n",
    "            if self.priorityQueu.qsize() == 0:\n",
    "                self.solved = True\n",
    "        else :\n",
    "            pos_weight, pos = self.priorityQueu.get()\n",
    "            self.visited.add(pos)\n",
    "            for neighbor in self.Graph.neighbors(pos):\n",
    "                path = self.dist[pos] + self.cost_between(pos, neighbor)\n",
    "                print(f\"From[{self.start}] Pos[{pos}] to[{neighbor}] : => : from_pos[{self.dist[pos]}] + next_cost[{self.cost_between(pos, neighbor)}] = {path}\")\n",
    "                string = (f\"{self.Graph.node_view(pos).label}{path}{self.Graph.node_view(neighbor).label}\")\n",
    "                if path < self.dist[neighbor]:\n",
    "                    self.dist[neighbor] = path\n",
    "                    self.pred[neighbor] = pos\n",
    "                    self.Graph.node_view(neighbor).label_on(string)\n",
    "                    if neighbor not in self.visited:\n",
    "                        self.visited.add(neighbor)\n",
    "                        self.priorityQueu.put((self.dist[neighbor],neighbor))\n",
    "                    else:\n",
    "                        _ = self.priorityQueu.get((self.dist[neighbor],neighbor))\n",
    "                        self.priorityQueu.put((self.dist[neighbor],neighbor))\n",
    "            print(self.dist)\n",
    "            if self.priorityQueu.qsize() == 0:\n",
    "                self.solved = True\n",
    "              \n",
    "    def solve(self, step_by_step = True):\n",
    "        # Dijkstra :main\n",
    "        while not self.solved and self.step == True and step_by_step:\n",
    "            self.step = False\n",
    "            self.dijkstra_step(False)\n",
    "                        \n",
    "        while not self.solved and not step_by_step:\n",
    "            self.dijkstra_step(True)\n",
    "                        \n",
    "        if self.solved:\n",
    "            self.dijkstra_path()\n",
    "            print(f\"Le chemin le plus court entre {self.start} et {self.end} est le suivant : {self.shortest_path} avec une distance total de : {self.shortest_cost()}\")\n",
    "            self.color_dijkstra_path()\n",
    "        return self.view()\n",
    "    # ------------------------Dijkstra---------------------#  \n",
    "    "
   ]
  },
  {
   "cell_type": "markdown",
   "id": "64aebc02-baaa-4fa8-8112-945b8e734291",
   "metadata": {},
   "source": [
    "Test de `EdgeView`"
   ]
  },
  {
   "cell_type": "code",
   "execution_count": 107,
   "id": "6aaf3302-84b2-4d5f-b410-b9b8bfa597ff",
   "metadata": {},
   "outputs": [
    {
     "data": {
      "image/svg+xml": "<?xml version=\"1.0\" encoding=\"UTF-8\" standalone=\"no\"?>\n<!DOCTYPE svg PUBLIC \"-//W3C//DTD SVG 1.1//EN\"\n \"http://www.w3.org/Graphics/SVG/1.1/DTD/svg11.dtd\">\n<!-- Generated by graphviz version 2.50.0 (20211204.2007)\n -->\n<!-- Pages: 1 -->\n<svg width=\"126pt\" height=\"174pt\"\n viewBox=\"0.00 0.00 125.67 173.97\" xmlns=\"http://www.w3.org/2000/svg\" xmlns:xlink=\"http://www.w3.org/1999/xlink\">\n<g id=\"graph0\" class=\"graph\" transform=\"scale(1 1) rotate(0) translate(4 169.97)\">\n<polygon fill=\"white\" stroke=\"transparent\" points=\"-4,4 -4,-169.97 121.67,-169.97 121.67,4 -4,4\"/>\n<!-- 0 -->\n<g id=\"node1\" class=\"node\">\n<title>0</title>\n<ellipse fill=\"white\" stroke=\"black\" cx=\"11\" cy=\"-32.06\" rx=\"11\" ry=\"11\"/>\n<text text-anchor=\"middle\" x=\"11\" y=\"-28.36\" font-family=\"Times,serif\" font-size=\"14.00\">0</text>\n</g>\n<!-- 1 -->\n<g id=\"node2\" class=\"node\">\n<title>1</title>\n<ellipse fill=\"white\" stroke=\"black\" cx=\"86.07\" cy=\"-11\" rx=\"11\" ry=\"11\"/>\n<text text-anchor=\"middle\" x=\"86.07\" y=\"-7.3\" font-family=\"Times,serif\" font-size=\"14.00\">1</text>\n</g>\n<!-- 0&#45;&gt;1 -->\n<g id=\"edge1\" class=\"edge\">\n<title>0&#45;&gt;1</title>\n<path fill=\"none\" stroke=\"black\" d=\"M21.76,-29.04C34.47,-25.47 55.72,-19.51 70.3,-15.42\"/>\n<polygon fill=\"black\" stroke=\"black\" points=\"70.99,-17.05 75.33,-14.01 70.05,-13.68 70.99,-17.05\"/>\n<text text-anchor=\"middle\" x=\"42.53\" y=\"-26.03\" font-family=\"Times,serif\" font-size=\"14.00\">1</text>\n</g>\n<!-- 2 -->\n<g id=\"node3\" class=\"node\">\n<title>2</title>\n<ellipse fill=\"white\" stroke=\"black\" cx=\"31.65\" cy=\"-107.31\" rx=\"11\" ry=\"11\"/>\n<text text-anchor=\"middle\" x=\"31.65\" y=\"-103.61\" font-family=\"Times,serif\" font-size=\"14.00\">2</text>\n</g>\n<!-- 0&#45;&gt;2 -->\n<g id=\"edge6\" class=\"edge\">\n<title>0&#45;&gt;2</title>\n<path fill=\"none\" stroke=\"black\" d=\"M13.96,-42.84C17.46,-55.58 23.3,-76.89 27.31,-91.5\"/>\n<polygon fill=\"black\" stroke=\"black\" points=\"25.69,-92.19 28.7,-96.55 29.06,-91.27 25.69,-92.19\"/>\n<text text-anchor=\"middle\" x=\"17.14\" y=\"-70.97\" font-family=\"Times,serif\" font-size=\"14.00\">3</text>\n</g>\n<!-- 3 -->\n<g id=\"node4\" class=\"node\">\n<title>3</title>\n<ellipse fill=\"white\" stroke=\"black\" cx=\"106.67\" cy=\"-86.15\" rx=\"11\" ry=\"11\"/>\n<text text-anchor=\"middle\" x=\"106.67\" y=\"-82.45\" font-family=\"Times,serif\" font-size=\"14.00\">3</text>\n</g>\n<!-- 1&#45;&gt;3 -->\n<g id=\"edge2\" class=\"edge\">\n<title>1&#45;&gt;3</title>\n<path fill=\"none\" stroke=\"black\" d=\"M89.02,-21.77C92.51,-34.49 98.34,-55.77 102.34,-70.36\"/>\n<polygon fill=\"black\" stroke=\"black\" points=\"100.72,-71.04 103.73,-75.4 104.09,-70.12 100.72,-71.04\"/>\n<text text-anchor=\"middle\" x=\"92.18\" y=\"-49.86\" font-family=\"Times,serif\" font-size=\"14.00\">1</text>\n</g>\n<!-- 4 -->\n<g id=\"node5\" class=\"node\">\n<title>4</title>\n<ellipse fill=\"white\" stroke=\"black\" cx=\"85.78\" cy=\"-154.97\" rx=\"11\" ry=\"11\"/>\n<text text-anchor=\"middle\" x=\"85.78\" y=\"-151.27\" font-family=\"Times,serif\" font-size=\"14.00\">4</text>\n</g>\n<!-- 2&#45;&gt;4 -->\n<g id=\"edge5\" class=\"edge\">\n<title>2&#45;&gt;4</title>\n<path fill=\"none\" stroke=\"black\" d=\"M40.11,-114.76C49.03,-122.62 63.19,-135.08 73.38,-144.05\"/>\n<polygon fill=\"black\" stroke=\"black\" points=\"72.29,-145.43 77.2,-147.42 74.6,-142.8 72.29,-145.43\"/>\n<text text-anchor=\"middle\" x=\"53.24\" y=\"-133.21\" font-family=\"Times,serif\" font-size=\"14.00\">2</text>\n</g>\n<!-- 3&#45;&gt;2 -->\n<g id=\"edge3\" class=\"edge\">\n<title>3&#45;&gt;2</title>\n<path fill=\"none\" stroke=\"black\" d=\"M95.92,-89.18C83.22,-92.76 61.98,-98.76 47.42,-102.87\"/>\n<polygon fill=\"black\" stroke=\"black\" points=\"46.72,-101.25 42.38,-104.29 47.67,-104.61 46.72,-101.25\"/>\n<text text-anchor=\"middle\" x=\"68.17\" y=\"-99.82\" font-family=\"Times,serif\" font-size=\"14.00\">2</text>\n</g>\n<!-- 3&#45;&gt;4 -->\n<g id=\"edge4\" class=\"edge\">\n<title>3&#45;&gt;4</title>\n<path fill=\"none\" stroke=\"black\" d=\"M103.41,-96.9C99.96,-108.25 94.5,-126.25 90.56,-139.2\"/>\n<polygon fill=\"black\" stroke=\"black\" points=\"88.87,-138.78 89.09,-144.07 92.21,-139.79 88.87,-138.78\"/>\n<text text-anchor=\"middle\" x=\"93.49\" y=\"-121.85\" font-family=\"Times,serif\" font-size=\"14.00\">5</text>\n</g>\n</g>\n</svg>\n",
      "text/plain": [
       "<graphviz.graphs.Digraph at 0x7fe02f8be550>"
      ]
     },
     "execution_count": 107,
     "metadata": {},
     "output_type": "execute_result"
    }
   ],
   "source": [
    "G = DiGraph(5, strict=True)\n",
    "G.add_weighted_edges_from([(0,1,1), (1,3,1), (3,2,2), (3,4,5), (2,4,2), (0,2,3)])\n",
    "G.view"
   ]
  },
  {
   "cell_type": "code",
   "execution_count": 108,
   "id": "cbd70357-32ed-4ba5-b91b-b29d3604dc63",
   "metadata": {},
   "outputs": [],
   "source": [
    "G.edge_view(0,1).color_on(3) # Error here :TODO"
   ]
  },
  {
   "cell_type": "code",
   "execution_count": 109,
   "id": "fb59b731-21cc-4d9d-8262-dd8d304b202a",
   "metadata": {},
   "outputs": [
    {
     "data": {
      "image/svg+xml": "<?xml version=\"1.0\" encoding=\"UTF-8\" standalone=\"no\"?>\n<!DOCTYPE svg PUBLIC \"-//W3C//DTD SVG 1.1//EN\"\n \"http://www.w3.org/Graphics/SVG/1.1/DTD/svg11.dtd\">\n<!-- Generated by graphviz version 2.50.0 (20211204.2007)\n -->\n<!-- Pages: 1 -->\n<svg width=\"126pt\" height=\"174pt\"\n viewBox=\"0.00 0.00 125.67 173.97\" xmlns=\"http://www.w3.org/2000/svg\" xmlns:xlink=\"http://www.w3.org/1999/xlink\">\n<g id=\"graph0\" class=\"graph\" transform=\"scale(1 1) rotate(0) translate(4 169.97)\">\n<polygon fill=\"white\" stroke=\"transparent\" points=\"-4,4 -4,-169.97 121.67,-169.97 121.67,4 -4,4\"/>\n<!-- 0 -->\n<g id=\"node1\" class=\"node\">\n<title>0</title>\n<ellipse fill=\"white\" stroke=\"black\" cx=\"11\" cy=\"-32.06\" rx=\"11\" ry=\"11\"/>\n<text text-anchor=\"middle\" x=\"11\" y=\"-28.36\" font-family=\"Times,serif\" font-size=\"14.00\">0</text>\n</g>\n<!-- 1 -->\n<g id=\"node2\" class=\"node\">\n<title>1</title>\n<ellipse fill=\"white\" stroke=\"black\" cx=\"86.07\" cy=\"-11\" rx=\"11\" ry=\"11\"/>\n<text text-anchor=\"middle\" x=\"86.07\" y=\"-7.3\" font-family=\"Times,serif\" font-size=\"14.00\">1</text>\n</g>\n<!-- 0&#45;&gt;1 -->\n<g id=\"edge1\" class=\"edge\">\n<title>0&#45;&gt;1</title>\n<path fill=\"none\" stroke=\"lightgreen\" d=\"M21.76,-29.04C34.47,-25.47 55.72,-19.51 70.3,-15.42\"/>\n<polygon fill=\"lightgreen\" stroke=\"lightgreen\" points=\"70.99,-17.05 75.33,-14.01 70.05,-13.68 70.99,-17.05\"/>\n<text text-anchor=\"middle\" x=\"42.53\" y=\"-26.03\" font-family=\"Times,serif\" font-size=\"14.00\">1</text>\n</g>\n<!-- 2 -->\n<g id=\"node3\" class=\"node\">\n<title>2</title>\n<ellipse fill=\"white\" stroke=\"black\" cx=\"31.65\" cy=\"-107.31\" rx=\"11\" ry=\"11\"/>\n<text text-anchor=\"middle\" x=\"31.65\" y=\"-103.61\" font-family=\"Times,serif\" font-size=\"14.00\">2</text>\n</g>\n<!-- 0&#45;&gt;2 -->\n<g id=\"edge6\" class=\"edge\">\n<title>0&#45;&gt;2</title>\n<path fill=\"none\" stroke=\"black\" d=\"M13.96,-42.84C17.46,-55.58 23.3,-76.89 27.31,-91.5\"/>\n<polygon fill=\"black\" stroke=\"black\" points=\"25.69,-92.19 28.7,-96.55 29.06,-91.27 25.69,-92.19\"/>\n<text text-anchor=\"middle\" x=\"17.14\" y=\"-70.97\" font-family=\"Times,serif\" font-size=\"14.00\">3</text>\n</g>\n<!-- 3 -->\n<g id=\"node4\" class=\"node\">\n<title>3</title>\n<ellipse fill=\"white\" stroke=\"black\" cx=\"106.67\" cy=\"-86.15\" rx=\"11\" ry=\"11\"/>\n<text text-anchor=\"middle\" x=\"106.67\" y=\"-82.45\" font-family=\"Times,serif\" font-size=\"14.00\">3</text>\n</g>\n<!-- 1&#45;&gt;3 -->\n<g id=\"edge2\" class=\"edge\">\n<title>1&#45;&gt;3</title>\n<path fill=\"none\" stroke=\"black\" d=\"M89.02,-21.77C92.51,-34.49 98.34,-55.77 102.34,-70.36\"/>\n<polygon fill=\"black\" stroke=\"black\" points=\"100.72,-71.04 103.73,-75.4 104.09,-70.12 100.72,-71.04\"/>\n<text text-anchor=\"middle\" x=\"92.18\" y=\"-49.86\" font-family=\"Times,serif\" font-size=\"14.00\">1</text>\n</g>\n<!-- 4 -->\n<g id=\"node5\" class=\"node\">\n<title>4</title>\n<ellipse fill=\"white\" stroke=\"black\" cx=\"85.78\" cy=\"-154.97\" rx=\"11\" ry=\"11\"/>\n<text text-anchor=\"middle\" x=\"85.78\" y=\"-151.27\" font-family=\"Times,serif\" font-size=\"14.00\">4</text>\n</g>\n<!-- 2&#45;&gt;4 -->\n<g id=\"edge5\" class=\"edge\">\n<title>2&#45;&gt;4</title>\n<path fill=\"none\" stroke=\"black\" d=\"M40.11,-114.76C49.03,-122.62 63.19,-135.08 73.38,-144.05\"/>\n<polygon fill=\"black\" stroke=\"black\" points=\"72.29,-145.43 77.2,-147.42 74.6,-142.8 72.29,-145.43\"/>\n<text text-anchor=\"middle\" x=\"53.24\" y=\"-133.21\" font-family=\"Times,serif\" font-size=\"14.00\">2</text>\n</g>\n<!-- 3&#45;&gt;2 -->\n<g id=\"edge3\" class=\"edge\">\n<title>3&#45;&gt;2</title>\n<path fill=\"none\" stroke=\"black\" d=\"M95.92,-89.18C83.22,-92.76 61.98,-98.76 47.42,-102.87\"/>\n<polygon fill=\"black\" stroke=\"black\" points=\"46.72,-101.25 42.38,-104.29 47.67,-104.61 46.72,-101.25\"/>\n<text text-anchor=\"middle\" x=\"68.17\" y=\"-99.82\" font-family=\"Times,serif\" font-size=\"14.00\">2</text>\n</g>\n<!-- 3&#45;&gt;4 -->\n<g id=\"edge4\" class=\"edge\">\n<title>3&#45;&gt;4</title>\n<path fill=\"none\" stroke=\"black\" d=\"M103.41,-96.9C99.96,-108.25 94.5,-126.25 90.56,-139.2\"/>\n<polygon fill=\"black\" stroke=\"black\" points=\"88.87,-138.78 89.09,-144.07 92.21,-139.79 88.87,-138.78\"/>\n<text text-anchor=\"middle\" x=\"93.49\" y=\"-121.85\" font-family=\"Times,serif\" font-size=\"14.00\">5</text>\n</g>\n</g>\n</svg>\n",
      "text/plain": [
       "<graphviz.graphs.Digraph at 0x7fe02f8be550>"
      ]
     },
     "execution_count": 109,
     "metadata": {},
     "output_type": "execute_result"
    }
   ],
   "source": [
    "G.view"
   ]
  },
  {
   "cell_type": "code",
   "execution_count": 110,
   "id": "f442270d",
   "metadata": {
    "scrolled": true
   },
   "outputs": [
    {
     "data": {
      "image/svg+xml": "<?xml version=\"1.0\" encoding=\"UTF-8\" standalone=\"no\"?>\n<!DOCTYPE svg PUBLIC \"-//W3C//DTD SVG 1.1//EN\"\n \"http://www.w3.org/Graphics/SVG/1.1/DTD/svg11.dtd\">\n<!-- Generated by graphviz version 2.50.0 (20211204.2007)\n -->\n<!-- Pages: 1 -->\n<svg width=\"126pt\" height=\"174pt\"\n viewBox=\"0.00 0.00 125.67 173.97\" xmlns=\"http://www.w3.org/2000/svg\" xmlns:xlink=\"http://www.w3.org/1999/xlink\">\n<g id=\"graph0\" class=\"graph\" transform=\"scale(1 1) rotate(0) translate(4 169.97)\">\n<polygon fill=\"white\" stroke=\"transparent\" points=\"-4,4 -4,-169.97 121.67,-169.97 121.67,4 -4,4\"/>\n<!-- 0 -->\n<g id=\"node1\" class=\"node\">\n<title>0</title>\n<ellipse fill=\"white\" stroke=\"black\" cx=\"11\" cy=\"-32.06\" rx=\"11\" ry=\"11\"/>\n<text text-anchor=\"middle\" x=\"11\" y=\"-28.36\" font-family=\"Times,serif\" font-size=\"14.00\">0</text>\n</g>\n<!-- 1 -->\n<g id=\"node2\" class=\"node\">\n<title>1</title>\n<ellipse fill=\"white\" stroke=\"black\" cx=\"86.07\" cy=\"-11\" rx=\"11\" ry=\"11\"/>\n<text text-anchor=\"middle\" x=\"86.07\" y=\"-7.3\" font-family=\"Times,serif\" font-size=\"14.00\">1</text>\n</g>\n<!-- 0&#45;&gt;1 -->\n<g id=\"edge1\" class=\"edge\">\n<title>0&#45;&gt;1</title>\n<path fill=\"none\" stroke=\"black\" d=\"M21.76,-29.04C34.47,-25.47 55.72,-19.51 70.3,-15.42\"/>\n<polygon fill=\"black\" stroke=\"black\" points=\"70.99,-17.05 75.33,-14.01 70.05,-13.68 70.99,-17.05\"/>\n<text text-anchor=\"middle\" x=\"42.53\" y=\"-26.03\" font-family=\"Times,serif\" font-size=\"14.00\">1</text>\n</g>\n<!-- 2 -->\n<g id=\"node3\" class=\"node\">\n<title>2</title>\n<ellipse fill=\"white\" stroke=\"black\" cx=\"31.65\" cy=\"-107.31\" rx=\"11\" ry=\"11\"/>\n<text text-anchor=\"middle\" x=\"31.65\" y=\"-103.61\" font-family=\"Times,serif\" font-size=\"14.00\">2</text>\n</g>\n<!-- 0&#45;&gt;2 -->\n<g id=\"edge6\" class=\"edge\">\n<title>0&#45;&gt;2</title>\n<path fill=\"none\" stroke=\"black\" d=\"M13.96,-42.84C17.46,-55.58 23.3,-76.89 27.31,-91.5\"/>\n<polygon fill=\"black\" stroke=\"black\" points=\"25.69,-92.19 28.7,-96.55 29.06,-91.27 25.69,-92.19\"/>\n<text text-anchor=\"middle\" x=\"17.14\" y=\"-70.97\" font-family=\"Times,serif\" font-size=\"14.00\">3</text>\n</g>\n<!-- 3 -->\n<g id=\"node4\" class=\"node\">\n<title>3</title>\n<ellipse fill=\"white\" stroke=\"black\" cx=\"106.67\" cy=\"-86.15\" rx=\"11\" ry=\"11\"/>\n<text text-anchor=\"middle\" x=\"106.67\" y=\"-82.45\" font-family=\"Times,serif\" font-size=\"14.00\">3</text>\n</g>\n<!-- 1&#45;&gt;3 -->\n<g id=\"edge2\" class=\"edge\">\n<title>1&#45;&gt;3</title>\n<path fill=\"none\" stroke=\"black\" d=\"M89.02,-21.77C92.51,-34.49 98.34,-55.77 102.34,-70.36\"/>\n<polygon fill=\"black\" stroke=\"black\" points=\"100.72,-71.04 103.73,-75.4 104.09,-70.12 100.72,-71.04\"/>\n<text text-anchor=\"middle\" x=\"92.18\" y=\"-49.86\" font-family=\"Times,serif\" font-size=\"14.00\">1</text>\n</g>\n<!-- 4 -->\n<g id=\"node5\" class=\"node\">\n<title>4</title>\n<ellipse fill=\"white\" stroke=\"black\" cx=\"85.78\" cy=\"-154.97\" rx=\"11\" ry=\"11\"/>\n<text text-anchor=\"middle\" x=\"85.78\" y=\"-151.27\" font-family=\"Times,serif\" font-size=\"14.00\">4</text>\n</g>\n<!-- 2&#45;&gt;4 -->\n<g id=\"edge5\" class=\"edge\">\n<title>2&#45;&gt;4</title>\n<path fill=\"none\" stroke=\"black\" d=\"M40.11,-114.76C49.03,-122.62 63.19,-135.08 73.38,-144.05\"/>\n<polygon fill=\"black\" stroke=\"black\" points=\"72.29,-145.43 77.2,-147.42 74.6,-142.8 72.29,-145.43\"/>\n<text text-anchor=\"middle\" x=\"53.24\" y=\"-133.21\" font-family=\"Times,serif\" font-size=\"14.00\">2</text>\n</g>\n<!-- 3&#45;&gt;2 -->\n<g id=\"edge3\" class=\"edge\">\n<title>3&#45;&gt;2</title>\n<path fill=\"none\" stroke=\"black\" d=\"M95.92,-89.18C83.22,-92.76 61.98,-98.76 47.42,-102.87\"/>\n<polygon fill=\"black\" stroke=\"black\" points=\"46.72,-101.25 42.38,-104.29 47.67,-104.61 46.72,-101.25\"/>\n<text text-anchor=\"middle\" x=\"68.17\" y=\"-99.82\" font-family=\"Times,serif\" font-size=\"14.00\">2</text>\n</g>\n<!-- 3&#45;&gt;4 -->\n<g id=\"edge4\" class=\"edge\">\n<title>3&#45;&gt;4</title>\n<path fill=\"none\" stroke=\"black\" d=\"M103.41,-96.9C99.96,-108.25 94.5,-126.25 90.56,-139.2\"/>\n<polygon fill=\"black\" stroke=\"black\" points=\"88.87,-138.78 89.09,-144.07 92.21,-139.79 88.87,-138.78\"/>\n<text text-anchor=\"middle\" x=\"93.49\" y=\"-121.85\" font-family=\"Times,serif\" font-size=\"14.00\">5</text>\n</g>\n</g>\n</svg>\n",
      "text/plain": [
       "<graphviz.graphs.Digraph at 0x7fe03009e9d0>"
      ]
     },
     "execution_count": 110,
     "metadata": {},
     "output_type": "execute_result"
    }
   ],
   "source": [
    "mon_graphe = DiGraph(5)\n",
    "mon_graphe.add_weighted_edges_from([(0,1,1), (1,3,1), (3,2,2), (3,4,5), (2,4,2), (0,2,3)])\n",
    "mon_graphe.view"
   ]
  },
  {
   "cell_type": "code",
   "execution_count": 111,
   "id": "643463cd",
   "metadata": {},
   "outputs": [
    {
     "name": "stdout",
     "output_type": "stream",
     "text": [
      "{0: 0, 1: inf, 2: inf, 3: inf, 4: inf}\n"
     ]
    }
   ],
   "source": [
    "explo = Dijkstra(mon_graphe, 0,4) # Objet Dijkstra"
   ]
  },
  {
   "cell_type": "code",
   "execution_count": 112,
   "id": "0c262ef2",
   "metadata": {},
   "outputs": [
    {
     "data": {
      "text/plain": [
       "0"
      ]
     },
     "execution_count": 112,
     "metadata": {},
     "output_type": "execute_result"
    }
   ],
   "source": [
    "explo.start"
   ]
  },
  {
   "cell_type": "code",
   "execution_count": 113,
   "id": "6e2e11cb",
   "metadata": {},
   "outputs": [
    {
     "data": {
      "text/plain": [
       "4"
      ]
     },
     "execution_count": 113,
     "metadata": {},
     "output_type": "execute_result"
    }
   ],
   "source": [
    "explo.end"
   ]
  },
  {
   "cell_type": "code",
   "execution_count": 114,
   "id": "c462ee4b",
   "metadata": {},
   "outputs": [
    {
     "data": {
      "text/plain": [
       "False"
      ]
     },
     "execution_count": 114,
     "metadata": {},
     "output_type": "execute_result"
    }
   ],
   "source": [
    "explo.solved"
   ]
  },
  {
   "cell_type": "code",
   "execution_count": 115,
   "id": "facb0310",
   "metadata": {},
   "outputs": [
    {
     "data": {
      "text/plain": [
       "0"
      ]
     },
     "execution_count": 115,
     "metadata": {},
     "output_type": "execute_result"
    }
   ],
   "source": [
    "explo.distance(0)"
   ]
  },
  {
   "cell_type": "code",
   "execution_count": 116,
   "id": "869f3163",
   "metadata": {},
   "outputs": [
    {
     "data": {
      "text/plain": [
       "inf"
      ]
     },
     "execution_count": 116,
     "metadata": {},
     "output_type": "execute_result"
    }
   ],
   "source": [
    "explo.distance(explo.end)"
   ]
  },
  {
   "cell_type": "code",
   "execution_count": 117,
   "id": "a2c19ca4",
   "metadata": {},
   "outputs": [
    {
     "data": {
      "text/plain": [
       "False"
      ]
     },
     "execution_count": 117,
     "metadata": {},
     "output_type": "execute_result"
    }
   ],
   "source": [
    "explo.distance(4) == explo.shortest_cost()"
   ]
  },
  {
   "cell_type": "code",
   "execution_count": 118,
   "id": "27576b53",
   "metadata": {},
   "outputs": [
    {
     "data": {
      "image/svg+xml": "<?xml version=\"1.0\" encoding=\"UTF-8\" standalone=\"no\"?>\n<!DOCTYPE svg PUBLIC \"-//W3C//DTD SVG 1.1//EN\"\n \"http://www.w3.org/Graphics/SVG/1.1/DTD/svg11.dtd\">\n<!-- Generated by graphviz version 2.50.0 (20211204.2007)\n -->\n<!-- Pages: 1 -->\n<svg width=\"136pt\" height=\"184pt\"\n viewBox=\"0.00 0.00 135.67 183.97\" xmlns=\"http://www.w3.org/2000/svg\" xmlns:xlink=\"http://www.w3.org/1999/xlink\">\n<g id=\"graph0\" class=\"graph\" transform=\"scale(1 1) rotate(0) translate(4 179.97)\">\n<polygon fill=\"white\" stroke=\"transparent\" points=\"-4,4 -4,-179.97 131.67,-179.97 131.67,4 -4,4\"/>\n<!-- 0 -->\n<g id=\"node1\" class=\"node\">\n<title>0</title>\n<ellipse fill=\"lightgreen\" stroke=\"black\" cx=\"16\" cy=\"-37.06\" rx=\"16\" ry=\"16\"/>\n<text text-anchor=\"middle\" x=\"16\" y=\"-33.36\" font-family=\"Times,serif\" font-size=\"14.00\">A</text>\n</g>\n<!-- 1 -->\n<g id=\"node2\" class=\"node\">\n<title>1</title>\n<ellipse fill=\"white\" stroke=\"black\" cx=\"91.07\" cy=\"-16\" rx=\"16\" ry=\"16\"/>\n<text text-anchor=\"middle\" x=\"91.07\" y=\"-12.3\" font-family=\"Times,serif\" font-size=\"14.00\">B</text>\n</g>\n<!-- 0&#45;&gt;1 -->\n<g id=\"edge1\" class=\"edge\">\n<title>0&#45;&gt;1</title>\n<path fill=\"none\" stroke=\"black\" d=\"M31.55,-32.69C42.83,-29.53 58.19,-25.22 70.48,-21.78\"/>\n<polygon fill=\"black\" stroke=\"black\" points=\"71.19,-23.39 75.54,-20.36 70.25,-20.02 71.19,-23.39\"/>\n<text text-anchor=\"middle\" x=\"47.52\" y=\"-31.03\" font-family=\"Times,serif\" font-size=\"14.00\">1</text>\n</g>\n<!-- 2 -->\n<g id=\"node3\" class=\"node\">\n<title>2</title>\n<ellipse fill=\"white\" stroke=\"black\" cx=\"36.65\" cy=\"-112.31\" rx=\"16\" ry=\"16\"/>\n<text text-anchor=\"middle\" x=\"36.65\" y=\"-108.61\" font-family=\"Times,serif\" font-size=\"14.00\">C</text>\n</g>\n<!-- 0&#45;&gt;2 -->\n<g id=\"edge6\" class=\"edge\">\n<title>0&#45;&gt;2</title>\n<path fill=\"none\" stroke=\"black\" d=\"M20.28,-52.65C23.38,-63.95 27.61,-79.35 30.99,-91.67\"/>\n<polygon fill=\"black\" stroke=\"black\" points=\"29.37,-92.38 32.38,-96.74 32.74,-91.46 29.37,-92.38\"/>\n<text text-anchor=\"middle\" x=\"22.13\" y=\"-75.96\" font-family=\"Times,serif\" font-size=\"14.00\">3</text>\n</g>\n<!-- 3 -->\n<g id=\"node4\" class=\"node\">\n<title>3</title>\n<ellipse fill=\"white\" stroke=\"black\" cx=\"111.67\" cy=\"-91.15\" rx=\"16\" ry=\"16\"/>\n<text text-anchor=\"middle\" x=\"111.67\" y=\"-87.45\" font-family=\"Times,serif\" font-size=\"14.00\">D</text>\n</g>\n<!-- 1&#45;&gt;3 -->\n<g id=\"edge2\" class=\"edge\">\n<title>1&#45;&gt;3</title>\n<path fill=\"none\" stroke=\"black\" d=\"M95.34,-31.57C98.43,-42.86 102.65,-58.23 106.02,-70.53\"/>\n<polygon fill=\"black\" stroke=\"black\" points=\"104.4,-71.24 107.41,-75.6 107.77,-70.31 104.4,-71.24\"/>\n<text text-anchor=\"middle\" x=\"97.18\" y=\"-54.85\" font-family=\"Times,serif\" font-size=\"14.00\">1</text>\n</g>\n<!-- 4 -->\n<g id=\"node5\" class=\"node\">\n<title>4</title>\n<ellipse fill=\"white\" stroke=\"black\" cx=\"90.78\" cy=\"-159.97\" rx=\"16\" ry=\"16\"/>\n<text text-anchor=\"middle\" x=\"90.78\" y=\"-156.27\" font-family=\"Times,serif\" font-size=\"14.00\">E</text>\n</g>\n<!-- 2&#45;&gt;4 -->\n<g id=\"edge5\" class=\"edge\">\n<title>2&#45;&gt;4</title>\n<path fill=\"none\" stroke=\"black\" d=\"M48.67,-122.89C56.27,-129.59 66.19,-138.32 74.49,-145.64\"/>\n<polygon fill=\"black\" stroke=\"black\" points=\"73.51,-147.11 78.42,-149.1 75.83,-144.48 73.51,-147.11\"/>\n<text text-anchor=\"middle\" x=\"58.08\" y=\"-138.06\" font-family=\"Times,serif\" font-size=\"14.00\">2</text>\n</g>\n<!-- 3&#45;&gt;2 -->\n<g id=\"edge3\" class=\"edge\">\n<title>3&#45;&gt;2</title>\n<path fill=\"none\" stroke=\"black\" d=\"M96.13,-95.53C84.86,-98.71 69.52,-103.04 57.23,-106.51\"/>\n<polygon fill=\"black\" stroke=\"black\" points=\"56.51,-104.89 52.18,-107.93 57.46,-108.26 56.51,-104.89\"/>\n<text text-anchor=\"middle\" x=\"73.18\" y=\"-104.82\" font-family=\"Times,serif\" font-size=\"14.00\">2</text>\n</g>\n<!-- 3&#45;&gt;4 -->\n<g id=\"edge4\" class=\"edge\">\n<title>3&#45;&gt;4</title>\n<path fill=\"none\" stroke=\"black\" d=\"M106.93,-106.77C103.99,-116.45 100.18,-128.99 97,-139.46\"/>\n<polygon fill=\"black\" stroke=\"black\" points=\"95.28,-139.13 95.5,-144.42 98.63,-140.14 95.28,-139.13\"/>\n<text text-anchor=\"middle\" x=\"98.47\" y=\"-126.91\" font-family=\"Times,serif\" font-size=\"14.00\">5</text>\n</g>\n</g>\n</svg>\n",
      "text/plain": [
       "<graphviz.graphs.Digraph at 0x7fe03009e9d0>"
      ]
     },
     "execution_count": 118,
     "metadata": {},
     "output_type": "execute_result"
    }
   ],
   "source": [
    "explo.view()"
   ]
  },
  {
   "cell_type": "code",
   "execution_count": 119,
   "id": "afc14d77",
   "metadata": {},
   "outputs": [
    {
     "data": {
      "text/plain": [
       "False"
      ]
     },
     "execution_count": 119,
     "metadata": {},
     "output_type": "execute_result"
    }
   ],
   "source": [
    "explo.solved"
   ]
  },
  {
   "cell_type": "code",
   "execution_count": 120,
   "id": "03c4f638",
   "metadata": {},
   "outputs": [
    {
     "data": {
      "image/svg+xml": "<?xml version=\"1.0\" encoding=\"UTF-8\" standalone=\"no\"?>\n<!DOCTYPE svg PUBLIC \"-//W3C//DTD SVG 1.1//EN\"\n \"http://www.w3.org/Graphics/SVG/1.1/DTD/svg11.dtd\">\n<!-- Generated by graphviz version 2.50.0 (20211204.2007)\n -->\n<!-- Pages: 1 -->\n<svg width=\"136pt\" height=\"184pt\"\n viewBox=\"0.00 0.00 135.67 183.97\" xmlns=\"http://www.w3.org/2000/svg\" xmlns:xlink=\"http://www.w3.org/1999/xlink\">\n<g id=\"graph0\" class=\"graph\" transform=\"scale(1 1) rotate(0) translate(4 179.97)\">\n<polygon fill=\"white\" stroke=\"transparent\" points=\"-4,4 -4,-179.97 131.67,-179.97 131.67,4 -4,4\"/>\n<!-- 0 -->\n<g id=\"node1\" class=\"node\">\n<title>0</title>\n<ellipse fill=\"lightgreen\" stroke=\"black\" cx=\"16\" cy=\"-37.06\" rx=\"16\" ry=\"16\"/>\n<text text-anchor=\"middle\" x=\"16\" y=\"-33.36\" font-family=\"Times,serif\" font-size=\"14.00\">A</text>\n</g>\n<!-- 1 -->\n<g id=\"node2\" class=\"node\">\n<title>1</title>\n<ellipse fill=\"white\" stroke=\"black\" cx=\"91.07\" cy=\"-16\" rx=\"16\" ry=\"16\"/>\n<text text-anchor=\"middle\" x=\"91.07\" y=\"-12.3\" font-family=\"Times,serif\" font-size=\"14.00\">B</text>\n</g>\n<!-- 0&#45;&gt;1 -->\n<g id=\"edge1\" class=\"edge\">\n<title>0&#45;&gt;1</title>\n<path fill=\"none\" stroke=\"black\" d=\"M31.55,-32.69C42.83,-29.53 58.19,-25.22 70.48,-21.78\"/>\n<polygon fill=\"black\" stroke=\"black\" points=\"71.19,-23.39 75.54,-20.36 70.25,-20.02 71.19,-23.39\"/>\n<text text-anchor=\"middle\" x=\"47.52\" y=\"-31.03\" font-family=\"Times,serif\" font-size=\"14.00\">1</text>\n</g>\n<!-- 2 -->\n<g id=\"node3\" class=\"node\">\n<title>2</title>\n<ellipse fill=\"white\" stroke=\"black\" cx=\"36.65\" cy=\"-112.31\" rx=\"16\" ry=\"16\"/>\n<text text-anchor=\"middle\" x=\"36.65\" y=\"-108.61\" font-family=\"Times,serif\" font-size=\"14.00\">C</text>\n</g>\n<!-- 0&#45;&gt;2 -->\n<g id=\"edge6\" class=\"edge\">\n<title>0&#45;&gt;2</title>\n<path fill=\"none\" stroke=\"black\" d=\"M20.28,-52.65C23.38,-63.95 27.61,-79.35 30.99,-91.67\"/>\n<polygon fill=\"black\" stroke=\"black\" points=\"29.37,-92.38 32.38,-96.74 32.74,-91.46 29.37,-92.38\"/>\n<text text-anchor=\"middle\" x=\"22.13\" y=\"-75.96\" font-family=\"Times,serif\" font-size=\"14.00\">3</text>\n</g>\n<!-- 3 -->\n<g id=\"node4\" class=\"node\">\n<title>3</title>\n<ellipse fill=\"white\" stroke=\"black\" cx=\"111.67\" cy=\"-91.15\" rx=\"16\" ry=\"16\"/>\n<text text-anchor=\"middle\" x=\"111.67\" y=\"-87.45\" font-family=\"Times,serif\" font-size=\"14.00\">D</text>\n</g>\n<!-- 1&#45;&gt;3 -->\n<g id=\"edge2\" class=\"edge\">\n<title>1&#45;&gt;3</title>\n<path fill=\"none\" stroke=\"black\" d=\"M95.34,-31.57C98.43,-42.86 102.65,-58.23 106.02,-70.53\"/>\n<polygon fill=\"black\" stroke=\"black\" points=\"104.4,-71.24 107.41,-75.6 107.77,-70.31 104.4,-71.24\"/>\n<text text-anchor=\"middle\" x=\"97.18\" y=\"-54.85\" font-family=\"Times,serif\" font-size=\"14.00\">1</text>\n</g>\n<!-- 4 -->\n<g id=\"node5\" class=\"node\">\n<title>4</title>\n<ellipse fill=\"white\" stroke=\"black\" cx=\"90.78\" cy=\"-159.97\" rx=\"16\" ry=\"16\"/>\n<text text-anchor=\"middle\" x=\"90.78\" y=\"-156.27\" font-family=\"Times,serif\" font-size=\"14.00\">E</text>\n</g>\n<!-- 2&#45;&gt;4 -->\n<g id=\"edge5\" class=\"edge\">\n<title>2&#45;&gt;4</title>\n<path fill=\"none\" stroke=\"black\" d=\"M48.67,-122.89C56.27,-129.59 66.19,-138.32 74.49,-145.64\"/>\n<polygon fill=\"black\" stroke=\"black\" points=\"73.51,-147.11 78.42,-149.1 75.83,-144.48 73.51,-147.11\"/>\n<text text-anchor=\"middle\" x=\"58.08\" y=\"-138.06\" font-family=\"Times,serif\" font-size=\"14.00\">2</text>\n</g>\n<!-- 3&#45;&gt;2 -->\n<g id=\"edge3\" class=\"edge\">\n<title>3&#45;&gt;2</title>\n<path fill=\"none\" stroke=\"black\" d=\"M96.13,-95.53C84.86,-98.71 69.52,-103.04 57.23,-106.51\"/>\n<polygon fill=\"black\" stroke=\"black\" points=\"56.51,-104.89 52.18,-107.93 57.46,-108.26 56.51,-104.89\"/>\n<text text-anchor=\"middle\" x=\"73.18\" y=\"-104.82\" font-family=\"Times,serif\" font-size=\"14.00\">2</text>\n</g>\n<!-- 3&#45;&gt;4 -->\n<g id=\"edge4\" class=\"edge\">\n<title>3&#45;&gt;4</title>\n<path fill=\"none\" stroke=\"black\" d=\"M106.93,-106.77C103.99,-116.45 100.18,-128.99 97,-139.46\"/>\n<polygon fill=\"black\" stroke=\"black\" points=\"95.28,-139.13 95.5,-144.42 98.63,-140.14 95.28,-139.13\"/>\n<text text-anchor=\"middle\" x=\"98.47\" y=\"-126.91\" font-family=\"Times,serif\" font-size=\"14.00\">5</text>\n</g>\n</g>\n</svg>\n",
      "text/plain": [
       "<graphviz.graphs.Digraph at 0x7fe03009e9d0>"
      ]
     },
     "execution_count": 120,
     "metadata": {},
     "output_type": "execute_result"
    }
   ],
   "source": [
    "explo.solve()"
   ]
  },
  {
   "cell_type": "code",
   "execution_count": 121,
   "id": "49671711",
   "metadata": {},
   "outputs": [
    {
     "data": {
      "text/plain": [
       "0"
      ]
     },
     "execution_count": 121,
     "metadata": {},
     "output_type": "execute_result"
    }
   ],
   "source": [
    "explo.distance(0)"
   ]
  },
  {
   "cell_type": "code",
   "execution_count": 122,
   "id": "a29458df",
   "metadata": {
    "scrolled": true
   },
   "outputs": [
    {
     "name": "stdout",
     "output_type": "stream",
     "text": [
      "From[0] Pos[A] to[1] : => : from_pos[0] + next_cost[1] = 1\n",
      "From[0] Pos[A] to[2] : => : from_pos[0] + next_cost[3] = 3\n",
      "{0: 0, 1: 1, 2: 3, 3: inf, 4: inf}\n"
     ]
    },
    {
     "data": {
      "image/svg+xml": "<?xml version=\"1.0\" encoding=\"UTF-8\" standalone=\"no\"?>\n<!DOCTYPE svg PUBLIC \"-//W3C//DTD SVG 1.1//EN\"\n \"http://www.w3.org/Graphics/SVG/1.1/DTD/svg11.dtd\">\n<!-- Generated by graphviz version 2.50.0 (20211204.2007)\n -->\n<!-- Pages: 1 -->\n<svg width=\"136pt\" height=\"184pt\"\n viewBox=\"0.00 0.00 135.67 183.97\" xmlns=\"http://www.w3.org/2000/svg\" xmlns:xlink=\"http://www.w3.org/1999/xlink\">\n<g id=\"graph0\" class=\"graph\" transform=\"scale(1 1) rotate(0) translate(4 179.97)\">\n<polygon fill=\"white\" stroke=\"transparent\" points=\"-4,4 -4,-179.97 131.67,-179.97 131.67,4 -4,4\"/>\n<!-- 0 -->\n<g id=\"node1\" class=\"node\">\n<title>0</title>\n<ellipse fill=\"lightgreen\" stroke=\"black\" cx=\"16\" cy=\"-37.06\" rx=\"16\" ry=\"16\"/>\n<text text-anchor=\"middle\" x=\"16\" y=\"-33.36\" font-family=\"Times,serif\" font-size=\"14.00\">A</text>\n</g>\n<!-- 1 -->\n<g id=\"node2\" class=\"node\">\n<title>1</title>\n<ellipse fill=\"white\" stroke=\"black\" cx=\"91.07\" cy=\"-16\" rx=\"16\" ry=\"16\"/>\n<text text-anchor=\"middle\" x=\"91.07\" y=\"-12.3\" font-family=\"Times,serif\" font-size=\"14.00\">A1B</text>\n</g>\n<!-- 0&#45;&gt;1 -->\n<g id=\"edge1\" class=\"edge\">\n<title>0&#45;&gt;1</title>\n<path fill=\"none\" stroke=\"black\" d=\"M31.55,-32.69C42.83,-29.53 58.19,-25.22 70.48,-21.78\"/>\n<polygon fill=\"black\" stroke=\"black\" points=\"71.19,-23.39 75.54,-20.36 70.25,-20.02 71.19,-23.39\"/>\n<text text-anchor=\"middle\" x=\"47.52\" y=\"-31.03\" font-family=\"Times,serif\" font-size=\"14.00\">1</text>\n</g>\n<!-- 2 -->\n<g id=\"node3\" class=\"node\">\n<title>2</title>\n<ellipse fill=\"white\" stroke=\"black\" cx=\"36.65\" cy=\"-112.31\" rx=\"16\" ry=\"16\"/>\n<text text-anchor=\"middle\" x=\"36.65\" y=\"-108.61\" font-family=\"Times,serif\" font-size=\"14.00\">A3C</text>\n</g>\n<!-- 0&#45;&gt;2 -->\n<g id=\"edge6\" class=\"edge\">\n<title>0&#45;&gt;2</title>\n<path fill=\"none\" stroke=\"black\" d=\"M20.28,-52.65C23.38,-63.95 27.61,-79.35 30.99,-91.67\"/>\n<polygon fill=\"black\" stroke=\"black\" points=\"29.37,-92.38 32.38,-96.74 32.74,-91.46 29.37,-92.38\"/>\n<text text-anchor=\"middle\" x=\"22.13\" y=\"-75.96\" font-family=\"Times,serif\" font-size=\"14.00\">3</text>\n</g>\n<!-- 3 -->\n<g id=\"node4\" class=\"node\">\n<title>3</title>\n<ellipse fill=\"white\" stroke=\"black\" cx=\"111.67\" cy=\"-91.15\" rx=\"16\" ry=\"16\"/>\n<text text-anchor=\"middle\" x=\"111.67\" y=\"-87.45\" font-family=\"Times,serif\" font-size=\"14.00\">D</text>\n</g>\n<!-- 1&#45;&gt;3 -->\n<g id=\"edge2\" class=\"edge\">\n<title>1&#45;&gt;3</title>\n<path fill=\"none\" stroke=\"black\" d=\"M95.34,-31.57C98.43,-42.86 102.65,-58.23 106.02,-70.53\"/>\n<polygon fill=\"black\" stroke=\"black\" points=\"104.4,-71.24 107.41,-75.6 107.77,-70.31 104.4,-71.24\"/>\n<text text-anchor=\"middle\" x=\"97.18\" y=\"-54.85\" font-family=\"Times,serif\" font-size=\"14.00\">1</text>\n</g>\n<!-- 4 -->\n<g id=\"node5\" class=\"node\">\n<title>4</title>\n<ellipse fill=\"white\" stroke=\"black\" cx=\"90.78\" cy=\"-159.97\" rx=\"16\" ry=\"16\"/>\n<text text-anchor=\"middle\" x=\"90.78\" y=\"-156.27\" font-family=\"Times,serif\" font-size=\"14.00\">E</text>\n</g>\n<!-- 2&#45;&gt;4 -->\n<g id=\"edge5\" class=\"edge\">\n<title>2&#45;&gt;4</title>\n<path fill=\"none\" stroke=\"black\" d=\"M48.67,-122.89C56.27,-129.59 66.19,-138.32 74.49,-145.64\"/>\n<polygon fill=\"black\" stroke=\"black\" points=\"73.51,-147.11 78.42,-149.1 75.83,-144.48 73.51,-147.11\"/>\n<text text-anchor=\"middle\" x=\"58.08\" y=\"-138.06\" font-family=\"Times,serif\" font-size=\"14.00\">2</text>\n</g>\n<!-- 3&#45;&gt;2 -->\n<g id=\"edge3\" class=\"edge\">\n<title>3&#45;&gt;2</title>\n<path fill=\"none\" stroke=\"black\" d=\"M96.13,-95.53C84.86,-98.71 69.52,-103.04 57.23,-106.51\"/>\n<polygon fill=\"black\" stroke=\"black\" points=\"56.51,-104.89 52.18,-107.93 57.46,-108.26 56.51,-104.89\"/>\n<text text-anchor=\"middle\" x=\"73.18\" y=\"-104.82\" font-family=\"Times,serif\" font-size=\"14.00\">2</text>\n</g>\n<!-- 3&#45;&gt;4 -->\n<g id=\"edge4\" class=\"edge\">\n<title>3&#45;&gt;4</title>\n<path fill=\"none\" stroke=\"black\" d=\"M106.93,-106.77C103.99,-116.45 100.18,-128.99 97,-139.46\"/>\n<polygon fill=\"black\" stroke=\"black\" points=\"95.28,-139.13 95.5,-144.42 98.63,-140.14 95.28,-139.13\"/>\n<text text-anchor=\"middle\" x=\"98.47\" y=\"-126.91\" font-family=\"Times,serif\" font-size=\"14.00\">5</text>\n</g>\n</g>\n</svg>\n",
      "text/plain": [
       "<graphviz.graphs.Digraph at 0x7fe03009e9d0>"
      ]
     },
     "execution_count": 122,
     "metadata": {},
     "output_type": "execute_result"
    }
   ],
   "source": [
    "explo.next()"
   ]
  },
  {
   "cell_type": "code",
   "execution_count": 123,
   "id": "d9ace39b",
   "metadata": {},
   "outputs": [
    {
     "name": "stdout",
     "output_type": "stream",
     "text": [
      "From[0] Pos[B] to[3] : => : from_pos[1] + next_cost[1] = 2\n",
      "{0: 0, 1: 1, 2: 3, 3: 2, 4: inf}\n"
     ]
    },
    {
     "data": {
      "image/svg+xml": "<?xml version=\"1.0\" encoding=\"UTF-8\" standalone=\"no\"?>\n<!DOCTYPE svg PUBLIC \"-//W3C//DTD SVG 1.1//EN\"\n \"http://www.w3.org/Graphics/SVG/1.1/DTD/svg11.dtd\">\n<!-- Generated by graphviz version 2.50.0 (20211204.2007)\n -->\n<!-- Pages: 1 -->\n<svg width=\"136pt\" height=\"184pt\"\n viewBox=\"0.00 0.00 135.67 183.97\" xmlns=\"http://www.w3.org/2000/svg\" xmlns:xlink=\"http://www.w3.org/1999/xlink\">\n<g id=\"graph0\" class=\"graph\" transform=\"scale(1 1) rotate(0) translate(4 179.97)\">\n<polygon fill=\"white\" stroke=\"transparent\" points=\"-4,4 -4,-179.97 131.67,-179.97 131.67,4 -4,4\"/>\n<!-- 0 -->\n<g id=\"node1\" class=\"node\">\n<title>0</title>\n<ellipse fill=\"#ffb5c5\" stroke=\"black\" cx=\"16\" cy=\"-37.06\" rx=\"16\" ry=\"16\"/>\n<text text-anchor=\"middle\" x=\"16\" y=\"-33.36\" font-family=\"Times,serif\" font-size=\"14.00\">A</text>\n</g>\n<!-- 1 -->\n<g id=\"node2\" class=\"node\">\n<title>1</title>\n<ellipse fill=\"lightgreen\" stroke=\"black\" cx=\"91.07\" cy=\"-16\" rx=\"16\" ry=\"16\"/>\n<text text-anchor=\"middle\" x=\"91.07\" y=\"-12.3\" font-family=\"Times,serif\" font-size=\"14.00\">A1B</text>\n</g>\n<!-- 0&#45;&gt;1 -->\n<g id=\"edge1\" class=\"edge\">\n<title>0&#45;&gt;1</title>\n<path fill=\"none\" stroke=\"black\" d=\"M31.55,-32.69C42.83,-29.53 58.19,-25.22 70.48,-21.78\"/>\n<polygon fill=\"black\" stroke=\"black\" points=\"71.19,-23.39 75.54,-20.36 70.25,-20.02 71.19,-23.39\"/>\n<text text-anchor=\"middle\" x=\"47.52\" y=\"-31.03\" font-family=\"Times,serif\" font-size=\"14.00\">1</text>\n</g>\n<!-- 2 -->\n<g id=\"node3\" class=\"node\">\n<title>2</title>\n<ellipse fill=\"white\" stroke=\"black\" cx=\"36.65\" cy=\"-112.31\" rx=\"16\" ry=\"16\"/>\n<text text-anchor=\"middle\" x=\"36.65\" y=\"-108.61\" font-family=\"Times,serif\" font-size=\"14.00\">A3C</text>\n</g>\n<!-- 0&#45;&gt;2 -->\n<g id=\"edge6\" class=\"edge\">\n<title>0&#45;&gt;2</title>\n<path fill=\"none\" stroke=\"black\" d=\"M20.28,-52.65C23.38,-63.95 27.61,-79.35 30.99,-91.67\"/>\n<polygon fill=\"black\" stroke=\"black\" points=\"29.37,-92.38 32.38,-96.74 32.74,-91.46 29.37,-92.38\"/>\n<text text-anchor=\"middle\" x=\"22.13\" y=\"-75.96\" font-family=\"Times,serif\" font-size=\"14.00\">3</text>\n</g>\n<!-- 3 -->\n<g id=\"node4\" class=\"node\">\n<title>3</title>\n<ellipse fill=\"white\" stroke=\"black\" cx=\"111.67\" cy=\"-91.15\" rx=\"16\" ry=\"16\"/>\n<text text-anchor=\"middle\" x=\"111.67\" y=\"-87.45\" font-family=\"Times,serif\" font-size=\"14.00\">B2D</text>\n</g>\n<!-- 1&#45;&gt;3 -->\n<g id=\"edge2\" class=\"edge\">\n<title>1&#45;&gt;3</title>\n<path fill=\"none\" stroke=\"black\" d=\"M95.34,-31.57C98.43,-42.86 102.65,-58.23 106.02,-70.53\"/>\n<polygon fill=\"black\" stroke=\"black\" points=\"104.4,-71.24 107.41,-75.6 107.77,-70.31 104.4,-71.24\"/>\n<text text-anchor=\"middle\" x=\"97.18\" y=\"-54.85\" font-family=\"Times,serif\" font-size=\"14.00\">1</text>\n</g>\n<!-- 4 -->\n<g id=\"node5\" class=\"node\">\n<title>4</title>\n<ellipse fill=\"white\" stroke=\"black\" cx=\"90.78\" cy=\"-159.97\" rx=\"16\" ry=\"16\"/>\n<text text-anchor=\"middle\" x=\"90.78\" y=\"-156.27\" font-family=\"Times,serif\" font-size=\"14.00\">E</text>\n</g>\n<!-- 2&#45;&gt;4 -->\n<g id=\"edge5\" class=\"edge\">\n<title>2&#45;&gt;4</title>\n<path fill=\"none\" stroke=\"black\" d=\"M48.67,-122.89C56.27,-129.59 66.19,-138.32 74.49,-145.64\"/>\n<polygon fill=\"black\" stroke=\"black\" points=\"73.51,-147.11 78.42,-149.1 75.83,-144.48 73.51,-147.11\"/>\n<text text-anchor=\"middle\" x=\"58.08\" y=\"-138.06\" font-family=\"Times,serif\" font-size=\"14.00\">2</text>\n</g>\n<!-- 3&#45;&gt;2 -->\n<g id=\"edge3\" class=\"edge\">\n<title>3&#45;&gt;2</title>\n<path fill=\"none\" stroke=\"black\" d=\"M96.13,-95.53C84.86,-98.71 69.52,-103.04 57.23,-106.51\"/>\n<polygon fill=\"black\" stroke=\"black\" points=\"56.51,-104.89 52.18,-107.93 57.46,-108.26 56.51,-104.89\"/>\n<text text-anchor=\"middle\" x=\"73.18\" y=\"-104.82\" font-family=\"Times,serif\" font-size=\"14.00\">2</text>\n</g>\n<!-- 3&#45;&gt;4 -->\n<g id=\"edge4\" class=\"edge\">\n<title>3&#45;&gt;4</title>\n<path fill=\"none\" stroke=\"black\" d=\"M106.93,-106.77C103.99,-116.45 100.18,-128.99 97,-139.46\"/>\n<polygon fill=\"black\" stroke=\"black\" points=\"95.28,-139.13 95.5,-144.42 98.63,-140.14 95.28,-139.13\"/>\n<text text-anchor=\"middle\" x=\"98.47\" y=\"-126.91\" font-family=\"Times,serif\" font-size=\"14.00\">5</text>\n</g>\n</g>\n</svg>\n",
      "text/plain": [
       "<graphviz.graphs.Digraph at 0x7fe03009e9d0>"
      ]
     },
     "execution_count": 123,
     "metadata": {},
     "output_type": "execute_result"
    }
   ],
   "source": [
    "explo.next()"
   ]
  },
  {
   "cell_type": "code",
   "execution_count": 124,
   "id": "01237872",
   "metadata": {
    "scrolled": true
   },
   "outputs": [
    {
     "data": {
      "text/plain": [
       "5"
      ]
     },
     "execution_count": 124,
     "metadata": {},
     "output_type": "execute_result"
    }
   ],
   "source": [
    "#explo.next()\n",
    "explo.cost_between(3,4)"
   ]
  },
  {
   "cell_type": "code",
   "execution_count": 125,
   "id": "172129b8",
   "metadata": {},
   "outputs": [
    {
     "name": "stdout",
     "output_type": "stream",
     "text": [
      "From[0] Pos[D] to[2] : => : from_pos[2] + next_cost[2] = 4\n",
      "From[0] Pos[D] to[4] : => : from_pos[2] + next_cost[5] = 7\n",
      "{0: 0, 1: 1, 2: 3, 3: 2, 4: 7}\n"
     ]
    },
    {
     "data": {
      "image/svg+xml": "<?xml version=\"1.0\" encoding=\"UTF-8\" standalone=\"no\"?>\n<!DOCTYPE svg PUBLIC \"-//W3C//DTD SVG 1.1//EN\"\n \"http://www.w3.org/Graphics/SVG/1.1/DTD/svg11.dtd\">\n<!-- Generated by graphviz version 2.50.0 (20211204.2007)\n -->\n<!-- Pages: 1 -->\n<svg width=\"136pt\" height=\"184pt\"\n viewBox=\"0.00 0.00 135.67 183.97\" xmlns=\"http://www.w3.org/2000/svg\" xmlns:xlink=\"http://www.w3.org/1999/xlink\">\n<g id=\"graph0\" class=\"graph\" transform=\"scale(1 1) rotate(0) translate(4 179.97)\">\n<polygon fill=\"white\" stroke=\"transparent\" points=\"-4,4 -4,-179.97 131.67,-179.97 131.67,4 -4,4\"/>\n<!-- 0 -->\n<g id=\"node1\" class=\"node\">\n<title>0</title>\n<ellipse fill=\"#ffb5c5\" stroke=\"black\" cx=\"16\" cy=\"-37.06\" rx=\"16\" ry=\"16\"/>\n<text text-anchor=\"middle\" x=\"16\" y=\"-33.36\" font-family=\"Times,serif\" font-size=\"14.00\">A</text>\n</g>\n<!-- 1 -->\n<g id=\"node2\" class=\"node\">\n<title>1</title>\n<ellipse fill=\"#ffb5c5\" stroke=\"black\" cx=\"91.07\" cy=\"-16\" rx=\"16\" ry=\"16\"/>\n<text text-anchor=\"middle\" x=\"91.07\" y=\"-12.3\" font-family=\"Times,serif\" font-size=\"14.00\">A1B</text>\n</g>\n<!-- 0&#45;&gt;1 -->\n<g id=\"edge1\" class=\"edge\">\n<title>0&#45;&gt;1</title>\n<path fill=\"none\" stroke=\"black\" d=\"M31.55,-32.69C42.83,-29.53 58.19,-25.22 70.48,-21.78\"/>\n<polygon fill=\"black\" stroke=\"black\" points=\"71.19,-23.39 75.54,-20.36 70.25,-20.02 71.19,-23.39\"/>\n<text text-anchor=\"middle\" x=\"47.52\" y=\"-31.03\" font-family=\"Times,serif\" font-size=\"14.00\">1</text>\n</g>\n<!-- 2 -->\n<g id=\"node3\" class=\"node\">\n<title>2</title>\n<ellipse fill=\"white\" stroke=\"black\" cx=\"36.65\" cy=\"-112.31\" rx=\"16\" ry=\"16\"/>\n<text text-anchor=\"middle\" x=\"36.65\" y=\"-108.61\" font-family=\"Times,serif\" font-size=\"14.00\">A3C</text>\n</g>\n<!-- 0&#45;&gt;2 -->\n<g id=\"edge6\" class=\"edge\">\n<title>0&#45;&gt;2</title>\n<path fill=\"none\" stroke=\"black\" d=\"M20.28,-52.65C23.38,-63.95 27.61,-79.35 30.99,-91.67\"/>\n<polygon fill=\"black\" stroke=\"black\" points=\"29.37,-92.38 32.38,-96.74 32.74,-91.46 29.37,-92.38\"/>\n<text text-anchor=\"middle\" x=\"22.13\" y=\"-75.96\" font-family=\"Times,serif\" font-size=\"14.00\">3</text>\n</g>\n<!-- 3 -->\n<g id=\"node4\" class=\"node\">\n<title>3</title>\n<ellipse fill=\"lightgreen\" stroke=\"black\" cx=\"111.67\" cy=\"-91.15\" rx=\"16\" ry=\"16\"/>\n<text text-anchor=\"middle\" x=\"111.67\" y=\"-87.45\" font-family=\"Times,serif\" font-size=\"14.00\">B2D</text>\n</g>\n<!-- 1&#45;&gt;3 -->\n<g id=\"edge2\" class=\"edge\">\n<title>1&#45;&gt;3</title>\n<path fill=\"none\" stroke=\"black\" d=\"M95.34,-31.57C98.43,-42.86 102.65,-58.23 106.02,-70.53\"/>\n<polygon fill=\"black\" stroke=\"black\" points=\"104.4,-71.24 107.41,-75.6 107.77,-70.31 104.4,-71.24\"/>\n<text text-anchor=\"middle\" x=\"97.18\" y=\"-54.85\" font-family=\"Times,serif\" font-size=\"14.00\">1</text>\n</g>\n<!-- 4 -->\n<g id=\"node5\" class=\"node\">\n<title>4</title>\n<ellipse fill=\"white\" stroke=\"black\" cx=\"90.78\" cy=\"-159.97\" rx=\"16\" ry=\"16\"/>\n<text text-anchor=\"middle\" x=\"90.78\" y=\"-156.27\" font-family=\"Times,serif\" font-size=\"14.00\">D7E</text>\n</g>\n<!-- 2&#45;&gt;4 -->\n<g id=\"edge5\" class=\"edge\">\n<title>2&#45;&gt;4</title>\n<path fill=\"none\" stroke=\"black\" d=\"M48.67,-122.89C56.27,-129.59 66.19,-138.32 74.49,-145.64\"/>\n<polygon fill=\"black\" stroke=\"black\" points=\"73.51,-147.11 78.42,-149.1 75.83,-144.48 73.51,-147.11\"/>\n<text text-anchor=\"middle\" x=\"58.08\" y=\"-138.06\" font-family=\"Times,serif\" font-size=\"14.00\">2</text>\n</g>\n<!-- 3&#45;&gt;2 -->\n<g id=\"edge3\" class=\"edge\">\n<title>3&#45;&gt;2</title>\n<path fill=\"none\" stroke=\"black\" d=\"M96.13,-95.53C84.86,-98.71 69.52,-103.04 57.23,-106.51\"/>\n<polygon fill=\"black\" stroke=\"black\" points=\"56.51,-104.89 52.18,-107.93 57.46,-108.26 56.51,-104.89\"/>\n<text text-anchor=\"middle\" x=\"73.18\" y=\"-104.82\" font-family=\"Times,serif\" font-size=\"14.00\">2</text>\n</g>\n<!-- 3&#45;&gt;4 -->\n<g id=\"edge4\" class=\"edge\">\n<title>3&#45;&gt;4</title>\n<path fill=\"none\" stroke=\"black\" d=\"M106.93,-106.77C103.99,-116.45 100.18,-128.99 97,-139.46\"/>\n<polygon fill=\"black\" stroke=\"black\" points=\"95.28,-139.13 95.5,-144.42 98.63,-140.14 95.28,-139.13\"/>\n<text text-anchor=\"middle\" x=\"98.47\" y=\"-126.91\" font-family=\"Times,serif\" font-size=\"14.00\">5</text>\n</g>\n</g>\n</svg>\n",
      "text/plain": [
       "<graphviz.graphs.Digraph at 0x7fe03009e9d0>"
      ]
     },
     "execution_count": 125,
     "metadata": {},
     "output_type": "execute_result"
    }
   ],
   "source": [
    "explo.next()"
   ]
  },
  {
   "cell_type": "code",
   "execution_count": 126,
   "id": "a8d9102b",
   "metadata": {},
   "outputs": [
    {
     "name": "stdout",
     "output_type": "stream",
     "text": [
      "From[0] Pos[C] to[4] : => : from_pos[3] + next_cost[2] = 5\n",
      "{0: 0, 1: 1, 2: 3, 3: 2, 4: 5}\n"
     ]
    },
    {
     "data": {
      "image/svg+xml": "<?xml version=\"1.0\" encoding=\"UTF-8\" standalone=\"no\"?>\n<!DOCTYPE svg PUBLIC \"-//W3C//DTD SVG 1.1//EN\"\n \"http://www.w3.org/Graphics/SVG/1.1/DTD/svg11.dtd\">\n<!-- Generated by graphviz version 2.50.0 (20211204.2007)\n -->\n<!-- Pages: 1 -->\n<svg width=\"136pt\" height=\"184pt\"\n viewBox=\"0.00 0.00 135.67 183.97\" xmlns=\"http://www.w3.org/2000/svg\" xmlns:xlink=\"http://www.w3.org/1999/xlink\">\n<g id=\"graph0\" class=\"graph\" transform=\"scale(1 1) rotate(0) translate(4 179.97)\">\n<polygon fill=\"white\" stroke=\"transparent\" points=\"-4,4 -4,-179.97 131.67,-179.97 131.67,4 -4,4\"/>\n<!-- 0 -->\n<g id=\"node1\" class=\"node\">\n<title>0</title>\n<ellipse fill=\"#ffb5c5\" stroke=\"black\" cx=\"16\" cy=\"-37.06\" rx=\"16\" ry=\"16\"/>\n<text text-anchor=\"middle\" x=\"16\" y=\"-33.36\" font-family=\"Times,serif\" font-size=\"14.00\">A</text>\n</g>\n<!-- 1 -->\n<g id=\"node2\" class=\"node\">\n<title>1</title>\n<ellipse fill=\"#ffb5c5\" stroke=\"black\" cx=\"91.07\" cy=\"-16\" rx=\"16\" ry=\"16\"/>\n<text text-anchor=\"middle\" x=\"91.07\" y=\"-12.3\" font-family=\"Times,serif\" font-size=\"14.00\">A1B</text>\n</g>\n<!-- 0&#45;&gt;1 -->\n<g id=\"edge1\" class=\"edge\">\n<title>0&#45;&gt;1</title>\n<path fill=\"none\" stroke=\"black\" d=\"M31.55,-32.69C42.83,-29.53 58.19,-25.22 70.48,-21.78\"/>\n<polygon fill=\"black\" stroke=\"black\" points=\"71.19,-23.39 75.54,-20.36 70.25,-20.02 71.19,-23.39\"/>\n<text text-anchor=\"middle\" x=\"47.52\" y=\"-31.03\" font-family=\"Times,serif\" font-size=\"14.00\">1</text>\n</g>\n<!-- 2 -->\n<g id=\"node3\" class=\"node\">\n<title>2</title>\n<ellipse fill=\"lightgreen\" stroke=\"black\" cx=\"36.65\" cy=\"-112.31\" rx=\"16\" ry=\"16\"/>\n<text text-anchor=\"middle\" x=\"36.65\" y=\"-108.61\" font-family=\"Times,serif\" font-size=\"14.00\">A3C</text>\n</g>\n<!-- 0&#45;&gt;2 -->\n<g id=\"edge6\" class=\"edge\">\n<title>0&#45;&gt;2</title>\n<path fill=\"none\" stroke=\"black\" d=\"M20.28,-52.65C23.38,-63.95 27.61,-79.35 30.99,-91.67\"/>\n<polygon fill=\"black\" stroke=\"black\" points=\"29.37,-92.38 32.38,-96.74 32.74,-91.46 29.37,-92.38\"/>\n<text text-anchor=\"middle\" x=\"22.13\" y=\"-75.96\" font-family=\"Times,serif\" font-size=\"14.00\">3</text>\n</g>\n<!-- 3 -->\n<g id=\"node4\" class=\"node\">\n<title>3</title>\n<ellipse fill=\"#ffb5c5\" stroke=\"black\" cx=\"111.67\" cy=\"-91.15\" rx=\"16\" ry=\"16\"/>\n<text text-anchor=\"middle\" x=\"111.67\" y=\"-87.45\" font-family=\"Times,serif\" font-size=\"14.00\">B2D</text>\n</g>\n<!-- 1&#45;&gt;3 -->\n<g id=\"edge2\" class=\"edge\">\n<title>1&#45;&gt;3</title>\n<path fill=\"none\" stroke=\"black\" d=\"M95.34,-31.57C98.43,-42.86 102.65,-58.23 106.02,-70.53\"/>\n<polygon fill=\"black\" stroke=\"black\" points=\"104.4,-71.24 107.41,-75.6 107.77,-70.31 104.4,-71.24\"/>\n<text text-anchor=\"middle\" x=\"97.18\" y=\"-54.85\" font-family=\"Times,serif\" font-size=\"14.00\">1</text>\n</g>\n<!-- 4 -->\n<g id=\"node5\" class=\"node\">\n<title>4</title>\n<ellipse fill=\"white\" stroke=\"black\" cx=\"90.78\" cy=\"-159.97\" rx=\"16\" ry=\"16\"/>\n<text text-anchor=\"middle\" x=\"90.78\" y=\"-156.27\" font-family=\"Times,serif\" font-size=\"14.00\">C5E</text>\n</g>\n<!-- 2&#45;&gt;4 -->\n<g id=\"edge5\" class=\"edge\">\n<title>2&#45;&gt;4</title>\n<path fill=\"none\" stroke=\"black\" d=\"M48.67,-122.89C56.27,-129.59 66.19,-138.32 74.49,-145.64\"/>\n<polygon fill=\"black\" stroke=\"black\" points=\"73.51,-147.11 78.42,-149.1 75.83,-144.48 73.51,-147.11\"/>\n<text text-anchor=\"middle\" x=\"58.08\" y=\"-138.06\" font-family=\"Times,serif\" font-size=\"14.00\">2</text>\n</g>\n<!-- 3&#45;&gt;2 -->\n<g id=\"edge3\" class=\"edge\">\n<title>3&#45;&gt;2</title>\n<path fill=\"none\" stroke=\"black\" d=\"M96.13,-95.53C84.86,-98.71 69.52,-103.04 57.23,-106.51\"/>\n<polygon fill=\"black\" stroke=\"black\" points=\"56.51,-104.89 52.18,-107.93 57.46,-108.26 56.51,-104.89\"/>\n<text text-anchor=\"middle\" x=\"73.18\" y=\"-104.82\" font-family=\"Times,serif\" font-size=\"14.00\">2</text>\n</g>\n<!-- 3&#45;&gt;4 -->\n<g id=\"edge4\" class=\"edge\">\n<title>3&#45;&gt;4</title>\n<path fill=\"none\" stroke=\"black\" d=\"M106.93,-106.77C103.99,-116.45 100.18,-128.99 97,-139.46\"/>\n<polygon fill=\"black\" stroke=\"black\" points=\"95.28,-139.13 95.5,-144.42 98.63,-140.14 95.28,-139.13\"/>\n<text text-anchor=\"middle\" x=\"98.47\" y=\"-126.91\" font-family=\"Times,serif\" font-size=\"14.00\">5</text>\n</g>\n</g>\n</svg>\n",
      "text/plain": [
       "<graphviz.graphs.Digraph at 0x7fe03009e9d0>"
      ]
     },
     "execution_count": 126,
     "metadata": {},
     "output_type": "execute_result"
    }
   ],
   "source": [
    "explo.next()"
   ]
  },
  {
   "cell_type": "code",
   "execution_count": 127,
   "id": "549922b6",
   "metadata": {},
   "outputs": [
    {
     "name": "stdout",
     "output_type": "stream",
     "text": [
      "{0: 0, 1: 1, 2: 3, 3: 2, 4: 5}\n",
      "Le chemin le plus court entre 0 et 4 est le suivant : [4, 2, 0] avec une distance total de : 5\n"
     ]
    },
    {
     "data": {
      "image/svg+xml": "<?xml version=\"1.0\" encoding=\"UTF-8\" standalone=\"no\"?>\n<!DOCTYPE svg PUBLIC \"-//W3C//DTD SVG 1.1//EN\"\n \"http://www.w3.org/Graphics/SVG/1.1/DTD/svg11.dtd\">\n<!-- Generated by graphviz version 2.50.0 (20211204.2007)\n -->\n<!-- Pages: 1 -->\n<svg width=\"136pt\" height=\"184pt\"\n viewBox=\"0.00 0.00 135.67 183.97\" xmlns=\"http://www.w3.org/2000/svg\" xmlns:xlink=\"http://www.w3.org/1999/xlink\">\n<g id=\"graph0\" class=\"graph\" transform=\"scale(1 1) rotate(0) translate(4 179.97)\">\n<polygon fill=\"white\" stroke=\"transparent\" points=\"-4,4 -4,-179.97 131.67,-179.97 131.67,4 -4,4\"/>\n<!-- 0 -->\n<g id=\"node1\" class=\"node\">\n<title>0</title>\n<ellipse fill=\"#ff8247\" stroke=\"black\" cx=\"16\" cy=\"-37.06\" rx=\"16\" ry=\"16\"/>\n<text text-anchor=\"middle\" x=\"16\" y=\"-33.36\" font-family=\"Times,serif\" font-size=\"14.00\">A</text>\n</g>\n<!-- 1 -->\n<g id=\"node2\" class=\"node\">\n<title>1</title>\n<ellipse fill=\"white\" stroke=\"black\" cx=\"91.07\" cy=\"-16\" rx=\"16\" ry=\"16\"/>\n<text text-anchor=\"middle\" x=\"91.07\" y=\"-12.3\" font-family=\"Times,serif\" font-size=\"14.00\">A1B</text>\n</g>\n<!-- 0&#45;&gt;1 -->\n<g id=\"edge1\" class=\"edge\">\n<title>0&#45;&gt;1</title>\n<path fill=\"none\" stroke=\"black\" d=\"M31.55,-32.69C42.83,-29.53 58.19,-25.22 70.48,-21.78\"/>\n<polygon fill=\"black\" stroke=\"black\" points=\"71.19,-23.39 75.54,-20.36 70.25,-20.02 71.19,-23.39\"/>\n<text text-anchor=\"middle\" x=\"47.52\" y=\"-31.03\" font-family=\"Times,serif\" font-size=\"14.00\">1</text>\n</g>\n<!-- 2 -->\n<g id=\"node3\" class=\"node\">\n<title>2</title>\n<ellipse fill=\"#ffb5c5\" stroke=\"black\" cx=\"36.65\" cy=\"-112.31\" rx=\"16\" ry=\"16\"/>\n<text text-anchor=\"middle\" x=\"36.65\" y=\"-108.61\" font-family=\"Times,serif\" font-size=\"14.00\">A3C</text>\n</g>\n<!-- 0&#45;&gt;2 -->\n<g id=\"edge6\" class=\"edge\">\n<title>0&#45;&gt;2</title>\n<path fill=\"none\" stroke=\"black\" d=\"M20.28,-52.65C23.38,-63.95 27.61,-79.35 30.99,-91.67\"/>\n<polygon fill=\"black\" stroke=\"black\" points=\"29.37,-92.38 32.38,-96.74 32.74,-91.46 29.37,-92.38\"/>\n<text text-anchor=\"middle\" x=\"22.13\" y=\"-75.96\" font-family=\"Times,serif\" font-size=\"14.00\">3</text>\n</g>\n<!-- 3 -->\n<g id=\"node4\" class=\"node\">\n<title>3</title>\n<ellipse fill=\"white\" stroke=\"black\" cx=\"111.67\" cy=\"-91.15\" rx=\"16\" ry=\"16\"/>\n<text text-anchor=\"middle\" x=\"111.67\" y=\"-87.45\" font-family=\"Times,serif\" font-size=\"14.00\">B2D</text>\n</g>\n<!-- 1&#45;&gt;3 -->\n<g id=\"edge2\" class=\"edge\">\n<title>1&#45;&gt;3</title>\n<path fill=\"none\" stroke=\"black\" d=\"M95.34,-31.57C98.43,-42.86 102.65,-58.23 106.02,-70.53\"/>\n<polygon fill=\"black\" stroke=\"black\" points=\"104.4,-71.24 107.41,-75.6 107.77,-70.31 104.4,-71.24\"/>\n<text text-anchor=\"middle\" x=\"97.18\" y=\"-54.85\" font-family=\"Times,serif\" font-size=\"14.00\">1</text>\n</g>\n<!-- 4 -->\n<g id=\"node5\" class=\"node\">\n<title>4</title>\n<ellipse fill=\"lightgreen\" stroke=\"black\" cx=\"90.78\" cy=\"-159.97\" rx=\"16\" ry=\"16\"/>\n<text text-anchor=\"middle\" x=\"90.78\" y=\"-156.27\" font-family=\"Times,serif\" font-size=\"14.00\">C5E</text>\n</g>\n<!-- 2&#45;&gt;4 -->\n<g id=\"edge5\" class=\"edge\">\n<title>2&#45;&gt;4</title>\n<path fill=\"none\" stroke=\"black\" d=\"M48.67,-122.89C56.27,-129.59 66.19,-138.32 74.49,-145.64\"/>\n<polygon fill=\"black\" stroke=\"black\" points=\"73.51,-147.11 78.42,-149.1 75.83,-144.48 73.51,-147.11\"/>\n<text text-anchor=\"middle\" x=\"58.08\" y=\"-138.06\" font-family=\"Times,serif\" font-size=\"14.00\">2</text>\n</g>\n<!-- 3&#45;&gt;2 -->\n<g id=\"edge3\" class=\"edge\">\n<title>3&#45;&gt;2</title>\n<path fill=\"none\" stroke=\"black\" d=\"M96.13,-95.53C84.86,-98.71 69.52,-103.04 57.23,-106.51\"/>\n<polygon fill=\"black\" stroke=\"black\" points=\"56.51,-104.89 52.18,-107.93 57.46,-108.26 56.51,-104.89\"/>\n<text text-anchor=\"middle\" x=\"73.18\" y=\"-104.82\" font-family=\"Times,serif\" font-size=\"14.00\">2</text>\n</g>\n<!-- 3&#45;&gt;4 -->\n<g id=\"edge4\" class=\"edge\">\n<title>3&#45;&gt;4</title>\n<path fill=\"none\" stroke=\"black\" d=\"M106.93,-106.77C103.99,-116.45 100.18,-128.99 97,-139.46\"/>\n<polygon fill=\"black\" stroke=\"black\" points=\"95.28,-139.13 95.5,-144.42 98.63,-140.14 95.28,-139.13\"/>\n<text text-anchor=\"middle\" x=\"98.47\" y=\"-126.91\" font-family=\"Times,serif\" font-size=\"14.00\">5</text>\n</g>\n</g>\n</svg>\n",
      "text/plain": [
       "<graphviz.graphs.Digraph at 0x7fe03009e9d0>"
      ]
     },
     "execution_count": 127,
     "metadata": {},
     "output_type": "execute_result"
    }
   ],
   "source": [
    "explo.next()"
   ]
  },
  {
   "cell_type": "code",
   "execution_count": 128,
   "id": "d04017a0",
   "metadata": {},
   "outputs": [
    {
     "name": "stdout",
     "output_type": "stream",
     "text": [
      "{0: 0, 1: inf, 2: inf, 3: inf, 4: inf}\n"
     ]
    }
   ],
   "source": [
    "explo.reset_dijkstra()"
   ]
  },
  {
   "cell_type": "code",
   "execution_count": 129,
   "id": "ea989496",
   "metadata": {},
   "outputs": [
    {
     "data": {
      "image/svg+xml": "<?xml version=\"1.0\" encoding=\"UTF-8\" standalone=\"no\"?>\n<!DOCTYPE svg PUBLIC \"-//W3C//DTD SVG 1.1//EN\"\n \"http://www.w3.org/Graphics/SVG/1.1/DTD/svg11.dtd\">\n<!-- Generated by graphviz version 2.50.0 (20211204.2007)\n -->\n<!-- Pages: 1 -->\n<svg width=\"136pt\" height=\"184pt\"\n viewBox=\"0.00 0.00 135.67 183.97\" xmlns=\"http://www.w3.org/2000/svg\" xmlns:xlink=\"http://www.w3.org/1999/xlink\">\n<g id=\"graph0\" class=\"graph\" transform=\"scale(1 1) rotate(0) translate(4 179.97)\">\n<polygon fill=\"white\" stroke=\"transparent\" points=\"-4,4 -4,-179.97 131.67,-179.97 131.67,4 -4,4\"/>\n<!-- 0 -->\n<g id=\"node1\" class=\"node\">\n<title>0</title>\n<ellipse fill=\"lightgreen\" stroke=\"black\" cx=\"16\" cy=\"-37.06\" rx=\"16\" ry=\"16\"/>\n<text text-anchor=\"middle\" x=\"16\" y=\"-33.36\" font-family=\"Times,serif\" font-size=\"14.00\">A</text>\n</g>\n<!-- 1 -->\n<g id=\"node2\" class=\"node\">\n<title>1</title>\n<ellipse fill=\"white\" stroke=\"black\" cx=\"91.07\" cy=\"-16\" rx=\"16\" ry=\"16\"/>\n<text text-anchor=\"middle\" x=\"91.07\" y=\"-12.3\" font-family=\"Times,serif\" font-size=\"14.00\">B</text>\n</g>\n<!-- 0&#45;&gt;1 -->\n<g id=\"edge1\" class=\"edge\">\n<title>0&#45;&gt;1</title>\n<path fill=\"none\" stroke=\"black\" d=\"M31.55,-32.69C42.83,-29.53 58.19,-25.22 70.48,-21.78\"/>\n<polygon fill=\"black\" stroke=\"black\" points=\"71.19,-23.39 75.54,-20.36 70.25,-20.02 71.19,-23.39\"/>\n<text text-anchor=\"middle\" x=\"47.52\" y=\"-31.03\" font-family=\"Times,serif\" font-size=\"14.00\">1</text>\n</g>\n<!-- 2 -->\n<g id=\"node3\" class=\"node\">\n<title>2</title>\n<ellipse fill=\"white\" stroke=\"black\" cx=\"36.65\" cy=\"-112.31\" rx=\"16\" ry=\"16\"/>\n<text text-anchor=\"middle\" x=\"36.65\" y=\"-108.61\" font-family=\"Times,serif\" font-size=\"14.00\">C</text>\n</g>\n<!-- 0&#45;&gt;2 -->\n<g id=\"edge2\" class=\"edge\">\n<title>0&#45;&gt;2</title>\n<path fill=\"none\" stroke=\"black\" d=\"M20.28,-52.65C23.38,-63.95 27.61,-79.35 30.99,-91.67\"/>\n<polygon fill=\"black\" stroke=\"black\" points=\"29.37,-92.38 32.38,-96.74 32.74,-91.46 29.37,-92.38\"/>\n<text text-anchor=\"middle\" x=\"22.13\" y=\"-75.96\" font-family=\"Times,serif\" font-size=\"14.00\">3</text>\n</g>\n<!-- 3 -->\n<g id=\"node4\" class=\"node\">\n<title>3</title>\n<ellipse fill=\"white\" stroke=\"black\" cx=\"111.67\" cy=\"-91.15\" rx=\"16\" ry=\"16\"/>\n<text text-anchor=\"middle\" x=\"111.67\" y=\"-87.45\" font-family=\"Times,serif\" font-size=\"14.00\">D</text>\n</g>\n<!-- 1&#45;&gt;3 -->\n<g id=\"edge3\" class=\"edge\">\n<title>1&#45;&gt;3</title>\n<path fill=\"none\" stroke=\"black\" d=\"M95.34,-31.57C98.43,-42.86 102.65,-58.23 106.02,-70.53\"/>\n<polygon fill=\"black\" stroke=\"black\" points=\"104.4,-71.24 107.41,-75.6 107.77,-70.31 104.4,-71.24\"/>\n<text text-anchor=\"middle\" x=\"97.18\" y=\"-54.85\" font-family=\"Times,serif\" font-size=\"14.00\">1</text>\n</g>\n<!-- 4 -->\n<g id=\"node5\" class=\"node\">\n<title>4</title>\n<ellipse fill=\"white\" stroke=\"black\" cx=\"90.78\" cy=\"-159.97\" rx=\"16\" ry=\"16\"/>\n<text text-anchor=\"middle\" x=\"90.78\" y=\"-156.27\" font-family=\"Times,serif\" font-size=\"14.00\">E</text>\n</g>\n<!-- 2&#45;&gt;4 -->\n<g id=\"edge4\" class=\"edge\">\n<title>2&#45;&gt;4</title>\n<path fill=\"none\" stroke=\"black\" d=\"M48.67,-122.89C56.27,-129.59 66.19,-138.32 74.49,-145.64\"/>\n<polygon fill=\"black\" stroke=\"black\" points=\"73.51,-147.11 78.42,-149.1 75.83,-144.48 73.51,-147.11\"/>\n<text text-anchor=\"middle\" x=\"58.08\" y=\"-138.06\" font-family=\"Times,serif\" font-size=\"14.00\">2</text>\n</g>\n<!-- 3&#45;&gt;2 -->\n<g id=\"edge5\" class=\"edge\">\n<title>3&#45;&gt;2</title>\n<path fill=\"none\" stroke=\"black\" d=\"M96.13,-95.53C84.86,-98.71 69.52,-103.04 57.23,-106.51\"/>\n<polygon fill=\"black\" stroke=\"black\" points=\"56.51,-104.89 52.18,-107.93 57.46,-108.26 56.51,-104.89\"/>\n<text text-anchor=\"middle\" x=\"73.18\" y=\"-104.82\" font-family=\"Times,serif\" font-size=\"14.00\">2</text>\n</g>\n<!-- 3&#45;&gt;4 -->\n<g id=\"edge6\" class=\"edge\">\n<title>3&#45;&gt;4</title>\n<path fill=\"none\" stroke=\"black\" d=\"M106.93,-106.77C103.99,-116.45 100.18,-128.99 97,-139.46\"/>\n<polygon fill=\"black\" stroke=\"black\" points=\"95.28,-139.13 95.5,-144.42 98.63,-140.14 95.28,-139.13\"/>\n<text text-anchor=\"middle\" x=\"98.47\" y=\"-126.91\" font-family=\"Times,serif\" font-size=\"14.00\">5</text>\n</g>\n</g>\n</svg>\n",
      "text/plain": [
       "<graphviz.graphs.Digraph at 0x7fe02ffe4970>"
      ]
     },
     "execution_count": 129,
     "metadata": {},
     "output_type": "execute_result"
    }
   ],
   "source": [
    "explo.view()"
   ]
  },
  {
   "cell_type": "code",
   "execution_count": 130,
   "id": "26ec4fdd",
   "metadata": {},
   "outputs": [
    {
     "name": "stdout",
     "output_type": "stream",
     "text": [
      "From[0] Pos[0] to[1] : => : from_pos[0] + next_cost[1] = 1\n",
      "From[0] Pos[0] to[2] : => : from_pos[0] + next_cost[3] = 3\n",
      "{0: 0, 1: 1, 2: 3, 3: inf, 4: inf}\n",
      "From[0] Pos[1] to[3] : => : from_pos[1] + next_cost[1] = 2\n",
      "{0: 0, 1: 1, 2: 3, 3: 2, 4: inf}\n",
      "From[0] Pos[3] to[2] : => : from_pos[2] + next_cost[2] = 4\n",
      "From[0] Pos[3] to[4] : => : from_pos[2] + next_cost[5] = 7\n",
      "{0: 0, 1: 1, 2: 3, 3: 2, 4: 7}\n",
      "From[0] Pos[2] to[4] : => : from_pos[3] + next_cost[2] = 5\n",
      "{0: 0, 1: 1, 2: 3, 3: 2, 4: 5}\n",
      "{0: 0, 1: 1, 2: 3, 3: 2, 4: 5}\n",
      "Le chemin le plus court entre 0 et 4 est le suivant : [4, 2, 0] avec une distance total de : 5\n"
     ]
    },
    {
     "data": {
      "image/svg+xml": "<?xml version=\"1.0\" encoding=\"UTF-8\" standalone=\"no\"?>\n<!DOCTYPE svg PUBLIC \"-//W3C//DTD SVG 1.1//EN\"\n \"http://www.w3.org/Graphics/SVG/1.1/DTD/svg11.dtd\">\n<!-- Generated by graphviz version 2.50.0 (20211204.2007)\n -->\n<!-- Pages: 1 -->\n<svg width=\"136pt\" height=\"184pt\"\n viewBox=\"0.00 0.00 135.67 183.97\" xmlns=\"http://www.w3.org/2000/svg\" xmlns:xlink=\"http://www.w3.org/1999/xlink\">\n<g id=\"graph0\" class=\"graph\" transform=\"scale(1 1) rotate(0) translate(4 179.97)\">\n<polygon fill=\"white\" stroke=\"transparent\" points=\"-4,4 -4,-179.97 131.67,-179.97 131.67,4 -4,4\"/>\n<!-- 0 -->\n<g id=\"node1\" class=\"node\">\n<title>0</title>\n<ellipse fill=\"#ff8247\" stroke=\"black\" cx=\"16\" cy=\"-37.06\" rx=\"16\" ry=\"16\"/>\n<text text-anchor=\"middle\" x=\"16\" y=\"-33.36\" font-family=\"Times,serif\" font-size=\"14.00\">A</text>\n</g>\n<!-- 1 -->\n<g id=\"node2\" class=\"node\">\n<title>1</title>\n<ellipse fill=\"white\" stroke=\"black\" cx=\"91.07\" cy=\"-16\" rx=\"16\" ry=\"16\"/>\n<text text-anchor=\"middle\" x=\"91.07\" y=\"-12.3\" font-family=\"Times,serif\" font-size=\"14.00\">A1B</text>\n</g>\n<!-- 0&#45;&gt;1 -->\n<g id=\"edge1\" class=\"edge\">\n<title>0&#45;&gt;1</title>\n<path fill=\"none\" stroke=\"black\" d=\"M31.55,-32.69C42.83,-29.53 58.19,-25.22 70.48,-21.78\"/>\n<polygon fill=\"black\" stroke=\"black\" points=\"71.19,-23.39 75.54,-20.36 70.25,-20.02 71.19,-23.39\"/>\n<text text-anchor=\"middle\" x=\"47.52\" y=\"-31.03\" font-family=\"Times,serif\" font-size=\"14.00\">1</text>\n</g>\n<!-- 2 -->\n<g id=\"node3\" class=\"node\">\n<title>2</title>\n<ellipse fill=\"#ffb5c5\" stroke=\"black\" cx=\"36.65\" cy=\"-112.31\" rx=\"16\" ry=\"16\"/>\n<text text-anchor=\"middle\" x=\"36.65\" y=\"-108.61\" font-family=\"Times,serif\" font-size=\"14.00\">A3C</text>\n</g>\n<!-- 0&#45;&gt;2 -->\n<g id=\"edge2\" class=\"edge\">\n<title>0&#45;&gt;2</title>\n<path fill=\"none\" stroke=\"black\" d=\"M20.28,-52.65C23.38,-63.95 27.61,-79.35 30.99,-91.67\"/>\n<polygon fill=\"black\" stroke=\"black\" points=\"29.37,-92.38 32.38,-96.74 32.74,-91.46 29.37,-92.38\"/>\n<text text-anchor=\"middle\" x=\"22.13\" y=\"-75.96\" font-family=\"Times,serif\" font-size=\"14.00\">3</text>\n</g>\n<!-- 3 -->\n<g id=\"node4\" class=\"node\">\n<title>3</title>\n<ellipse fill=\"white\" stroke=\"black\" cx=\"111.67\" cy=\"-91.15\" rx=\"16\" ry=\"16\"/>\n<text text-anchor=\"middle\" x=\"111.67\" y=\"-87.45\" font-family=\"Times,serif\" font-size=\"14.00\">B2D</text>\n</g>\n<!-- 1&#45;&gt;3 -->\n<g id=\"edge3\" class=\"edge\">\n<title>1&#45;&gt;3</title>\n<path fill=\"none\" stroke=\"black\" d=\"M95.34,-31.57C98.43,-42.86 102.65,-58.23 106.02,-70.53\"/>\n<polygon fill=\"black\" stroke=\"black\" points=\"104.4,-71.24 107.41,-75.6 107.77,-70.31 104.4,-71.24\"/>\n<text text-anchor=\"middle\" x=\"97.18\" y=\"-54.85\" font-family=\"Times,serif\" font-size=\"14.00\">1</text>\n</g>\n<!-- 4 -->\n<g id=\"node5\" class=\"node\">\n<title>4</title>\n<ellipse fill=\"lightgreen\" stroke=\"black\" cx=\"90.78\" cy=\"-159.97\" rx=\"16\" ry=\"16\"/>\n<text text-anchor=\"middle\" x=\"90.78\" y=\"-156.27\" font-family=\"Times,serif\" font-size=\"14.00\">C5E</text>\n</g>\n<!-- 2&#45;&gt;4 -->\n<g id=\"edge4\" class=\"edge\">\n<title>2&#45;&gt;4</title>\n<path fill=\"none\" stroke=\"black\" d=\"M48.67,-122.89C56.27,-129.59 66.19,-138.32 74.49,-145.64\"/>\n<polygon fill=\"black\" stroke=\"black\" points=\"73.51,-147.11 78.42,-149.1 75.83,-144.48 73.51,-147.11\"/>\n<text text-anchor=\"middle\" x=\"58.08\" y=\"-138.06\" font-family=\"Times,serif\" font-size=\"14.00\">2</text>\n</g>\n<!-- 3&#45;&gt;2 -->\n<g id=\"edge5\" class=\"edge\">\n<title>3&#45;&gt;2</title>\n<path fill=\"none\" stroke=\"black\" d=\"M96.13,-95.53C84.86,-98.71 69.52,-103.04 57.23,-106.51\"/>\n<polygon fill=\"black\" stroke=\"black\" points=\"56.51,-104.89 52.18,-107.93 57.46,-108.26 56.51,-104.89\"/>\n<text text-anchor=\"middle\" x=\"73.18\" y=\"-104.82\" font-family=\"Times,serif\" font-size=\"14.00\">2</text>\n</g>\n<!-- 3&#45;&gt;4 -->\n<g id=\"edge6\" class=\"edge\">\n<title>3&#45;&gt;4</title>\n<path fill=\"none\" stroke=\"black\" d=\"M106.93,-106.77C103.99,-116.45 100.18,-128.99 97,-139.46\"/>\n<polygon fill=\"black\" stroke=\"black\" points=\"95.28,-139.13 95.5,-144.42 98.63,-140.14 95.28,-139.13\"/>\n<text text-anchor=\"middle\" x=\"98.47\" y=\"-126.91\" font-family=\"Times,serif\" font-size=\"14.00\">5</text>\n</g>\n</g>\n</svg>\n",
      "text/plain": [
       "<graphviz.graphs.Digraph at 0x7fe02ffe4970>"
      ]
     },
     "execution_count": 130,
     "metadata": {},
     "output_type": "execute_result"
    }
   ],
   "source": [
    "explo.solve(False)"
   ]
  },
  {
   "cell_type": "code",
   "execution_count": 131,
   "id": "485afe95",
   "metadata": {},
   "outputs": [
    {
     "data": {
      "text/plain": [
       "[4, 2, 0]"
      ]
     },
     "execution_count": 131,
     "metadata": {},
     "output_type": "execute_result"
    }
   ],
   "source": [
    "explo.shortest_path"
   ]
  },
  {
   "cell_type": "code",
   "execution_count": 132,
   "id": "9a0f3408",
   "metadata": {},
   "outputs": [
    {
     "data": {
      "text/plain": [
       "{0: 0, 1: 1, 2: 3, 3: 2, 4: 5}"
      ]
     },
     "execution_count": 132,
     "metadata": {},
     "output_type": "execute_result"
    }
   ],
   "source": [
    "explo.dist"
   ]
  },
  {
   "cell_type": "code",
   "execution_count": 133,
   "id": "77b0da42",
   "metadata": {},
   "outputs": [
    {
     "data": {
      "text/plain": [
       "{1: 0, 2: 0, 3: 1, 4: 2}"
      ]
     },
     "execution_count": 133,
     "metadata": {},
     "output_type": "execute_result"
    }
   ],
   "source": [
    "explo.pred"
   ]
  },
  {
   "cell_type": "code",
   "execution_count": 134,
   "id": "7e32ecf5",
   "metadata": {},
   "outputs": [
    {
     "data": {
      "text/plain": [
       "{0, 1, 2, 3, 4}"
      ]
     },
     "execution_count": 134,
     "metadata": {},
     "output_type": "execute_result"
    }
   ],
   "source": [
    "explo.visited"
   ]
  },
  {
   "cell_type": "code",
   "execution_count": 135,
   "id": "2b61eea7",
   "metadata": {},
   "outputs": [
    {
     "data": {
      "text/plain": [
       "5"
      ]
     },
     "execution_count": 135,
     "metadata": {},
     "output_type": "execute_result"
    }
   ],
   "source": [
    "explo.distance(explo.end)"
   ]
  },
  {
   "cell_type": "code",
   "execution_count": 136,
   "id": "c00df229",
   "metadata": {},
   "outputs": [
    {
     "data": {
      "image/svg+xml": "<?xml version=\"1.0\" encoding=\"UTF-8\" standalone=\"no\"?>\n<!DOCTYPE svg PUBLIC \"-//W3C//DTD SVG 1.1//EN\"\n \"http://www.w3.org/Graphics/SVG/1.1/DTD/svg11.dtd\">\n<!-- Generated by graphviz version 2.50.0 (20211204.2007)\n -->\n<!-- Pages: 1 -->\n<svg width=\"136pt\" height=\"184pt\"\n viewBox=\"0.00 0.00 135.67 183.97\" xmlns=\"http://www.w3.org/2000/svg\" xmlns:xlink=\"http://www.w3.org/1999/xlink\">\n<g id=\"graph0\" class=\"graph\" transform=\"scale(1 1) rotate(0) translate(4 179.97)\">\n<polygon fill=\"white\" stroke=\"transparent\" points=\"-4,4 -4,-179.97 131.67,-179.97 131.67,4 -4,4\"/>\n<!-- 0 -->\n<g id=\"node1\" class=\"node\">\n<title>0</title>\n<ellipse fill=\"#ff8247\" stroke=\"black\" cx=\"16\" cy=\"-37.06\" rx=\"16\" ry=\"16\"/>\n<text text-anchor=\"middle\" x=\"16\" y=\"-33.36\" font-family=\"Times,serif\" font-size=\"14.00\">A</text>\n</g>\n<!-- 1 -->\n<g id=\"node2\" class=\"node\">\n<title>1</title>\n<ellipse fill=\"white\" stroke=\"black\" cx=\"91.07\" cy=\"-16\" rx=\"16\" ry=\"16\"/>\n<text text-anchor=\"middle\" x=\"91.07\" y=\"-12.3\" font-family=\"Times,serif\" font-size=\"14.00\">A1B</text>\n</g>\n<!-- 0&#45;&gt;1 -->\n<g id=\"edge1\" class=\"edge\">\n<title>0&#45;&gt;1</title>\n<path fill=\"none\" stroke=\"black\" d=\"M31.55,-32.69C42.83,-29.53 58.19,-25.22 70.48,-21.78\"/>\n<polygon fill=\"black\" stroke=\"black\" points=\"71.19,-23.39 75.54,-20.36 70.25,-20.02 71.19,-23.39\"/>\n<text text-anchor=\"middle\" x=\"47.52\" y=\"-31.03\" font-family=\"Times,serif\" font-size=\"14.00\">1</text>\n</g>\n<!-- 2 -->\n<g id=\"node3\" class=\"node\">\n<title>2</title>\n<ellipse fill=\"#ffb5c5\" stroke=\"black\" cx=\"36.65\" cy=\"-112.31\" rx=\"16\" ry=\"16\"/>\n<text text-anchor=\"middle\" x=\"36.65\" y=\"-108.61\" font-family=\"Times,serif\" font-size=\"14.00\">A3C</text>\n</g>\n<!-- 0&#45;&gt;2 -->\n<g id=\"edge2\" class=\"edge\">\n<title>0&#45;&gt;2</title>\n<path fill=\"none\" stroke=\"black\" d=\"M20.28,-52.65C23.38,-63.95 27.61,-79.35 30.99,-91.67\"/>\n<polygon fill=\"black\" stroke=\"black\" points=\"29.37,-92.38 32.38,-96.74 32.74,-91.46 29.37,-92.38\"/>\n<text text-anchor=\"middle\" x=\"22.13\" y=\"-75.96\" font-family=\"Times,serif\" font-size=\"14.00\">3</text>\n</g>\n<!-- 3 -->\n<g id=\"node4\" class=\"node\">\n<title>3</title>\n<ellipse fill=\"white\" stroke=\"black\" cx=\"111.67\" cy=\"-91.15\" rx=\"16\" ry=\"16\"/>\n<text text-anchor=\"middle\" x=\"111.67\" y=\"-87.45\" font-family=\"Times,serif\" font-size=\"14.00\">B2D</text>\n</g>\n<!-- 1&#45;&gt;3 -->\n<g id=\"edge3\" class=\"edge\">\n<title>1&#45;&gt;3</title>\n<path fill=\"none\" stroke=\"black\" d=\"M95.34,-31.57C98.43,-42.86 102.65,-58.23 106.02,-70.53\"/>\n<polygon fill=\"black\" stroke=\"black\" points=\"104.4,-71.24 107.41,-75.6 107.77,-70.31 104.4,-71.24\"/>\n<text text-anchor=\"middle\" x=\"97.18\" y=\"-54.85\" font-family=\"Times,serif\" font-size=\"14.00\">1</text>\n</g>\n<!-- 4 -->\n<g id=\"node5\" class=\"node\">\n<title>4</title>\n<ellipse fill=\"lightgreen\" stroke=\"black\" cx=\"90.78\" cy=\"-159.97\" rx=\"16\" ry=\"16\"/>\n<text text-anchor=\"middle\" x=\"90.78\" y=\"-156.27\" font-family=\"Times,serif\" font-size=\"14.00\">C5E</text>\n</g>\n<!-- 2&#45;&gt;4 -->\n<g id=\"edge4\" class=\"edge\">\n<title>2&#45;&gt;4</title>\n<path fill=\"none\" stroke=\"black\" d=\"M48.67,-122.89C56.27,-129.59 66.19,-138.32 74.49,-145.64\"/>\n<polygon fill=\"black\" stroke=\"black\" points=\"73.51,-147.11 78.42,-149.1 75.83,-144.48 73.51,-147.11\"/>\n<text text-anchor=\"middle\" x=\"58.08\" y=\"-138.06\" font-family=\"Times,serif\" font-size=\"14.00\">2</text>\n</g>\n<!-- 3&#45;&gt;2 -->\n<g id=\"edge5\" class=\"edge\">\n<title>3&#45;&gt;2</title>\n<path fill=\"none\" stroke=\"black\" d=\"M96.13,-95.53C84.86,-98.71 69.52,-103.04 57.23,-106.51\"/>\n<polygon fill=\"black\" stroke=\"black\" points=\"56.51,-104.89 52.18,-107.93 57.46,-108.26 56.51,-104.89\"/>\n<text text-anchor=\"middle\" x=\"73.18\" y=\"-104.82\" font-family=\"Times,serif\" font-size=\"14.00\">2</text>\n</g>\n<!-- 3&#45;&gt;4 -->\n<g id=\"edge6\" class=\"edge\">\n<title>3&#45;&gt;4</title>\n<path fill=\"none\" stroke=\"black\" d=\"M106.93,-106.77C103.99,-116.45 100.18,-128.99 97,-139.46\"/>\n<polygon fill=\"black\" stroke=\"black\" points=\"95.28,-139.13 95.5,-144.42 98.63,-140.14 95.28,-139.13\"/>\n<text text-anchor=\"middle\" x=\"98.47\" y=\"-126.91\" font-family=\"Times,serif\" font-size=\"14.00\">5</text>\n</g>\n</g>\n</svg>\n",
      "text/plain": [
       "<graphviz.graphs.Digraph at 0x7fe02ffe4970>"
      ]
     },
     "execution_count": 136,
     "metadata": {},
     "output_type": "execute_result"
    }
   ],
   "source": [
    "explo.view()"
   ]
  }
 ],
 "metadata": {
  "kernelspec": {
   "display_name": "Python 3 (ipykernel)",
   "language": "python",
   "name": "python3"
  },
  "language_info": {
   "codemirror_mode": {
    "name": "ipython",
    "version": 3
   },
   "file_extension": ".py",
   "mimetype": "text/x-python",
   "name": "python",
   "nbconvert_exporter": "python",
   "pygments_lexer": "ipython3",
   "version": "3.9.7"
  }
 },
 "nbformat": 4,
 "nbformat_minor": 5
}
